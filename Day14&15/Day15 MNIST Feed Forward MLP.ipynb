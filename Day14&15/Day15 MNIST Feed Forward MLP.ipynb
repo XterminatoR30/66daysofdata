{
 "cells": [
  {
   "cell_type": "markdown",
   "id": "746159c6",
   "metadata": {},
   "source": [
    "Label Binarizer: Used to One-Hot Encode the integer labels as vector labels"
   ]
  },
  {
   "cell_type": "code",
   "execution_count": 1,
   "id": "71eb241a",
   "metadata": {},
   "outputs": [],
   "source": [
    "import numpy as np\n",
    "import matplotlib.pyplot as plt\n",
    "import argparse\n",
    "\n",
    "from sklearn.preprocessing import LabelBinarizer\n",
    "from sklearn.metrics import classification_report\n",
    "\n",
    "from tensorflow.keras.models import Sequential\n",
    "from tensorflow.keras.layers import Dense\n",
    "from tensorflow.keras.optimizers import SGD\n",
    "from tensorflow.keras.datasets import mnist\n",
    "from tensorflow.keras import backend as K"
   ]
  },
  {
   "cell_type": "code",
   "execution_count": 2,
   "id": "531e0c55",
   "metadata": {
    "scrolled": true
   },
   "outputs": [
    {
     "name": "stdout",
     "output_type": "stream",
     "text": [
      "(60000, 28, 28)\n",
      "(60000,)\n"
     ]
    }
   ],
   "source": [
    "((x_train,y_train),(x_test,y_test))=mnist.load_data()\n",
    "print(x_train.shape)\n",
    "print(y_train.shape)"
   ]
  },
  {
   "cell_type": "code",
   "execution_count": 3,
   "id": "07bff94e",
   "metadata": {
    "scrolled": true
   },
   "outputs": [
    {
     "name": "stdout",
     "output_type": "stream",
     "text": [
      "(10000, 28, 28)\n",
      "(10000,)\n"
     ]
    }
   ],
   "source": [
    "print(x_test.shape)\n",
    "print(y_test.shape)"
   ]
  },
  {
   "cell_type": "code",
   "execution_count": 4,
   "id": "79a01640",
   "metadata": {
    "scrolled": true
   },
   "outputs": [
    {
     "name": "stdout",
     "output_type": "stream",
     "text": [
      "60000\n",
      "10000\n"
     ]
    }
   ],
   "source": [
    "print(x_train.shape[0])\n",
    "print(x_test.shape[0])"
   ]
  },
  {
   "cell_type": "code",
   "execution_count": 5,
   "id": "b9d6110a",
   "metadata": {
    "scrolled": true
   },
   "outputs": [
    {
     "name": "stdout",
     "output_type": "stream",
     "text": [
      "(60000, 784)\n",
      "(10000, 784)\n"
     ]
    }
   ],
   "source": [
    "#FLATTENING INPUT IMAGE to 784\n",
    "x_reshape_train=x_train.reshape((x_train.shape[0],28*28*1))\n",
    "x_reshape_test=x_test.reshape((x_test.shape[0],28*28*1))\n",
    "print(x_reshape_train.shape)\n",
    "print(x_reshape_test.shape)"
   ]
  },
  {
   "cell_type": "code",
   "execution_count": 6,
   "id": "4fe0ad4f",
   "metadata": {
    "scrolled": false
   },
   "outputs": [
    {
     "data": {
      "text/plain": [
       "array([[0, 0, 0, ..., 0, 0, 0],\n",
       "       [0, 0, 0, ..., 0, 0, 0],\n",
       "       [0, 0, 0, ..., 0, 0, 0],\n",
       "       ...,\n",
       "       [0, 0, 0, ..., 0, 0, 0],\n",
       "       [0, 0, 0, ..., 0, 0, 0],\n",
       "       [0, 0, 0, ..., 0, 0, 0]], dtype=uint8)"
      ]
     },
     "execution_count": 6,
     "metadata": {},
     "output_type": "execute_result"
    }
   ],
   "source": [
    "x_reshape_train"
   ]
  },
  {
   "cell_type": "code",
   "execution_count": 9,
   "id": "87022479",
   "metadata": {},
   "outputs": [
    {
     "data": {
      "text/plain": [
       "array([[0., 0., 0., ..., 0., 0., 0.],\n",
       "       [0., 0., 0., ..., 0., 0., 0.],\n",
       "       [0., 0., 0., ..., 0., 0., 0.],\n",
       "       ...,\n",
       "       [0., 0., 0., ..., 0., 0., 0.],\n",
       "       [0., 0., 0., ..., 0., 0., 0.],\n",
       "       [0., 0., 0., ..., 0., 0., 0.]], dtype=float32)"
      ]
     },
     "execution_count": 9,
     "metadata": {},
     "output_type": "execute_result"
    }
   ],
   "source": [
    "x_new_test"
   ]
  },
  {
   "cell_type": "code",
   "execution_count": 8,
   "id": "c57977d8",
   "metadata": {
    "scrolled": true
   },
   "outputs": [
    {
     "name": "stdout",
     "output_type": "stream",
     "text": [
      "(60000, 784)\n"
     ]
    }
   ],
   "source": [
    "#NORMALIZATION scaling pixels from 0 to 1\n",
    "x_new_train=x_reshape_train.astype(\"float32\")\n",
    "x_new_test=x_reshape_test.astype(\"float32\")\n",
    "print(x_new_train.shape)"
   ]
  },
  {
   "cell_type": "code",
   "execution_count": 11,
   "id": "3abb7c19",
   "metadata": {
    "scrolled": false
   },
   "outputs": [
    {
     "name": "stdout",
     "output_type": "stream",
     "text": [
      "[[0 0 0 ... 0 0 0]\n",
      " [1 0 0 ... 0 0 0]\n",
      " [0 0 0 ... 0 0 0]\n",
      " ...\n",
      " [0 0 0 ... 0 0 0]\n",
      " [0 0 0 ... 0 0 0]\n",
      " [0 0 0 ... 0 1 0]]\n",
      "[[0 0 0 ... 1 0 0]\n",
      " [0 0 1 ... 0 0 0]\n",
      " [0 1 0 ... 0 0 0]\n",
      " ...\n",
      " [0 0 0 ... 0 0 0]\n",
      " [0 0 0 ... 0 0 0]\n",
      " [0 0 0 ... 0 0 0]]\n"
     ]
    }
   ],
   "source": [
    "#[1,0,0,0,0,0,0,0,0] -> Class 0/ Angka 0\n",
    "#One Hot Encoding each number class\n",
    "#Vector labels\n",
    "\n",
    "lb=LabelBinarizer()\n",
    "y_train=lb.fit_transform(y_train)\n",
    "y_test=lb.transform(y_test)\n",
    "print(y_train)\n",
    "print(y_test)"
   ]
  },
  {
   "cell_type": "code",
   "execution_count": 18,
   "id": "d1d92543",
   "metadata": {},
   "outputs": [
    {
     "name": "stdout",
     "output_type": "stream",
     "text": [
      "LabelBinarizer(neg_label=0, pos_label=1, sparse_output=False)\n"
     ]
    }
   ],
   "source": [
    "print(lb)"
   ]
  },
  {
   "cell_type": "markdown",
   "id": "20346555",
   "metadata": {},
   "source": [
    "Malfunctioning Early Stopping, still researching why"
   ]
  },
  {
   "cell_type": "code",
   "execution_count": 15,
   "id": "3ca90e4b",
   "metadata": {
    "scrolled": true
   },
   "outputs": [
    {
     "name": "stdout",
     "output_type": "stream",
     "text": [
      "Epoch 1/100\n",
      "WARNING:tensorflow:AutoGraph could not transform <function Model.make_train_function.<locals>.train_function at 0x000001EA3B71CAE8> and will run it as-is.\n",
      "Please report this to the TensorFlow team. When filing the bug, set the verbosity to 10 (on Linux, `export AUTOGRAPH_VERBOSITY=10`) and attach the full output.\n",
      "Cause: 'arguments' object has no attribute 'posonlyargs'\n",
      "To silence this warning, decorate the function with @tf.autograph.experimental.do_not_convert\n",
      "WARNING: AutoGraph could not transform <function Model.make_train_function.<locals>.train_function at 0x000001EA3B71CAE8> and will run it as-is.\n",
      "Please report this to the TensorFlow team. When filing the bug, set the verbosity to 10 (on Linux, `export AUTOGRAPH_VERBOSITY=10`) and attach the full output.\n",
      "Cause: 'arguments' object has no attribute 'posonlyargs'\n",
      "To silence this warning, decorate the function with @tf.autograph.experimental.do_not_convert\n",
      "463/469 [============================>.] - ETA: 0s - loss: 2.0305 - accuracy: 0.4380WARNING:tensorflow:AutoGraph could not transform <function Model.make_test_function.<locals>.test_function at 0x000001EA3C821AE8> and will run it as-is.\n",
      "Please report this to the TensorFlow team. When filing the bug, set the verbosity to 10 (on Linux, `export AUTOGRAPH_VERBOSITY=10`) and attach the full output.\n",
      "Cause: 'arguments' object has no attribute 'posonlyargs'\n",
      "To silence this warning, decorate the function with @tf.autograph.experimental.do_not_convert\n",
      "WARNING: AutoGraph could not transform <function Model.make_test_function.<locals>.test_function at 0x000001EA3C821AE8> and will run it as-is.\n",
      "Please report this to the TensorFlow team. When filing the bug, set the verbosity to 10 (on Linux, `export AUTOGRAPH_VERBOSITY=10`) and attach the full output.\n",
      "Cause: 'arguments' object has no attribute 'posonlyargs'\n",
      "To silence this warning, decorate the function with @tf.autograph.experimental.do_not_convert\n",
      "469/469 [==============================] - 2s 4ms/step - loss: 2.0264 - accuracy: 0.4407 - val_loss: 1.2939 - val_accuracy: 0.7960\n",
      "Epoch 2/100\n",
      "469/469 [==============================] - 1s 3ms/step - loss: 1.1662 - accuracy: 0.8011 - val_loss: 0.8390 - val_accuracy: 0.8442\n",
      "Epoch 3/100\n",
      "469/469 [==============================] - 1s 3ms/step - loss: 0.7878 - accuracy: 0.8485 - val_loss: 0.6246 - val_accuracy: 0.8747\n",
      "Epoch 4/100\n",
      "469/469 [==============================] - 1s 3ms/step - loss: 0.5958 - accuracy: 0.8768 - val_loss: 0.5082 - val_accuracy: 0.8903\n",
      "Epoch 5/100\n",
      "469/469 [==============================] - 1s 3ms/step - loss: 0.4967 - accuracy: 0.8897 - val_loss: 0.4368 - val_accuracy: 0.9019\n",
      "Epoch 6/100\n",
      "469/469 [==============================] - 1s 3ms/step - loss: 0.4282 - accuracy: 0.9010 - val_loss: 0.3892 - val_accuracy: 0.9052\n",
      "Epoch 7/100\n",
      "469/469 [==============================] - 1s 3ms/step - loss: 0.3799 - accuracy: 0.9061 - val_loss: 0.3538 - val_accuracy: 0.9133\n",
      "Epoch 8/100\n",
      "469/469 [==============================] - 1s 3ms/step - loss: 0.3493 - accuracy: 0.9115 - val_loss: 0.3308 - val_accuracy: 0.9156\n",
      "Epoch 9/100\n",
      "469/469 [==============================] - 1s 3ms/step - loss: 0.3242 - accuracy: 0.9162 - val_loss: 0.3118 - val_accuracy: 0.9190\n",
      "Epoch 10/100\n",
      "469/469 [==============================] - 1s 3ms/step - loss: 0.3037 - accuracy: 0.9216 - val_loss: 0.2967 - val_accuracy: 0.9214\n",
      "Epoch 11/100\n",
      "469/469 [==============================] - 1s 3ms/step - loss: 0.2861 - accuracy: 0.9259 - val_loss: 0.2813 - val_accuracy: 0.9238\n",
      "Epoch 12/100\n",
      "469/469 [==============================] - 1s 3ms/step - loss: 0.2671 - accuracy: 0.9300 - val_loss: 0.2706 - val_accuracy: 0.9269\n",
      "Epoch 13/100\n",
      "469/469 [==============================] - 1s 3ms/step - loss: 0.2596 - accuracy: 0.9303 - val_loss: 0.2603 - val_accuracy: 0.9297\n",
      "Epoch 14/100\n",
      "469/469 [==============================] - 1s 3ms/step - loss: 0.2474 - accuracy: 0.9344 - val_loss: 0.2518 - val_accuracy: 0.9309\n",
      "Epoch 15/100\n",
      "469/469 [==============================] - 1s 3ms/step - loss: 0.2369 - accuracy: 0.9363 - val_loss: 0.2427 - val_accuracy: 0.9325\n",
      "Epoch 16/100\n",
      "469/469 [==============================] - 2s 3ms/step - loss: 0.2261 - accuracy: 0.9395 - val_loss: 0.2361 - val_accuracy: 0.9361\n",
      "Epoch 17/100\n",
      "469/469 [==============================] - 2s 3ms/step - loss: 0.2170 - accuracy: 0.9439 - val_loss: 0.2310 - val_accuracy: 0.9362\n",
      "Epoch 18/100\n",
      "469/469 [==============================] - 2s 3ms/step - loss: 0.2067 - accuracy: 0.9451 - val_loss: 0.2247 - val_accuracy: 0.9363\n",
      "Epoch 19/100\n",
      "469/469 [==============================] - 2s 3ms/step - loss: 0.2050 - accuracy: 0.9465 - val_loss: 0.2200 - val_accuracy: 0.9401\n",
      "Epoch 20/100\n",
      "469/469 [==============================] - 2s 3ms/step - loss: 0.1932 - accuracy: 0.9491 - val_loss: 0.2153 - val_accuracy: 0.9400\n",
      "Epoch 21/100\n",
      "469/469 [==============================] - 2s 4ms/step - loss: 0.1932 - accuracy: 0.9478 - val_loss: 0.2117 - val_accuracy: 0.9401\n",
      "Epoch 22/100\n",
      "469/469 [==============================] - 2s 3ms/step - loss: 0.1852 - accuracy: 0.9510 - val_loss: 0.2070 - val_accuracy: 0.9413\n",
      "Epoch 23/100\n",
      "469/469 [==============================] - 2s 3ms/step - loss: 0.1798 - accuracy: 0.9524 - val_loss: 0.2035 - val_accuracy: 0.9416\n",
      "Epoch 24/100\n",
      "469/469 [==============================] - 2s 3ms/step - loss: 0.1726 - accuracy: 0.9540 - val_loss: 0.1994 - val_accuracy: 0.9425\n",
      "Epoch 25/100\n",
      "469/469 [==============================] - 2s 3ms/step - loss: 0.1721 - accuracy: 0.9545 - val_loss: 0.1973 - val_accuracy: 0.9436\n",
      "Epoch 26/100\n",
      "469/469 [==============================] - 2s 3ms/step - loss: 0.1662 - accuracy: 0.9576 - val_loss: 0.1933 - val_accuracy: 0.9449\n",
      "Epoch 27/100\n",
      "469/469 [==============================] - 2s 3ms/step - loss: 0.1611 - accuracy: 0.9581 - val_loss: 0.1897 - val_accuracy: 0.9455\n",
      "Epoch 28/100\n",
      "469/469 [==============================] - 2s 3ms/step - loss: 0.1577 - accuracy: 0.9595 - val_loss: 0.1881 - val_accuracy: 0.9455\n",
      "Epoch 29/100\n",
      "469/469 [==============================] - 2s 3ms/step - loss: 0.1527 - accuracy: 0.9606 - val_loss: 0.1847 - val_accuracy: 0.9463\n",
      "Epoch 30/100\n",
      "469/469 [==============================] - 2s 4ms/step - loss: 0.1466 - accuracy: 0.9617 - val_loss: 0.1802 - val_accuracy: 0.9467\n",
      "Epoch 31/100\n",
      "469/469 [==============================] - 2s 3ms/step - loss: 0.1421 - accuracy: 0.9635 - val_loss: 0.1793 - val_accuracy: 0.9490\n",
      "Epoch 32/100\n",
      "469/469 [==============================] - 2s 3ms/step - loss: 0.1448 - accuracy: 0.9620 - val_loss: 0.1783 - val_accuracy: 0.9479\n",
      "Epoch 33/100\n",
      "469/469 [==============================] - 2s 3ms/step - loss: 0.1400 - accuracy: 0.9634 - val_loss: 0.1745 - val_accuracy: 0.9479\n",
      "Epoch 34/100\n",
      "469/469 [==============================] - 2s 3ms/step - loss: 0.1337 - accuracy: 0.9644 - val_loss: 0.1734 - val_accuracy: 0.9485\n",
      "Epoch 35/100\n",
      "469/469 [==============================] - 2s 3ms/step - loss: 0.1311 - accuracy: 0.9662 - val_loss: 0.1701 - val_accuracy: 0.9496\n",
      "Epoch 36/100\n",
      "469/469 [==============================] - 2s 3ms/step - loss: 0.1255 - accuracy: 0.9672 - val_loss: 0.1682 - val_accuracy: 0.9500\n",
      "Epoch 37/100\n",
      "469/469 [==============================] - 2s 4ms/step - loss: 0.1253 - accuracy: 0.9675 - val_loss: 0.1667 - val_accuracy: 0.9502\n",
      "Epoch 38/100\n",
      "469/469 [==============================] - 2s 4ms/step - loss: 0.1210 - accuracy: 0.9679 - val_loss: 0.1642 - val_accuracy: 0.9499\n",
      "Epoch 39/100\n",
      "469/469 [==============================] - 2s 4ms/step - loss: 0.1192 - accuracy: 0.9695 - val_loss: 0.1637 - val_accuracy: 0.9494\n",
      "Epoch 40/100\n",
      "469/469 [==============================] - 2s 4ms/step - loss: 0.1159 - accuracy: 0.9697 - val_loss: 0.1622 - val_accuracy: 0.9524\n",
      "Epoch 41/100\n",
      "469/469 [==============================] - 2s 4ms/step - loss: 0.1154 - accuracy: 0.9703 - val_loss: 0.1599 - val_accuracy: 0.9533\n",
      "Epoch 42/100\n",
      "469/469 [==============================] - 2s 4ms/step - loss: 0.1104 - accuracy: 0.9728 - val_loss: 0.1598 - val_accuracy: 0.9506\n",
      "Epoch 43/100\n",
      "469/469 [==============================] - 2s 4ms/step - loss: 0.1117 - accuracy: 0.9714 - val_loss: 0.1574 - val_accuracy: 0.9524\n",
      "Epoch 44/100\n"
     ]
    },
    {
     "name": "stdout",
     "output_type": "stream",
     "text": [
      "469/469 [==============================] - 2s 4ms/step - loss: 0.1050 - accuracy: 0.9745 - val_loss: 0.1556 - val_accuracy: 0.9536\n",
      "Epoch 45/100\n",
      "469/469 [==============================] - 2s 4ms/step - loss: 0.1036 - accuracy: 0.9741 - val_loss: 0.1550 - val_accuracy: 0.9538\n",
      "Epoch 46/100\n",
      "469/469 [==============================] - 2s 4ms/step - loss: 0.1011 - accuracy: 0.9756 - val_loss: 0.1545 - val_accuracy: 0.9530\n",
      "Epoch 47/100\n",
      "469/469 [==============================] - 2s 4ms/step - loss: 0.0984 - accuracy: 0.9760 - val_loss: 0.1541 - val_accuracy: 0.9539\n",
      "Epoch 48/100\n",
      "469/469 [==============================] - 2s 3ms/step - loss: 0.0965 - accuracy: 0.9759 - val_loss: 0.1519 - val_accuracy: 0.9542\n",
      "Epoch 49/100\n",
      "469/469 [==============================] - 2s 4ms/step - loss: 0.0989 - accuracy: 0.9761 - val_loss: 0.1511 - val_accuracy: 0.9537\n",
      "Epoch 50/100\n",
      "469/469 [==============================] - 2s 4ms/step - loss: 0.0907 - accuracy: 0.9783 - val_loss: 0.1497 - val_accuracy: 0.9535\n",
      "Epoch 51/100\n",
      "469/469 [==============================] - 2s 4ms/step - loss: 0.0917 - accuracy: 0.9781 - val_loss: 0.1488 - val_accuracy: 0.9549\n",
      "Epoch 52/100\n",
      "469/469 [==============================] - 2s 4ms/step - loss: 0.0905 - accuracy: 0.9783 - val_loss: 0.1477 - val_accuracy: 0.9545\n",
      "Epoch 53/100\n",
      "469/469 [==============================] - 2s 4ms/step - loss: 0.0873 - accuracy: 0.9791 - val_loss: 0.1477 - val_accuracy: 0.9547\n",
      "Epoch 54/100\n",
      "469/469 [==============================] - 2s 4ms/step - loss: 0.0904 - accuracy: 0.9789 - val_loss: 0.1474 - val_accuracy: 0.9546\n",
      "Epoch 55/100\n",
      "469/469 [==============================] - ETA: 0s - loss: 0.0864 - accuracy: 0.97 - 2s 4ms/step - loss: 0.0864 - accuracy: 0.9797 - val_loss: 0.1472 - val_accuracy: 0.9550\n",
      "Epoch 56/100\n",
      "469/469 [==============================] - 2s 4ms/step - loss: 0.0842 - accuracy: 0.9799 - val_loss: 0.1458 - val_accuracy: 0.9560\n",
      "Epoch 57/100\n",
      "469/469 [==============================] - 2s 4ms/step - loss: 0.0817 - accuracy: 0.9808 - val_loss: 0.1444 - val_accuracy: 0.9558\n",
      "Epoch 58/100\n",
      "469/469 [==============================] - 2s 4ms/step - loss: 0.0805 - accuracy: 0.9808 - val_loss: 0.1447 - val_accuracy: 0.9554\n",
      "Epoch 59/100\n",
      "469/469 [==============================] - 2s 4ms/step - loss: 0.0803 - accuracy: 0.9813 - val_loss: 0.1428 - val_accuracy: 0.9573\n",
      "Epoch 60/100\n",
      "469/469 [==============================] - 2s 4ms/step - loss: 0.0763 - accuracy: 0.9819 - val_loss: 0.1414 - val_accuracy: 0.9559\n",
      "Epoch 61/100\n",
      "469/469 [==============================] - 2s 4ms/step - loss: 0.0751 - accuracy: 0.9826 - val_loss: 0.1408 - val_accuracy: 0.9569\n",
      "Epoch 62/100\n",
      "469/469 [==============================] - 2s 4ms/step - loss: 0.0723 - accuracy: 0.9832 - val_loss: 0.1406 - val_accuracy: 0.9564\n",
      "Epoch 63/100\n",
      "469/469 [==============================] - 2s 4ms/step - loss: 0.0740 - accuracy: 0.9836 - val_loss: 0.1397 - val_accuracy: 0.9573\n",
      "Epoch 64/100\n",
      "469/469 [==============================] - 2s 4ms/step - loss: 0.0715 - accuracy: 0.9840 - val_loss: 0.1399 - val_accuracy: 0.9575\n",
      "Epoch 65/100\n",
      "469/469 [==============================] - 2s 4ms/step - loss: 0.0708 - accuracy: 0.9843 - val_loss: 0.1381 - val_accuracy: 0.9575\n",
      "Epoch 66/100\n",
      "469/469 [==============================] - 2s 4ms/step - loss: 0.0679 - accuracy: 0.9850 - val_loss: 0.1375 - val_accuracy: 0.9580\n",
      "Epoch 67/100\n",
      "469/469 [==============================] - 2s 4ms/step - loss: 0.0656 - accuracy: 0.9850 - val_loss: 0.1377 - val_accuracy: 0.9577\n",
      "Epoch 68/100\n",
      "469/469 [==============================] - 2s 4ms/step - loss: 0.0671 - accuracy: 0.9852 - val_loss: 0.1371 - val_accuracy: 0.9587\n",
      "Epoch 69/100\n",
      "469/469 [==============================] - 2s 4ms/step - loss: 0.0644 - accuracy: 0.9858 - val_loss: 0.1368 - val_accuracy: 0.9581\n",
      "Epoch 70/100\n",
      "469/469 [==============================] - 2s 4ms/step - loss: 0.0631 - accuracy: 0.9862 - val_loss: 0.1365 - val_accuracy: 0.9582\n",
      "Epoch 71/100\n",
      "469/469 [==============================] - 2s 4ms/step - loss: 0.0614 - accuracy: 0.9868 - val_loss: 0.1367 - val_accuracy: 0.9582\n",
      "Epoch 72/100\n",
      "469/469 [==============================] - 2s 4ms/step - loss: 0.0620 - accuracy: 0.9866 - val_loss: 0.1363 - val_accuracy: 0.9569\n",
      "Epoch 73/100\n",
      "469/469 [==============================] - 2s 4ms/step - loss: 0.0605 - accuracy: 0.9865 - val_loss: 0.1362 - val_accuracy: 0.9580\n",
      "Epoch 74/100\n",
      "469/469 [==============================] - 2s 4ms/step - loss: 0.0596 - accuracy: 0.9871 - val_loss: 0.1356 - val_accuracy: 0.9582\n",
      "Epoch 75/100\n",
      "469/469 [==============================] - 2s 4ms/step - loss: 0.0593 - accuracy: 0.9866 - val_loss: 0.1337 - val_accuracy: 0.9591\n",
      "Epoch 76/100\n",
      "469/469 [==============================] - 2s 4ms/step - loss: 0.0575 - accuracy: 0.9876 - val_loss: 0.1346 - val_accuracy: 0.9577\n",
      "Epoch 77/100\n",
      "469/469 [==============================] - 2s 4ms/step - loss: 0.0572 - accuracy: 0.9868 - val_loss: 0.1339 - val_accuracy: 0.9580\n",
      "Epoch 78/100\n",
      "469/469 [==============================] - 2s 4ms/step - loss: 0.0550 - accuracy: 0.9876 - val_loss: 0.1351 - val_accuracy: 0.9586\n",
      "Epoch 79/100\n",
      "469/469 [==============================] - 2s 4ms/step - loss: 0.0563 - accuracy: 0.9876 - val_loss: 0.1344 - val_accuracy: 0.9583\n",
      "Epoch 80/100\n",
      "469/469 [==============================] - 2s 4ms/step - loss: 0.0535 - accuracy: 0.9881 - val_loss: 0.1335 - val_accuracy: 0.9581\n",
      "Epoch 81/100\n",
      "469/469 [==============================] - 2s 4ms/step - loss: 0.0553 - accuracy: 0.9881 - val_loss: 0.1330 - val_accuracy: 0.9585\n",
      "Epoch 82/100\n",
      "469/469 [==============================] - 2s 4ms/step - loss: 0.0539 - accuracy: 0.9885 - val_loss: 0.1328 - val_accuracy: 0.9592\n",
      "Epoch 83/100\n",
      "469/469 [==============================] - 2s 4ms/step - loss: 0.0511 - accuracy: 0.9889 - val_loss: 0.1325 - val_accuracy: 0.9587\n",
      "Epoch 84/100\n",
      "469/469 [==============================] - 2s 4ms/step - loss: 0.0508 - accuracy: 0.9891 - val_loss: 0.1321 - val_accuracy: 0.9586\n",
      "Epoch 85/100\n",
      "469/469 [==============================] - 2s 4ms/step - loss: 0.0530 - accuracy: 0.9883 - val_loss: 0.1325 - val_accuracy: 0.9588\n",
      "Epoch 86/100\n",
      "469/469 [==============================] - 2s 4ms/step - loss: 0.0496 - accuracy: 0.9887 - val_loss: 0.1327 - val_accuracy: 0.9590\n",
      "Epoch 87/100\n",
      "469/469 [==============================] - 2s 4ms/step - loss: 0.0504 - accuracy: 0.9884 - val_loss: 0.1323 - val_accuracy: 0.9585\n",
      "Epoch 88/100\n",
      "469/469 [==============================] - 2s 4ms/step - loss: 0.0507 - accuracy: 0.9891 - val_loss: 0.1319 - val_accuracy: 0.9583\n",
      "Epoch 89/100\n",
      "469/469 [==============================] - 2s 4ms/step - loss: 0.0484 - accuracy: 0.9891 - val_loss: 0.1322 - val_accuracy: 0.9588\n",
      "Epoch 90/100\n",
      "469/469 [==============================] - 2s 4ms/step - loss: 0.0480 - accuracy: 0.9895 - val_loss: 0.1323 - val_accuracy: 0.9586\n",
      "Epoch 91/100\n",
      "469/469 [==============================] - 2s 4ms/step - loss: 0.0463 - accuracy: 0.9895 - val_loss: 0.1317 - val_accuracy: 0.9585\n",
      "Epoch 92/100\n",
      "469/469 [==============================] - 2s 4ms/step - loss: 0.0479 - accuracy: 0.9893 - val_loss: 0.1321 - val_accuracy: 0.9584\n",
      "Epoch 93/100\n",
      "469/469 [==============================] - 2s 4ms/step - loss: 0.0474 - accuracy: 0.9896 - val_loss: 0.1320 - val_accuracy: 0.9580\n",
      "Epoch 94/100\n",
      "469/469 [==============================] - 2s 4ms/step - loss: 0.0470 - accuracy: 0.9893 - val_loss: 0.1319 - val_accuracy: 0.9584\n",
      "Epoch 95/100\n",
      "469/469 [==============================] - 2s 4ms/step - loss: 0.0448 - accuracy: 0.9892 - val_loss: 0.1314 - val_accuracy: 0.9579\n",
      "Epoch 96/100\n",
      "469/469 [==============================] - 2s 4ms/step - loss: 0.0446 - accuracy: 0.9897 - val_loss: 0.1317 - val_accuracy: 0.9580\n",
      "Epoch 97/100\n",
      "469/469 [==============================] - 2s 4ms/step - loss: 0.0448 - accuracy: 0.9900 - val_loss: 0.1310 - val_accuracy: 0.9593\n",
      "Epoch 98/100\n",
      "469/469 [==============================] - 2s 4ms/step - loss: 0.0440 - accuracy: 0.9900 - val_loss: 0.1308 - val_accuracy: 0.9595\n",
      "Epoch 99/100\n",
      "469/469 [==============================] - 2s 4ms/step - loss: 0.0441 - accuracy: 0.9903 - val_loss: 0.1305 - val_accuracy: 0.9591\n",
      "Epoch 100/100\n",
      "469/469 [==============================] - 2s 4ms/step - loss: 0.0428 - accuracy: 0.9901 - val_loss: 0.1306 - val_accuracy: 0.9589\n"
     ]
    }
   ],
   "source": [
    "import tensorflow as tf\n",
    "\n",
    "first_layer=256\n",
    "second_layer=128\n",
    "output=10\n",
    "\n",
    "model=Sequential()\n",
    "model.add(Dense(first_layer,input_shape=(784,),activation=\"sigmoid\"))\n",
    "model.add(Dense(second_layer,activation=\"sigmoid\"))\n",
    "model.add(Dense(output,activation=\"softmax\"))\n",
    "\n",
    "#Learning rate of 0.01\n",
    "sgd=SGD(0.01)\n",
    "earlystopping=tf.keras.callbacks.EarlyStopping(patience=10)\n",
    "\n",
    "model.compile(optimizer=sgd,loss=\"categorical_crossentropy\",metrics=['accuracy'])\n",
    "history=model.fit(x_new_train,y_train,validation_data=(x_new_test,y_test),batch_size=128,epochs=100,callbacks=[earlystopping],verbose=1)"
   ]
  },
  {
   "cell_type": "code",
   "execution_count": 17,
   "id": "5371cc98",
   "metadata": {
    "scrolled": true
   },
   "outputs": [
    {
     "name": "stdout",
     "output_type": "stream",
     "text": [
      "WARNING:tensorflow:AutoGraph could not transform <function Model.make_predict_function.<locals>.predict_function at 0x000001EA3A348950> and will run it as-is.\n",
      "Please report this to the TensorFlow team. When filing the bug, set the verbosity to 10 (on Linux, `export AUTOGRAPH_VERBOSITY=10`) and attach the full output.\n",
      "Cause: 'arguments' object has no attribute 'posonlyargs'\n",
      "To silence this warning, decorate the function with @tf.autograph.experimental.do_not_convert\n",
      "WARNING: AutoGraph could not transform <function Model.make_predict_function.<locals>.predict_function at 0x000001EA3A348950> and will run it as-is.\n",
      "Please report this to the TensorFlow team. When filing the bug, set the verbosity to 10 (on Linux, `export AUTOGRAPH_VERBOSITY=10`) and attach the full output.\n",
      "Cause: 'arguments' object has no attribute 'posonlyargs'\n",
      "To silence this warning, decorate the function with @tf.autograph.experimental.do_not_convert\n",
      "              precision    recall  f1-score   support\n",
      "\n",
      "           0       0.96      0.99      0.97       980\n",
      "           1       0.98      0.99      0.98      1135\n",
      "           2       0.95      0.96      0.96      1032\n",
      "           3       0.95      0.96      0.95      1010\n",
      "           4       0.95      0.96      0.96       982\n",
      "           5       0.96      0.95      0.96       892\n",
      "           6       0.96      0.96      0.96       958\n",
      "           7       0.96      0.95      0.95      1028\n",
      "           8       0.96      0.94      0.95       974\n",
      "           9       0.95      0.94      0.95      1009\n",
      "\n",
      "    accuracy                           0.96     10000\n",
      "   macro avg       0.96      0.96      0.96     10000\n",
      "weighted avg       0.96      0.96      0.96     10000\n",
      "\n"
     ]
    }
   ],
   "source": [
    "pred=model.predict(x_new_test,batch_size=128)\n",
    "print(classification_report(y_test.argmax(axis=1),\n",
    "      pred.argmax(axis=1),\n",
    "      target_names=[str(x) for x in lb.classes_]))"
   ]
  },
  {
   "cell_type": "code",
   "execution_count": 19,
   "id": "ef26d711",
   "metadata": {
    "scrolled": true
   },
   "outputs": [
    {
     "name": "stdout",
     "output_type": "stream",
     "text": [
      "313/313 [==============================] - 0s 1ms/step - loss: 0.1306 - accuracy: 0.9589\n"
     ]
    }
   ],
   "source": [
    "test_loss,test_acc=model.evaluate(x_new_test,y_test)"
   ]
  },
  {
   "cell_type": "code",
   "execution_count": 20,
   "id": "aa14416c",
   "metadata": {
    "scrolled": true
   },
   "outputs": [
    {
     "name": "stdout",
     "output_type": "stream",
     "text": [
      "Test Loss:0.13055899739265442\n",
      "Test Accuracy:0.958899974822998\n"
     ]
    }
   ],
   "source": [
    "print(f'Test Loss:{test_loss}\\nTest Accuracy:{test_acc}')"
   ]
  },
  {
   "cell_type": "code",
   "execution_count": 21,
   "id": "9da6ded7",
   "metadata": {
    "scrolled": true
   },
   "outputs": [
    {
     "data": {
      "image/png": "[encoded data removed]",
      "text/plain": [
       "<Figure size 432x288 with 1 Axes>"
      ]
     },
     "metadata": {
      "needs_background": "light"
     },
     "output_type": "display_data"
    }
   ],
   "source": [
    "loss_train = history.history['loss']\n",
    "loss_val = history.history['val_loss']\n",
    "plt.plot(loss_train, 'g', label='Training Loss')\n",
    "plt.plot(loss_val, 'b', label='Validation Loss')\n",
    "plt.title('Training and Validation loss')\n",
    "plt.xlabel('Epochs')\n",
    "plt.ylabel('Loss')\n",
    "plt.legend()\n",
    "plt.show()"
   ]
  },
  {
   "cell_type": "markdown",
   "id": "26aa9ad2",
   "metadata": {},
   "source": [
    "No overfitting spotted\n",
    "\n",
    "Model seems very good at predicting the MNIST dataset"
   ]
  },
  {
   "cell_type": "code",
   "execution_count": 22,
   "id": "d9af178f",
   "metadata": {
    "scrolled": false
   },
   "outputs": [
    {
     "data": {
      "image/png": "[encoded data removed]",
      "text/plain": [
       "<Figure size 432x288 with 1 Axes>"
      ]
     },
     "metadata": {
      "needs_background": "light"
     },
     "output_type": "display_data"
    }
   ],
   "source": [
    "loss_train = history.history['accuracy']\n",
    "loss_val = history.history['val_accuracy']\n",
    "plt.plot(loss_train, 'g', label='Training Accuracy')\n",
    "plt.plot(loss_val, 'b', label='Validation Accuracy')\n",
    "plt.title('Training and Validation accuracy')\n",
    "plt.xlabel('Epochs')\n",
    "plt.ylabel('Accuracy')\n",
    "plt.legend()\n",
    "plt.show()"
   ]
  },
  {
   "cell_type": "code",
   "execution_count": 23,
   "id": "336b8815",
   "metadata": {
    "scrolled": true
   },
   "outputs": [
    {
     "name": "stdout",
     "output_type": "stream",
     "text": [
      "Model: \"sequential_3\"\n",
      "_________________________________________________________________\n",
      "Layer (type)                 Output Shape              Param #   \n",
      "=================================================================\n",
      "dense_9 (Dense)              (None, 256)               200960    \n",
      "_________________________________________________________________\n",
      "dense_10 (Dense)             (None, 128)               32896     \n",
      "_________________________________________________________________\n",
      "dense_11 (Dense)             (None, 10)                1290      \n",
      "=================================================================\n",
      "Total params: 235,146\n",
      "Trainable params: 235,146\n",
      "Non-trainable params: 0\n",
      "_________________________________________________________________\n"
     ]
    }
   ],
   "source": [
    "model.summary()"
   ]
  },
  {
   "cell_type": "code",
   "execution_count": 24,
   "id": "23149639",
   "metadata": {},
   "outputs": [
    {
     "name": "stdout",
     "output_type": "stream",
     "text": [
      "Model Saved!\n"
     ]
    }
   ],
   "source": [
    "model.save_weights('MNIST-FFMLP.h5')\n",
    "print(\"Model Saved!\")"
   ]
  }
 ],
 "metadata": {
  "kernelspec": {
   "display_name": "Python 3",
   "language": "python",
   "name": "python3"
  },
  "language_info": {
   "codemirror_mode": {
    "name": "ipython",
    "version": 3
   },
   "file_extension": ".py",
   "mimetype": "text/x-python",
   "name": "python",
   "nbconvert_exporter": "python",
   "pygments_lexer": "ipython3",
   "version": "3.7.1"
  }
 },
 "nbformat": 4,
 "nbformat_minor": 5
}
