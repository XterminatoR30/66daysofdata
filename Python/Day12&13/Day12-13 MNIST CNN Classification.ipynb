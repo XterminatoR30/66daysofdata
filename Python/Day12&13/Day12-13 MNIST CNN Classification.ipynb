{
 "cells": [
  {
   "cell_type": "markdown",
   "id": "4eff1d38",
   "metadata": {},
   "source": [
    "# Code by: Kevin Cliff Gunawan"
   ]
  },
  {
   "cell_type": "markdown",
   "id": "50c422ae",
   "metadata": {},
   "source": [
    "MNIST Dataset using Deep Learning CNN"
   ]
  },
  {
   "cell_type": "code",
   "execution_count": 1,
   "id": "903f5e9a",
   "metadata": {},
   "outputs": [],
   "source": [
    "from numpy import mean,std\n",
    "import matplotlib.pyplot as plt\n",
    "from sklearn.model_selection import KFold\n",
    "from keras.datasets import mnist\n",
    "from keras.utils import to_categorical\n",
    "from keras.models import Sequential\n",
    "from keras.layers import Conv2D,MaxPooling2D,Dense,Flatten\n",
    "from keras.optimizers import SGD"
   ]
  },
  {
   "cell_type": "code",
   "execution_count": 2,
   "id": "cc464c55",
   "metadata": {
    "scrolled": true
   },
   "outputs": [
    {
     "name": "stdout",
     "output_type": "stream",
     "text": [
      "X Train:(60000, 28, 28),Y Train:(60000,)\n",
      "X Test:(10000, 28, 28),Y Test:(10000,)\n"
     ]
    }
   ],
   "source": [
    "(x_train,y_train),(x_test,y_test)=mnist.load_data()\n",
    "print(f'X Train:{x_train.shape},Y Train:{y_train.shape}')\n",
    "print(f'X Test:{x_test.shape},Y Test:{y_test.shape}')"
   ]
  },
  {
   "cell_type": "code",
   "execution_count": 3,
   "id": "5d42fa99",
   "metadata": {
    "scrolled": true
   },
   "outputs": [
    {
     "data": {
      "image/png": "[encoded data removed]",
      "text/plain": [
       "<Figure size 432x288 with 9 Axes>"
      ]
     },
     "metadata": {
      "needs_background": "light"
     },
     "output_type": "display_data"
    }
   ],
   "source": [
    "for i in range(9):\n",
    "    plt.subplot(330+1+i)\n",
    "    plt.imshow(x_train[i],cmap=plt.get_cmap('gray'))\n",
    "plt.show()"
   ]
  },
  {
   "cell_type": "code",
   "execution_count": 4,
   "id": "f36f9933",
   "metadata": {
    "scrolled": true
   },
   "outputs": [
    {
     "name": "stdout",
     "output_type": "stream",
     "text": [
      "(60000, 28, 28, 1)\n",
      "(10000, 28, 28, 1)\n"
     ]
    }
   ],
   "source": [
    "x_train=x_train.reshape((x_train.shape[0],28,28,1))\n",
    "x_test=x_test.reshape((x_test.shape[0],28,28,1))\n",
    "print(x_train.shape)\n",
    "print(x_test.shape)"
   ]
  },
  {
   "cell_type": "code",
   "execution_count": 5,
   "id": "38c235ee",
   "metadata": {
    "scrolled": true
   },
   "outputs": [
    {
     "name": "stdout",
     "output_type": "stream",
     "text": [
      "(60000, 10)\n",
      "(10000, 10)\n"
     ]
    }
   ],
   "source": [
    "y_train=to_categorical(y_train)\n",
    "y_test=to_categorical(y_test)\n",
    "print(y_train.shape)\n",
    "print(y_test.shape)"
   ]
  },
  {
   "cell_type": "code",
   "execution_count": 6,
   "id": "d894221e",
   "metadata": {
    "scrolled": true
   },
   "outputs": [
    {
     "data": {
      "text/plain": [
       "array([[0., 0., 0., ..., 0., 0., 0.],\n",
       "       [1., 0., 0., ..., 0., 0., 0.],\n",
       "       [0., 0., 0., ..., 0., 0., 0.],\n",
       "       ...,\n",
       "       [0., 0., 0., ..., 0., 0., 0.],\n",
       "       [0., 0., 0., ..., 0., 0., 0.],\n",
       "       [0., 0., 0., ..., 0., 1., 0.]], dtype=float32)"
      ]
     },
     "execution_count": 6,
     "metadata": {},
     "output_type": "execute_result"
    }
   ],
   "source": [
    "y_train"
   ]
  },
  {
   "cell_type": "markdown",
   "id": "39d8eeec",
   "metadata": {},
   "source": [
    "# Building CNN Model & Evaluate"
   ]
  },
  {
   "cell_type": "code",
   "execution_count": 7,
   "id": "6de3727c",
   "metadata": {
    "scrolled": true
   },
   "outputs": [
    {
     "name": "stdout",
     "output_type": "stream",
     "text": [
      "Model: \"sequential\"\n",
      "_________________________________________________________________\n",
      "Layer (type)                 Output Shape              Param #   \n",
      "=================================================================\n",
      "conv2d (Conv2D)              (None, 26, 26, 32)        320       \n",
      "_________________________________________________________________\n",
      "max_pooling2d (MaxPooling2D) (None, 13, 13, 32)        0         \n",
      "_________________________________________________________________\n",
      "flatten (Flatten)            (None, 5408)              0         \n",
      "_________________________________________________________________\n",
      "dense (Dense)                (None, 100)               540900    \n",
      "_________________________________________________________________\n",
      "dense_1 (Dense)              (None, 10)                1010      \n",
      "=================================================================\n",
      "Total params: 542,230\n",
      "Trainable params: 542,230\n",
      "Non-trainable params: 0\n",
      "_________________________________________________________________\n"
     ]
    }
   ],
   "source": [
    "model=Sequential()\n",
    "model.add(Conv2D(32,(3,3),activation='relu',kernel_initializer='he_uniform',input_shape=(28,28,1)))\n",
    "model.add(MaxPooling2D((2,2)))\n",
    "model.add(Flatten())\n",
    "model.add(Dense(100,activation='relu',kernel_initializer='he_uniform'))\n",
    "model.add(Dense(10,activation='softmax'))\n",
    "optimizer=SGD(lr=0.01,momentum=0.9)\n",
    "model.compile(optimizer=optimizer,loss='categorical_crossentropy',metrics=['accuracy'])\n",
    "model.summary()"
   ]
  },
  {
   "cell_type": "code",
   "execution_count": 8,
   "id": "df91eef7",
   "metadata": {
    "scrolled": true
   },
   "outputs": [
    {
     "name": "stdout",
     "output_type": "stream",
     "text": [
      "Epoch 1/50\n",
      "WARNING:tensorflow:AutoGraph could not transform <function Model.make_train_function.<locals>.train_function at 0x000001D5FF3E2378> and will run it as-is.\n",
      "Please report this to the TensorFlow team. When filing the bug, set the verbosity to 10 (on Linux, `export AUTOGRAPH_VERBOSITY=10`) and attach the full output.\n",
      "Cause: 'arguments' object has no attribute 'posonlyargs'\n",
      "To silence this warning, decorate the function with @tf.autograph.experimental.do_not_convert\n",
      "WARNING: AutoGraph could not transform <function Model.make_train_function.<locals>.train_function at 0x000001D5FF3E2378> and will run it as-is.\n",
      "Please report this to the TensorFlow team. When filing the bug, set the verbosity to 10 (on Linux, `export AUTOGRAPH_VERBOSITY=10`) and attach the full output.\n",
      "Cause: 'arguments' object has no attribute 'posonlyargs'\n",
      "To silence this warning, decorate the function with @tf.autograph.experimental.do_not_convert\n",
      "WARNING:tensorflow:AutoGraph could not transform <function Model.make_test_function.<locals>.test_function at 0x000001D58A15ED90> and will run it as-is.\n",
      "Please report this to the TensorFlow team. When filing the bug, set the verbosity to 10 (on Linux, `export AUTOGRAPH_VERBOSITY=10`) and attach the full output.\n",
      "Cause: 'arguments' object has no attribute 'posonlyargs'\n",
      "To silence this warning, decorate the function with @tf.autograph.experimental.do_not_convert\n",
      "WARNING: AutoGraph could not transform <function Model.make_test_function.<locals>.test_function at 0x000001D58A15ED90> and will run it as-is.\n",
      "Please report this to the TensorFlow team. When filing the bug, set the verbosity to 10 (on Linux, `export AUTOGRAPH_VERBOSITY=10`) and attach the full output.\n",
      "Cause: 'arguments' object has no attribute 'posonlyargs'\n",
      "To silence this warning, decorate the function with @tf.autograph.experimental.do_not_convert\n",
      "19/19 - 15s - loss: 1722.6914 - accuracy: 0.1704 - val_loss: 1.9691 - val_accuracy: 0.3010\n",
      "Epoch 2/50\n",
      "19/19 - 14s - loss: 1.6115 - accuracy: 0.4325 - val_loss: 1.2491 - val_accuracy: 0.5591\n",
      "Epoch 3/50\n",
      "19/19 - 14s - loss: 1.0589 - accuracy: 0.6441 - val_loss: 0.8098 - val_accuracy: 0.7430\n",
      "Epoch 4/50\n",
      "19/19 - 14s - loss: 0.7257 - accuracy: 0.7734 - val_loss: 0.6379 - val_accuracy: 0.8041\n",
      "Epoch 5/50\n",
      "19/19 - 14s - loss: 0.5995 - accuracy: 0.8177 - val_loss: 0.5398 - val_accuracy: 0.8372\n",
      "Epoch 6/50\n",
      "19/19 - 14s - loss: 0.5202 - accuracy: 0.8456 - val_loss: 0.5120 - val_accuracy: 0.8526\n",
      "Epoch 7/50\n",
      "19/19 - 16s - loss: 0.5151 - accuracy: 0.8481 - val_loss: 0.5267 - val_accuracy: 0.8493\n",
      "Epoch 8/50\n",
      "19/19 - 15s - loss: 0.5411 - accuracy: 0.8392 - val_loss: 0.4580 - val_accuracy: 0.8653\n",
      "Epoch 9/50\n",
      "19/19 - 17s - loss: 0.4504 - accuracy: 0.8679 - val_loss: 0.4269 - val_accuracy: 0.8747\n",
      "Epoch 10/50\n",
      "19/19 - 17s - loss: 0.4166 - accuracy: 0.8770 - val_loss: 0.4051 - val_accuracy: 0.8806\n",
      "Epoch 11/50\n",
      "19/19 - 16s - loss: 0.4018 - accuracy: 0.8807 - val_loss: 0.3978 - val_accuracy: 0.8847\n",
      "Epoch 12/50\n",
      "19/19 - 16s - loss: 0.4103 - accuracy: 0.8789 - val_loss: 0.4220 - val_accuracy: 0.8779\n",
      "Epoch 13/50\n",
      "19/19 - 15s - loss: 0.3962 - accuracy: 0.8837 - val_loss: 0.3933 - val_accuracy: 0.8840\n",
      "Epoch 14/50\n",
      "19/19 - 16s - loss: 0.3866 - accuracy: 0.8851 - val_loss: 0.3588 - val_accuracy: 0.8950\n",
      "Epoch 15/50\n",
      "19/19 - 15s - loss: 0.3714 - accuracy: 0.8894 - val_loss: 0.4240 - val_accuracy: 0.8749\n",
      "Epoch 16/50\n",
      "19/19 - 15s - loss: 0.4260 - accuracy: 0.8735 - val_loss: 0.3761 - val_accuracy: 0.8880\n",
      "Epoch 17/50\n",
      "19/19 - 19s - loss: 0.3636 - accuracy: 0.8922 - val_loss: 0.3559 - val_accuracy: 0.8945\n",
      "Epoch 18/50\n",
      "19/19 - 21s - loss: 0.3461 - accuracy: 0.8965 - val_loss: 0.3799 - val_accuracy: 0.8895\n",
      "Epoch 19/50\n",
      "19/19 - 18s - loss: 0.3482 - accuracy: 0.8954 - val_loss: 0.3454 - val_accuracy: 0.8999\n",
      "Epoch 20/50\n",
      "19/19 - 18s - loss: 0.3329 - accuracy: 0.9000 - val_loss: 0.3390 - val_accuracy: 0.9017\n",
      "Epoch 21/50\n",
      "19/19 - 19s - loss: 0.3270 - accuracy: 0.9008 - val_loss: 0.3474 - val_accuracy: 0.8970\n",
      "Epoch 22/50\n",
      "19/19 - 18s - loss: 0.3274 - accuracy: 0.9007 - val_loss: 0.3734 - val_accuracy: 0.8916\n",
      "Epoch 23/50\n",
      "19/19 - 17s - loss: 0.3476 - accuracy: 0.8962 - val_loss: 0.3452 - val_accuracy: 0.8987\n",
      "Epoch 24/50\n",
      "19/19 - 15s - loss: 0.3273 - accuracy: 0.9021 - val_loss: 0.3436 - val_accuracy: 0.8997\n",
      "Epoch 25/50\n",
      "19/19 - 15s - loss: 0.3198 - accuracy: 0.9040 - val_loss: 0.3337 - val_accuracy: 0.9027\n",
      "Epoch 26/50\n",
      "19/19 - 16s - loss: 0.3243 - accuracy: 0.9024 - val_loss: 0.3481 - val_accuracy: 0.8997\n",
      "Epoch 27/50\n",
      "19/19 - 16s - loss: 0.3142 - accuracy: 0.9063 - val_loss: 0.3181 - val_accuracy: 0.9074\n",
      "Epoch 28/50\n",
      "19/19 - 15s - loss: 0.3078 - accuracy: 0.9078 - val_loss: 0.3301 - val_accuracy: 0.9032\n",
      "Epoch 29/50\n",
      "19/19 - 14s - loss: 0.3002 - accuracy: 0.9107 - val_loss: 0.3143 - val_accuracy: 0.9073\n",
      "Epoch 30/50\n",
      "19/19 - 13s - loss: 0.3119 - accuracy: 0.9064 - val_loss: 0.3611 - val_accuracy: 0.8964\n",
      "Epoch 31/50\n",
      "19/19 - 14s - loss: 0.3548 - accuracy: 0.8942 - val_loss: 0.3559 - val_accuracy: 0.8946\n",
      "Epoch 32/50\n",
      "19/19 - 15s - loss: 0.3101 - accuracy: 0.9064 - val_loss: 0.3198 - val_accuracy: 0.9044\n",
      "Epoch 33/50\n",
      "19/19 - 14s - loss: 0.2943 - accuracy: 0.9117 - val_loss: 0.3104 - val_accuracy: 0.9074\n",
      "Epoch 34/50\n",
      "19/19 - 14s - loss: 0.2917 - accuracy: 0.9118 - val_loss: 0.2972 - val_accuracy: 0.9134\n",
      "Epoch 35/50\n",
      "19/19 - 14s - loss: 0.3128 - accuracy: 0.9058 - val_loss: 0.3170 - val_accuracy: 0.9082\n",
      "Epoch 36/50\n",
      "19/19 - 14s - loss: 0.3035 - accuracy: 0.9088 - val_loss: 0.3100 - val_accuracy: 0.9119\n",
      "Epoch 37/50\n",
      "19/19 - 14s - loss: 0.3037 - accuracy: 0.9086 - val_loss: 0.3179 - val_accuracy: 0.9072\n",
      "Epoch 38/50\n",
      "19/19 - 15s - loss: 0.2862 - accuracy: 0.9149 - val_loss: 0.2942 - val_accuracy: 0.9129\n",
      "Epoch 39/50\n",
      "19/19 - 14s - loss: 0.2826 - accuracy: 0.9144 - val_loss: 0.2996 - val_accuracy: 0.9121\n",
      "Epoch 40/50\n",
      "19/19 - 16s - loss: 0.2795 - accuracy: 0.9161 - val_loss: 0.2946 - val_accuracy: 0.9134\n",
      "Epoch 41/50\n",
      "19/19 - 16s - loss: 0.2871 - accuracy: 0.9128 - val_loss: 0.3198 - val_accuracy: 0.9079\n",
      "Epoch 42/50\n",
      "19/19 - 15s - loss: 0.3194 - accuracy: 0.9039 - val_loss: 0.3025 - val_accuracy: 0.9124\n",
      "Epoch 43/50\n",
      "19/19 - 16s - loss: 0.2928 - accuracy: 0.9110 - val_loss: 0.2973 - val_accuracy: 0.9116\n",
      "Epoch 44/50\n",
      "19/19 - 17s - loss: 0.2862 - accuracy: 0.9127 - val_loss: 0.3011 - val_accuracy: 0.9138\n",
      "Epoch 45/50\n",
      "19/19 - 18s - loss: 0.2721 - accuracy: 0.9179 - val_loss: 0.2869 - val_accuracy: 0.9149\n",
      "Epoch 46/50\n",
      "19/19 - 20s - loss: 0.3008 - accuracy: 0.9101 - val_loss: 0.3126 - val_accuracy: 0.9071\n",
      "Epoch 47/50\n",
      "19/19 - 19s - loss: 0.2763 - accuracy: 0.9171 - val_loss: 0.2990 - val_accuracy: 0.9144\n",
      "Epoch 48/50\n",
      "19/19 - 17s - loss: 0.2767 - accuracy: 0.9168 - val_loss: 0.2901 - val_accuracy: 0.9147\n",
      "Epoch 49/50\n",
      "19/19 - 17s - loss: 0.2699 - accuracy: 0.9179 - val_loss: 0.2946 - val_accuracy: 0.9148\n",
      "Epoch 50/50\n",
      "19/19 - 15s - loss: 0.2949 - accuracy: 0.9121 - val_loss: 0.3044 - val_accuracy: 0.9122\n"
     ]
    }
   ],
   "source": [
    "history=model.fit(x_train,y_train,epochs=50,batch_size=3200,validation_data=(x_test,y_test),verbose=2)"
   ]
  },
  {
   "cell_type": "code",
   "execution_count": 14,
   "id": "ee5eeecf",
   "metadata": {
    "scrolled": true
   },
   "outputs": [
    {
     "data": {
      "image/png": "[encoded data removed]",
      "text/plain": [
       "<Figure size 432x288 with 1 Axes>"
      ]
     },
     "metadata": {
      "needs_background": "light"
     },
     "output_type": "display_data"
    }
   ],
   "source": [
    "loss_train = history.history['loss']\n",
    "loss_val = history.history['val_loss']\n",
    "plt.axis([0,50,0.2,2])\n",
    "plt.plot(loss_train, 'g', label='Training Loss')\n",
    "plt.plot(loss_val, 'b', label='Validation Loss')\n",
    "plt.title('Training and Validation loss')\n",
    "plt.xlabel('Epochs')\n",
    "plt.ylabel('Loss')\n",
    "plt.legend()\n",
    "plt.show()"
   ]
  },
  {
   "cell_type": "code",
   "execution_count": 12,
   "id": "2fc43e91",
   "metadata": {
    "scrolled": true
   },
   "outputs": [
    {
     "data": {
      "image/png": "[encoded data removed]",
      "text/plain": [
       "<Figure size 432x288 with 1 Axes>"
      ]
     },
     "metadata": {
      "needs_background": "light"
     },
     "output_type": "display_data"
    }
   ],
   "source": [
    "loss_train = history.history['accuracy']\n",
    "loss_val = history.history['val_accuracy']\n",
    "plt.plot(loss_train, 'g', label='Training Accuracy')\n",
    "plt.plot(loss_val, 'b', label='Validation Accuracy')\n",
    "plt.title('Training and Validation accuracy')\n",
    "plt.xlabel('Epochs')\n",
    "plt.ylabel('Validation Accuracy')\n",
    "plt.legend()\n",
    "plt.show()"
   ]
  },
  {
   "cell_type": "code",
   "execution_count": 15,
   "id": "07682384",
   "metadata": {
    "scrolled": true
   },
   "outputs": [
    {
     "name": "stdout",
     "output_type": "stream",
     "text": [
      "1875/1875 [==============================] - 8s 4ms/step - loss: 0.2801 - accuracy: 0.9162\n",
      "accuracy: 91.62%\n"
     ]
    }
   ],
   "source": [
    "# evaluate the model\n",
    "scores = model.evaluate(x_train,y_train, verbose = 1)\n",
    "print(\"%s: %.2f%%\" % (model.metrics_names[1], scores[1]*100))"
   ]
  },
  {
   "cell_type": "code",
   "execution_count": 42,
   "id": "8c0979b6",
   "metadata": {},
   "outputs": [
    {
     "name": "stdout",
     "output_type": "stream",
     "text": [
      "313/313 [==============================] - 1s 4ms/step - loss: 0.3044 - accuracy: 0.9122\n"
     ]
    }
   ],
   "source": [
    "loss,accuracy= model.evaluate(x=x_test, y=y_test)"
   ]
  },
  {
   "cell_type": "code",
   "execution_count": 16,
   "id": "ab92ddc3",
   "metadata": {
    "scrolled": true
   },
   "outputs": [
    {
     "data": {
      "image/png": "[encoded data removed]",
      "text/plain": [
       "<Figure size 432x288 with 1 Axes>"
      ]
     },
     "metadata": {
      "needs_background": "light"
     },
     "output_type": "display_data"
    }
   ],
   "source": [
    "#BOX AND WHISKER PLOT\n",
    "plt.boxplot(scores)\n",
    "plt.show()"
   ]
  },
  {
   "cell_type": "code",
   "execution_count": 17,
   "id": "facfb6f6",
   "metadata": {},
   "outputs": [],
   "source": [
    "from keras.preprocessing.image import load_img\n",
    "from keras.preprocessing.image import img_to_array\n",
    "from keras.models import load_model"
   ]
  },
  {
   "cell_type": "code",
   "execution_count": 18,
   "id": "4f60af4e",
   "metadata": {},
   "outputs": [],
   "source": [
    "model.save('MNIST-CNN.h5')"
   ]
  },
  {
   "cell_type": "code",
   "execution_count": 38,
   "id": "7ceaeffc",
   "metadata": {},
   "outputs": [
    {
     "data": {
      "image/png": "[encoded data removed]",
      "text/plain": [
       "<Figure size 432x288 with 1 Axes>"
      ]
     },
     "metadata": {
      "needs_background": "light"
     },
     "output_type": "display_data"
    }
   ],
   "source": [
    "import matplotlib.image as mpimg\n",
    "img=mpimg.imread('sample_image.png')\n",
    "imgplot=plt.imshow(img)\n",
    "plt.show()"
   ]
  },
  {
   "cell_type": "code",
   "execution_count": 39,
   "id": "aec07db3",
   "metadata": {
    "scrolled": true
   },
   "outputs": [
    {
     "name": "stdout",
     "output_type": "stream",
     "text": [
      "WARNING:tensorflow:AutoGraph could not transform <function Model.make_predict_function.<locals>.predict_function at 0x000001D589EC56A8> and will run it as-is.\n",
      "Please report this to the TensorFlow team. When filing the bug, set the verbosity to 10 (on Linux, `export AUTOGRAPH_VERBOSITY=10`) and attach the full output.\n",
      "Cause: 'arguments' object has no attribute 'posonlyargs'\n",
      "To silence this warning, decorate the function with @tf.autograph.experimental.do_not_convert\n",
      "WARNING: AutoGraph could not transform <function Model.make_predict_function.<locals>.predict_function at 0x000001D589EC56A8> and will run it as-is.\n",
      "Please report this to the TensorFlow team. When filing the bug, set the verbosity to 10 (on Linux, `export AUTOGRAPH_VERBOSITY=10`) and attach the full output.\n",
      "Cause: 'arguments' object has no attribute 'posonlyargs'\n",
      "To silence this warning, decorate the function with @tf.autograph.experimental.do_not_convert\n",
      "\n",
      "Predicted Number: 7\n"
     ]
    }
   ],
   "source": [
    "def load_image(filename):\n",
    "    img = load_img(filename, grayscale=True, target_size=(28, 28))\n",
    "    img = img_to_array(img)\n",
    "    img = img.reshape(1, 28, 28, 1)\n",
    "    img = img.astype('float32')\n",
    "    img = img / 255.0\n",
    "    return img\n",
    " \n",
    "def run_example():\n",
    "    img = load_image('sample_image.png')\n",
    "    model = load_model('MNIST-CNN.h5')\n",
    "    digit = model.predict_classes(img)\n",
    "    print('\\nPredicted Number:',digit[0])\n",
    "    \n",
    "run_example()"
   ]
  }
 ],
 "metadata": {
  "kernelspec": {
   "display_name": "Python 3",
   "language": "python",
   "name": "python3"
  },
  "language_info": {
   "codemirror_mode": {
    "name": "ipython",
    "version": 3
   },
   "file_extension": ".py",
   "mimetype": "text/x-python",
   "name": "python",
   "nbconvert_exporter": "python",
   "pygments_lexer": "ipython3",
   "version": "3.7.1"
  }
 },
 "nbformat": 4,
 "nbformat_minor": 5
}
