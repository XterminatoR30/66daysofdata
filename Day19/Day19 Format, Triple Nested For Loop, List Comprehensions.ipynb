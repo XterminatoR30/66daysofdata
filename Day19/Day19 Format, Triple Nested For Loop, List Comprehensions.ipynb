{
 "cells": [
  {
   "cell_type": "markdown",
   "id": "1476827f",
   "metadata": {},
   "source": [
    "# Format Method"
   ]
  },
  {
   "cell_type": "code",
   "execution_count": 1,
   "id": "e658713e",
   "metadata": {
    "scrolled": true
   },
   "outputs": [
    {
     "data": {
      "text/plain": [
       "(1, 3, 12)"
      ]
     },
     "execution_count": 1,
     "metadata": {},
     "output_type": "execute_result"
    }
   ],
   "source": [
    "time_horizon=1,3,12\n",
    "time_horizon"
   ]
  },
  {
   "cell_type": "code",
   "execution_count": 2,
   "id": "1d0a394e",
   "metadata": {
    "scrolled": true
   },
   "outputs": [
    {
     "data": {
      "text/plain": [
       "['Product A', 'Product B']"
      ]
     },
     "execution_count": 2,
     "metadata": {},
     "output_type": "execute_result"
    }
   ],
   "source": [
    "products=['Product A','Product B']\n",
    "products"
   ]
  },
  {
   "cell_type": "markdown",
   "id": "0cc99ead",
   "metadata": {},
   "source": [
    ".format() format values as text first,regardless of initial data type\n",
    "\n",
    "Applicable to string value only"
   ]
  },
  {
   "cell_type": "code",
   "execution_count": 3,
   "id": "59834d19",
   "metadata": {
    "scrolled": true
   },
   "outputs": [
    {
     "name": "stdout",
     "output_type": "stream",
     "text": [
      "Expected sales for a period of (1, 3, 12) months for ['Product A', 'Product B']\n"
     ]
    }
   ],
   "source": [
    "print('Expected sales for a period of {} months for {}'.format(time_horizon,products))"
   ]
  },
  {
   "cell_type": "code",
   "execution_count": 4,
   "id": "105783aa",
   "metadata": {
    "scrolled": true
   },
   "outputs": [
    {
     "name": "stdout",
     "output_type": "stream",
     "text": [
      "Expected sales for a period of 3 months for Product A\n"
     ]
    }
   ],
   "source": [
    "# Positional Arguments -> Indexing 0,1,2 \n",
    "# Keyword Arguments -> Key Value Pairs (Dictionaries)\n",
    "print('Expected sales for a period of {} months for {}'.format(time_horizon[1],products[0]))"
   ]
  },
  {
   "cell_type": "code",
   "execution_count": 5,
   "id": "7af771a4",
   "metadata": {
    "scrolled": true
   },
   "outputs": [
    {
     "name": "stdout",
     "output_type": "stream",
     "text": [
      "Expected sales for a period of 12 months for Product B: $1000\n"
     ]
    }
   ],
   "source": [
    "print('Expected sales for a period of {thor[2]} months for {prod[1]}: ${sales}'.format(thor=time_horizon,prod=products,sales=1000))"
   ]
  },
  {
   "cell_type": "code",
   "execution_count": 6,
   "id": "902686b5",
   "metadata": {
    "scrolled": true
   },
   "outputs": [
    {
     "name": "stdout",
     "output_type": "stream",
     "text": [
      "(4, 5, 6, 7)\n",
      "[10.5, 43.3, 34.3]\n"
     ]
    }
   ],
   "source": [
    "#Sequences: Tuple,List,Dictionary\n",
    "t=(4,5,6,7)\n",
    "print(t)\n",
    "l=[10.5, 43.3, 34.3]\n",
    "print(l)"
   ]
  },
  {
   "cell_type": "code",
   "execution_count": 7,
   "id": "c2ebd470",
   "metadata": {
    "scrolled": true
   },
   "outputs": [
    {
     "data": {
      "text/plain": [
       "'43ver'"
      ]
     },
     "execution_count": 7,
     "metadata": {},
     "output_type": "execute_result"
    }
   ],
   "source": [
    "s='43ver'\n",
    "s"
   ]
  },
  {
   "cell_type": "code",
   "execution_count": 8,
   "id": "386174e9",
   "metadata": {
    "scrolled": true
   },
   "outputs": [
    {
     "name": "stdout",
     "output_type": "stream",
     "text": [
      "10.543.334.3"
     ]
    }
   ],
   "source": [
    "for i in l:\n",
    "    print(i,end='')"
   ]
  },
  {
   "cell_type": "code",
   "execution_count": 9,
   "id": "b244bda5",
   "metadata": {
    "scrolled": true
   },
   "outputs": [
    {
     "name": "stdout",
     "output_type": "stream",
     "text": [
      "0123456789101112131415161718192021222324252627282930313233343536373839404142"
     ]
    }
   ],
   "source": [
    "for i in range(43):\n",
    "    print(i,end='')"
   ]
  },
  {
   "cell_type": "code",
   "execution_count": 10,
   "id": "3efe7824",
   "metadata": {
    "scrolled": true
   },
   "outputs": [
    {
     "name": "stdout",
     "output_type": "stream",
     "text": [
      "0\n",
      "1\n",
      "2\n",
      "3\n",
      "4\n",
      "0\n",
      "1\n",
      "2\n",
      "3\n",
      "4\n"
     ]
    }
   ],
   "source": [
    "#Nested For Loop\n",
    "for i in range(2):\n",
    "    for j in range(5):\n",
    "        print(j)"
   ]
  },
  {
   "cell_type": "code",
   "execution_count": 11,
   "id": "79603844",
   "metadata": {
    "scrolled": true
   },
   "outputs": [
    {
     "name": "stdout",
     "output_type": "stream",
     "text": [
      "[0, 0]\n",
      "[0, 1]\n",
      "[0, 2]\n",
      "[0, 3]\n",
      "[0, 4]\n",
      "[1, 0]\n",
      "[1, 1]\n",
      "[1, 2]\n",
      "[1, 3]\n",
      "[1, 4]\n"
     ]
    }
   ],
   "source": [
    "for i in range(2):\n",
    "    for j in range(5):\n",
    "        print([i,j])"
   ]
  },
  {
   "cell_type": "code",
   "execution_count": 12,
   "id": "63437370",
   "metadata": {
    "scrolled": true
   },
   "outputs": [
    {
     "name": "stdout",
     "output_type": "stream",
     "text": [
      "['Product A', 0]\n",
      "['Product A', 1]\n",
      "['Product A', 2]\n",
      "['Product A', 3]\n",
      "['Product B', 0]\n",
      "['Product B', 1]\n",
      "['Product B', 2]\n",
      "['Product B', 3]\n"
     ]
    }
   ],
   "source": [
    "for i in ['Product A','Product B']:\n",
    "    for j in range(4):\n",
    "        print([i,j])"
   ]
  },
  {
   "cell_type": "code",
   "execution_count": 13,
   "id": "c543104b",
   "metadata": {
    "scrolled": true
   },
   "outputs": [
    {
     "name": "stdout",
     "output_type": "stream",
     "text": [
      "Expected sales for a period of 2 months for Iphone13:$2000\n",
      "Expected sales for a period of 4 months for Iphone13:$4000\n",
      "Expected sales for a period of 6 months for Iphone13:$6000\n",
      "Expected sales for a period of 2 months for Iphone13:$2200\n",
      "Expected sales for a period of 4 months for Iphone13:$4400\n",
      "Expected sales for a period of 6 months for Iphone13:$6600\n",
      "Expected sales for a period of 2 months for Iphone13:$2400\n",
      "Expected sales for a period of 4 months for Iphone13:$4800\n",
      "Expected sales for a period of 6 months for Iphone13:$7200\n",
      "Expected sales for a period of 2 months for Iphone13:$2600\n",
      "Expected sales for a period of 4 months for Iphone13:$5200\n",
      "Expected sales for a period of 6 months for Iphone13:$7800\n",
      "Expected sales for a period of 2 months for Iphone13:$2800\n",
      "Expected sales for a period of 4 months for Iphone13:$5600\n",
      "Expected sales for a period of 6 months for Iphone13:$8400\n",
      "Expected sales for a period of 2 months for Iphone13:$3000\n",
      "Expected sales for a period of 4 months for Iphone13:$6000\n",
      "Expected sales for a period of 6 months for Iphone13:$9000\n",
      "Expected sales for a period of 2 months for Ipohone13ProMax:$2000\n",
      "Expected sales for a period of 4 months for Ipohone13ProMax:$4000\n",
      "Expected sales for a period of 6 months for Ipohone13ProMax:$6000\n",
      "Expected sales for a period of 2 months for Ipohone13ProMax:$2200\n",
      "Expected sales for a period of 4 months for Ipohone13ProMax:$4400\n",
      "Expected sales for a period of 6 months for Ipohone13ProMax:$6600\n",
      "Expected sales for a period of 2 months for Ipohone13ProMax:$2400\n",
      "Expected sales for a period of 4 months for Ipohone13ProMax:$4800\n",
      "Expected sales for a period of 6 months for Ipohone13ProMax:$7200\n",
      "Expected sales for a period of 2 months for Ipohone13ProMax:$2600\n",
      "Expected sales for a period of 4 months for Ipohone13ProMax:$5200\n",
      "Expected sales for a period of 6 months for Ipohone13ProMax:$7800\n",
      "Expected sales for a period of 2 months for Ipohone13ProMax:$2800\n",
      "Expected sales for a period of 4 months for Ipohone13ProMax:$5600\n",
      "Expected sales for a period of 6 months for Ipohone13ProMax:$8400\n",
      "Expected sales for a period of 2 months for Ipohone13ProMax:$3000\n",
      "Expected sales for a period of 4 months for Ipohone13ProMax:$6000\n",
      "Expected sales for a period of 6 months for Ipohone13ProMax:$9000\n"
     ]
    }
   ],
   "source": [
    "products=['Iphone13','Ipohone13ProMax']\n",
    "exp_sales=[1000,1100,1200,1300,1400,1500]\n",
    "production_time=(2,4,6)\n",
    "for i in products:\n",
    "    for j in exp_sales:\n",
    "        for k in production_time:\n",
    "            print('Expected sales for a period of {0} months for {1}:${sales}'.format(k,i,sales=j*k))"
   ]
  },
  {
   "cell_type": "markdown",
   "id": "66ed81e0",
   "metadata": {},
   "source": [
    "# List Comprehensions"
   ]
  },
  {
   "cell_type": "code",
   "execution_count": 15,
   "id": "9ed527a9",
   "metadata": {
    "scrolled": true
   },
   "outputs": [
    {
     "name": "stdout",
     "output_type": "stream",
     "text": [
      "[2, 26, 8, 10, 126, 200]\n"
     ]
    }
   ],
   "source": [
    "numbers=[1,13,4,5,63,100]\n",
    "new_numbers=[]\n",
    "for n in numbers:\n",
    "    new_numbers.append(n*2)\n",
    "print(new_numbers)"
   ]
  },
  {
   "cell_type": "code",
   "execution_count": 17,
   "id": "174f870e",
   "metadata": {
    "scrolled": true
   },
   "outputs": [
    {
     "name": "stdout",
     "output_type": "stream",
     "text": [
      "0 1 2 3 4 1 2 3 4 5 "
     ]
    }
   ],
   "source": [
    "for i in range(2):\n",
    "    for j in range(5):\n",
    "        print(i+j,end=' ')"
   ]
  },
  {
   "cell_type": "code",
   "execution_count": 18,
   "id": "4fd9cddc",
   "metadata": {
    "scrolled": true
   },
   "outputs": [
    {
     "data": {
      "text/plain": [
       "[0, 1, 2, 3, 4, 1, 2, 3, 4, 5]"
      ]
     },
     "execution_count": 18,
     "metadata": {},
     "output_type": "execute_result"
    }
   ],
   "source": [
    "list_comprehension1=[i+j for i in range(2) for j in range(5)]\n",
    "list_comprehension1"
   ]
  },
  {
   "cell_type": "code",
   "execution_count": 21,
   "id": "7f04fb80",
   "metadata": {
    "scrolled": true
   },
   "outputs": [
    {
     "name": "stdout",
     "output_type": "stream",
     "text": [
      "[[0, 1], [1, 2], [2, 3], [3, 4], [4, 5]]\n",
      "<class 'list'>\n"
     ]
    }
   ],
   "source": [
    "#Multidimensional List comprehension\n",
    "list_comprehension2=[[i+j for i in range(2)]for j in range(5)]\n",
    "print(list_comprehension2)\n",
    "print(type(list_comprehension2[1]))"
   ]
  },
  {
   "cell_type": "code",
   "execution_count": 22,
   "id": "fec97ede",
   "metadata": {
    "scrolled": true
   },
   "outputs": [
    {
     "data": {
      "text/plain": [
       "[1, 2, 3, 4, 5, 6, 7, 8, 9, 10]"
      ]
     },
     "execution_count": 22,
     "metadata": {},
     "output_type": "execute_result"
    }
   ],
   "source": [
    "list(range(1,11))"
   ]
  },
  {
   "cell_type": "code",
   "execution_count": 27,
   "id": "748ae14b",
   "metadata": {},
   "outputs": [
    {
     "data": {
      "text/plain": [
       "[1, 27, 125, 343, 729]"
      ]
     },
     "execution_count": 27,
     "metadata": {},
     "output_type": "execute_result"
    }
   ],
   "source": [
    "#Dari range 1-10\n",
    "#IF dibagi 2 remainder nya BUKAN (NOT EQUAL) to 0, angkanya dipilih\n",
    "#Habis dipilih, dipangkat 3\n",
    "\n",
    "[i**3 for i in range(1,11) if i%2 !=0]"
   ]
  },
  {
   "cell_type": "code",
   "execution_count": 30,
   "id": "40836a45",
   "metadata": {
    "scrolled": true
   },
   "outputs": [
    {
     "name": "stdout",
     "output_type": "stream",
     "text": [
      "1\n",
      "27\n",
      "125\n",
      "343\n",
      "729\n"
     ]
    }
   ],
   "source": [
    "for i in range(1,11):\n",
    "    if i%2!=0:\n",
    "        print(i**3)"
   ]
  },
  {
   "cell_type": "code",
   "execution_count": 31,
   "id": "ef793162",
   "metadata": {},
   "outputs": [
    {
     "name": "stdout",
     "output_type": "stream",
     "text": [
      "1 even 27 even 125 even 343 even 729 even "
     ]
    }
   ],
   "source": [
    "for i in range(1,11):\n",
    "    if i%2!=0:\n",
    "        print(i**3,end=' ')\n",
    "    else:\n",
    "        print('even',end=' ')"
   ]
  },
  {
   "cell_type": "code",
   "execution_count": 32,
   "id": "68c96572",
   "metadata": {
    "scrolled": true
   },
   "outputs": [
    {
     "data": {
      "text/plain": [
       "[1, 'even', 27, 'even', 125, 'even', 343, 'even', 729, 'even']"
      ]
     },
     "execution_count": 32,
     "metadata": {},
     "output_type": "execute_result"
    }
   ],
   "source": [
    "[i**3 if i%2!=0 else 'even' for i in range(1,11)]"
   ]
  },
  {
   "cell_type": "markdown",
   "id": "2e8fd8ef",
   "metadata": {},
   "source": [
    "# Lambda Function"
   ]
  },
  {
   "cell_type": "code",
   "execution_count": 33,
   "id": "afc5471e",
   "metadata": {},
   "outputs": [
    {
     "data": {
      "text/plain": [
       "4"
      ]
     },
     "execution_count": 33,
     "metadata": {},
     "output_type": "execute_result"
    }
   ],
   "source": [
    "def power_of_2(x):\n",
    "    return x**2\n",
    "power_of_2(2)"
   ]
  },
  {
   "cell_type": "code",
   "execution_count": 34,
   "id": "56e660f9",
   "metadata": {
    "scrolled": true
   },
   "outputs": [
    {
     "data": {
      "text/plain": [
       "9"
      ]
     },
     "execution_count": 34,
     "metadata": {},
     "output_type": "execute_result"
    }
   ],
   "source": [
    "raise_2=lambda x:x**2\n",
    "raise_2(3)"
   ]
  },
  {
   "cell_type": "code",
   "execution_count": 35,
   "id": "54a47f49",
   "metadata": {
    "scrolled": true
   },
   "outputs": [
    {
     "data": {
      "text/plain": [
       "5.5"
      ]
     },
     "execution_count": 35,
     "metadata": {},
     "output_type": "execute_result"
    }
   ],
   "source": [
    "#11/2=5.5\n",
    "(lambda x:x/2) (11)"
   ]
  },
  {
   "cell_type": "code",
   "execution_count": 36,
   "id": "0eb11d0e",
   "metadata": {
    "scrolled": true
   },
   "outputs": [
    {
     "data": {
      "text/plain": [
       "53.792"
      ]
     },
     "execution_count": 36,
     "metadata": {},
     "output_type": "execute_result"
    }
   ],
   "source": [
    "#(2+5*2**4)**2/(2+3)**3\n",
    "#(82)**2/125\n",
    "(lambda x: (2+5*x**4)**2/(x+3)**3) (2)"
   ]
  },
  {
   "cell_type": "code",
   "execution_count": 38,
   "id": "f32c8f7d",
   "metadata": {
    "scrolled": true
   },
   "outputs": [
    {
     "data": {
      "text/plain": [
       "7"
      ]
     },
     "execution_count": 38,
     "metadata": {},
     "output_type": "execute_result"
    }
   ],
   "source": [
    "sum_xy=lambda x,y:x+y\n",
    "sum_xy(4,3)"
   ]
  },
  {
   "cell_type": "code",
   "execution_count": 40,
   "id": "73ea4ea3",
   "metadata": {},
   "outputs": [
    {
     "data": {
      "text/plain": [
       "24"
      ]
     },
     "execution_count": 40,
     "metadata": {},
     "output_type": "execute_result"
    }
   ],
   "source": [
    "#4 + (4*5)=24\n",
    "sum_xy=lambda x,y:x+y(x)\n",
    "sum_xy(4,lambda x:x*5)"
   ]
  }
 ],
 "metadata": {
  "kernelspec": {
   "display_name": "Python 3",
   "language": "python",
   "name": "python3"
  },
  "language_info": {
   "codemirror_mode": {
    "name": "ipython",
    "version": 3
   },
   "file_extension": ".py",
   "mimetype": "text/x-python",
   "name": "python",
   "nbconvert_exporter": "python",
   "pygments_lexer": "ipython3",
   "version": "3.7.1"
  }
 },
 "nbformat": 4,
 "nbformat_minor": 5
}
