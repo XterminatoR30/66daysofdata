{
 "cells": [
  {
   "cell_type": "markdown",
   "id": "714e1b13",
   "metadata": {},
   "source": [
    "# DEFINE FUNCTIONS"
   ]
  },
  {
   "cell_type": "code",
   "execution_count": 1,
   "id": "cfb187f5",
   "metadata": {},
   "outputs": [],
   "source": [
    "#Define function\n",
    "def simple():\n",
    "    print(\"Hello world!\")"
   ]
  },
  {
   "cell_type": "code",
   "execution_count": 2,
   "id": "14c447f0",
   "metadata": {},
   "outputs": [
    {
     "name": "stdout",
     "output_type": "stream",
     "text": [
      "Hello world!\n"
     ]
    }
   ],
   "source": [
    "simple()"
   ]
  },
  {
   "cell_type": "code",
   "execution_count": 3,
   "id": "ebf4d21b",
   "metadata": {},
   "outputs": [],
   "source": [
    "def plus_ten(a):\n",
    "    return a+10"
   ]
  },
  {
   "cell_type": "code",
   "execution_count": 4,
   "id": "18d6ffab",
   "metadata": {},
   "outputs": [
    {
     "data": {
      "text/plain": [
       "13"
      ]
     },
     "execution_count": 4,
     "metadata": {},
     "output_type": "execute_result"
    }
   ],
   "source": [
    "plus_ten(3)"
   ]
  },
  {
   "cell_type": "code",
   "execution_count": 5,
   "id": "2b8a9b41",
   "metadata": {},
   "outputs": [],
   "source": [
    "def wow(a):\n",
    "    result=a+10\n",
    "    print(\"Outcome\")\n",
    "    return result"
   ]
  },
  {
   "cell_type": "code",
   "execution_count": 6,
   "id": "17296630",
   "metadata": {},
   "outputs": [
    {
     "name": "stdout",
     "output_type": "stream",
     "text": [
      "Outcome\n"
     ]
    },
    {
     "data": {
      "text/plain": [
       "53"
      ]
     },
     "execution_count": 6,
     "metadata": {},
     "output_type": "execute_result"
    }
   ],
   "source": [
    "wow(43)"
   ]
  },
  {
   "cell_type": "code",
   "execution_count": 7,
   "id": "bd8f7c31",
   "metadata": {},
   "outputs": [],
   "source": [
    "#Function inside another function\n",
    "def wage(w_hours):\n",
    "    return w_hours*25\n",
    "def with_bonus(w_hours):\n",
    "    return wage(w_hours)+50"
   ]
  },
  {
   "cell_type": "code",
   "execution_count": 8,
   "id": "c28d0d51",
   "metadata": {
    "scrolled": true
   },
   "outputs": [
    {
     "data": {
      "text/plain": [
       "(1075, 1125)"
      ]
     },
     "execution_count": 8,
     "metadata": {},
     "output_type": "execute_result"
    }
   ],
   "source": [
    "wage(43),with_bonus(43)"
   ]
  },
  {
   "cell_type": "code",
   "execution_count": 9,
   "id": "7c184542",
   "metadata": {},
   "outputs": [],
   "source": [
    "def johny(save):\n",
    "    if save>=100:\n",
    "        return save+10\n",
    "    else:\n",
    "        print(\"Save more!\")\n",
    "        return save"
   ]
  },
  {
   "cell_type": "code",
   "execution_count": 10,
   "id": "86ba1794",
   "metadata": {
    "scrolled": true
   },
   "outputs": [
    {
     "data": {
      "text/plain": [
       "110"
      ]
     },
     "execution_count": 10,
     "metadata": {},
     "output_type": "execute_result"
    }
   ],
   "source": [
    "johny(100)"
   ]
  },
  {
   "cell_type": "code",
   "execution_count": 11,
   "id": "b301aa76",
   "metadata": {
    "scrolled": true
   },
   "outputs": [
    {
     "name": "stdout",
     "output_type": "stream",
     "text": [
      "Save more!\n"
     ]
    },
    {
     "data": {
      "text/plain": [
       "80"
      ]
     },
     "execution_count": 11,
     "metadata": {},
     "output_type": "execute_result"
    }
   ],
   "source": [
    "johny(80)"
   ]
  },
  {
   "cell_type": "code",
   "execution_count": 12,
   "id": "7e2d1c26",
   "metadata": {},
   "outputs": [],
   "source": [
    "#Functions containing FEW ARGUMETNS/PARAMETERS\n",
    "def subtract(a,b,c):\n",
    "    result = a-b*c\n",
    "    print(\"Parameters a equals=\",a)\n",
    "    print(\"Parameters b equals=\",b)\n",
    "    print(\"Parameters c equals=\",c)\n",
    "    return result"
   ]
  },
  {
   "cell_type": "code",
   "execution_count": 13,
   "id": "c4e46aa8",
   "metadata": {},
   "outputs": [
    {
     "name": "stdout",
     "output_type": "stream",
     "text": [
      "Parameters a equals= 10\n",
      "Parameters b equals= 3\n",
      "Parameters c equals= 2\n"
     ]
    },
    {
     "data": {
      "text/plain": [
       "4"
      ]
     },
     "execution_count": 13,
     "metadata": {},
     "output_type": "execute_result"
    }
   ],
   "source": [
    "subtract(10,3,2)"
   ]
  },
  {
   "cell_type": "code",
   "execution_count": 14,
   "id": "97685496",
   "metadata": {
    "scrolled": true
   },
   "outputs": [
    {
     "name": "stdout",
     "output_type": "stream",
     "text": [
      "Parameters a equals= 10\n",
      "Parameters b equals= 3\n",
      "Parameters c equals= 2\n"
     ]
    },
    {
     "data": {
      "text/plain": [
       "4"
      ]
     },
     "execution_count": 14,
     "metadata": {},
     "output_type": "execute_result"
    }
   ],
   "source": [
    "subtract(b=3,a=10,c=2)"
   ]
  },
  {
   "cell_type": "markdown",
   "id": "b829d7dd",
   "metadata": {},
   "source": [
    "# BUILT IN FUNCTIONS"
   ]
  },
  {
   "cell_type": "code",
   "execution_count": 15,
   "id": "b9014b11",
   "metadata": {
    "scrolled": true
   },
   "outputs": [
    {
     "data": {
      "text/plain": [
       "334"
      ]
     },
     "execution_count": 15,
     "metadata": {},
     "output_type": "execute_result"
    }
   ],
   "source": [
    "#MAX Function\n",
    "max(334,43,34)"
   ]
  },
  {
   "cell_type": "code",
   "execution_count": 16,
   "id": "3c2dade7",
   "metadata": {
    "scrolled": true
   },
   "outputs": [
    {
     "data": {
      "text/plain": [
       "1"
      ]
     },
     "execution_count": 16,
     "metadata": {},
     "output_type": "execute_result"
    }
   ],
   "source": [
    "#MIN Function\n",
    "min(1,2,3)"
   ]
  },
  {
   "cell_type": "code",
   "execution_count": 17,
   "id": "d79778ed",
   "metadata": {
    "scrolled": true
   },
   "outputs": [
    {
     "data": {
      "text/plain": [
       "43"
      ]
     },
     "execution_count": 17,
     "metadata": {},
     "output_type": "execute_result"
    }
   ],
   "source": [
    "#ABS Function\n",
    "z=-43\n",
    "abs(z)"
   ]
  },
  {
   "cell_type": "code",
   "execution_count": 18,
   "id": "a65dd332",
   "metadata": {
    "scrolled": true
   },
   "outputs": [
    {
     "data": {
      "text/plain": [
       "10"
      ]
     },
     "execution_count": 18,
     "metadata": {},
     "output_type": "execute_result"
    }
   ],
   "source": [
    "#SUM Function\n",
    "list=[1,2,3,4]\n",
    "sum(list)"
   ]
  },
  {
   "cell_type": "code",
   "execution_count": 19,
   "id": "8392a907",
   "metadata": {},
   "outputs": [
    {
     "data": {
      "text/plain": [
       "3.56"
      ]
     },
     "execution_count": 19,
     "metadata": {},
     "output_type": "execute_result"
    }
   ],
   "source": [
    "round(3.555,2)"
   ]
  },
  {
   "cell_type": "code",
   "execution_count": 20,
   "id": "5d72ad73",
   "metadata": {
    "scrolled": true
   },
   "outputs": [
    {
     "data": {
      "text/plain": [
       "3"
      ]
     },
     "execution_count": 20,
     "metadata": {},
     "output_type": "execute_result"
    }
   ],
   "source": [
    "round(3.2)"
   ]
  },
  {
   "cell_type": "code",
   "execution_count": 21,
   "id": "e073fc47",
   "metadata": {
    "scrolled": true
   },
   "outputs": [
    {
     "data": {
      "text/plain": [
       "1024"
      ]
     },
     "execution_count": 21,
     "metadata": {},
     "output_type": "execute_result"
    }
   ],
   "source": [
    "#POWER OF X AND Y\n",
    "pow(2,10)"
   ]
  },
  {
   "cell_type": "code",
   "execution_count": 22,
   "id": "8b989a27",
   "metadata": {
    "scrolled": true
   },
   "outputs": [
    {
     "data": {
      "text/plain": [
       "1024"
      ]
     },
     "execution_count": 22,
     "metadata": {},
     "output_type": "execute_result"
    }
   ],
   "source": [
    "2**10"
   ]
  },
  {
   "cell_type": "code",
   "execution_count": 24,
   "id": "1b8c3d27",
   "metadata": {
    "scrolled": true
   },
   "outputs": [
    {
     "data": {
      "text/plain": [
       "7"
      ]
     },
     "execution_count": 24,
     "metadata": {},
     "output_type": "execute_result"
    }
   ],
   "source": [
    "len('Ken Jee')"
   ]
  },
  {
   "cell_type": "markdown",
   "id": "93be4b18",
   "metadata": {},
   "source": [
    "# LISTS"
   ]
  },
  {
   "cell_type": "code",
   "execution_count": 25,
   "id": "32ecd287",
   "metadata": {},
   "outputs": [
    {
     "data": {
      "text/plain": [
       "['Ken', 'Jee', 'Kevin', 'Cliff', 'Gunawan']"
      ]
     },
     "execution_count": 25,
     "metadata": {},
     "output_type": "execute_result"
    }
   ],
   "source": [
    "love=['Ken','Jee','Kevin','Cliff','Gunawan']\n",
    "love"
   ]
  },
  {
   "cell_type": "code",
   "execution_count": 26,
   "id": "44d6e2d1",
   "metadata": {
    "scrolled": true
   },
   "outputs": [
    {
     "data": {
      "text/plain": [
       "'Kevin'"
      ]
     },
     "execution_count": 26,
     "metadata": {},
     "output_type": "execute_result"
    }
   ],
   "source": [
    "love[2]"
   ]
  },
  {
   "cell_type": "code",
   "execution_count": 27,
   "id": "d5a90de9",
   "metadata": {
    "scrolled": true
   },
   "outputs": [
    {
     "data": {
      "text/plain": [
       "'Gunawan'"
      ]
     },
     "execution_count": 27,
     "metadata": {},
     "output_type": "execute_result"
    }
   ],
   "source": [
    "love[-1]"
   ]
  },
  {
   "cell_type": "code",
   "execution_count": 28,
   "id": "52dd221a",
   "metadata": {
    "scrolled": true
   },
   "outputs": [
    {
     "data": {
      "text/plain": [
       "['Ken', 'Jee', 'Kevin', 'Cliff', 'Bradley']"
      ]
     },
     "execution_count": 28,
     "metadata": {},
     "output_type": "execute_result"
    }
   ],
   "source": [
    "love[-1]='Bradley'\n",
    "love"
   ]
  },
  {
   "cell_type": "code",
   "execution_count": 29,
   "id": "dfae502a",
   "metadata": {
    "scrolled": true
   },
   "outputs": [
    {
     "data": {
      "text/plain": [
       "['Ken', 'Jee', 'Kevin', 'Bradley']"
      ]
     },
     "execution_count": 29,
     "metadata": {},
     "output_type": "execute_result"
    }
   ],
   "source": [
    "del love[3]\n",
    "love"
   ]
  },
  {
   "cell_type": "code",
   "execution_count": 30,
   "id": "8c9abdc0",
   "metadata": {
    "scrolled": true
   },
   "outputs": [
    {
     "data": {
      "text/plain": [
       "['Ken', 'Jee', 'Kevin', 'Bradley', 'Dwayne']"
      ]
     },
     "execution_count": 30,
     "metadata": {},
     "output_type": "execute_result"
    }
   ],
   "source": [
    "love.append('Dwayne')\n",
    "love"
   ]
  },
  {
   "cell_type": "code",
   "execution_count": 31,
   "id": "b9ba7f0f",
   "metadata": {
    "scrolled": false
   },
   "outputs": [
    {
     "data": {
      "text/plain": [
       "['Ken', 'Jee', 'Kevin', 'Bradley']"
      ]
     },
     "execution_count": 31,
     "metadata": {},
     "output_type": "execute_result"
    }
   ],
   "source": [
    "del love[-1]\n",
    "love"
   ]
  },
  {
   "cell_type": "code",
   "execution_count": 32,
   "id": "598c4eba",
   "metadata": {},
   "outputs": [
    {
     "data": {
      "text/plain": [
       "['Ken', 'Jee', 'Kevin', 'Bradley', 'George', 'Catherine']"
      ]
     },
     "execution_count": 32,
     "metadata": {},
     "output_type": "execute_result"
    }
   ],
   "source": [
    "love.extend(['George','Catherine'])\n",
    "love"
   ]
  },
  {
   "cell_type": "code",
   "execution_count": 33,
   "id": "6908e46f",
   "metadata": {
    "scrolled": true
   },
   "outputs": [
    {
     "name": "stdout",
     "output_type": "stream",
     "text": [
      "Name:Ken\n"
     ]
    }
   ],
   "source": [
    "print(\"Name:\" +love[0])"
   ]
  },
  {
   "cell_type": "code",
   "execution_count": 34,
   "id": "190df981",
   "metadata": {
    "scrolled": true
   },
   "outputs": [
    {
     "data": {
      "text/plain": [
       "6"
      ]
     },
     "execution_count": 34,
     "metadata": {},
     "output_type": "execute_result"
    }
   ],
   "source": [
    "len(love)"
   ]
  },
  {
   "cell_type": "code",
   "execution_count": 35,
   "id": "0682c5a5",
   "metadata": {
    "scrolled": true
   },
   "outputs": [
    {
     "data": {
      "text/plain": [
       "['Jee', 'Kevin']"
      ]
     },
     "execution_count": 35,
     "metadata": {},
     "output_type": "execute_result"
    }
   ],
   "source": [
    "love[1:3]"
   ]
  },
  {
   "cell_type": "code",
   "execution_count": 36,
   "id": "51a4c8fd",
   "metadata": {
    "scrolled": true
   },
   "outputs": [
    {
     "data": {
      "text/plain": [
       "['Ken', 'Jee']"
      ]
     },
     "execution_count": 36,
     "metadata": {},
     "output_type": "execute_result"
    }
   ],
   "source": [
    "love[:2]"
   ]
  },
  {
   "cell_type": "code",
   "execution_count": 37,
   "id": "b5f4cc27",
   "metadata": {
    "scrolled": true
   },
   "outputs": [
    {
     "data": {
      "text/plain": [
       "['Catherine']"
      ]
     },
     "execution_count": 37,
     "metadata": {},
     "output_type": "execute_result"
    }
   ],
   "source": [
    "love[5:]"
   ]
  },
  {
   "cell_type": "code",
   "execution_count": 38,
   "id": "8a9122a8",
   "metadata": {
    "scrolled": true
   },
   "outputs": [
    {
     "data": {
      "text/plain": [
       "['George', 'Catherine']"
      ]
     },
     "execution_count": 38,
     "metadata": {},
     "output_type": "execute_result"
    }
   ],
   "source": [
    "love[-2:]"
   ]
  },
  {
   "cell_type": "code",
   "execution_count": 39,
   "id": "04e464b3",
   "metadata": {
    "scrolled": true
   },
   "outputs": [
    {
     "data": {
      "text/plain": [
       "['Catherine']"
      ]
     },
     "execution_count": 39,
     "metadata": {},
     "output_type": "execute_result"
    }
   ],
   "source": [
    "love[-1:]"
   ]
  },
  {
   "cell_type": "code",
   "execution_count": 40,
   "id": "c1818d77",
   "metadata": {
    "scrolled": true
   },
   "outputs": [
    {
     "data": {
      "text/plain": [
       "['Raymond', 'Keira']"
      ]
     },
     "execution_count": 40,
     "metadata": {},
     "output_type": "execute_result"
    }
   ],
   "source": [
    "newcomers=['Raymond','Keira']\n",
    "newcomers"
   ]
  },
  {
   "cell_type": "code",
   "execution_count": 41,
   "id": "218acdd8",
   "metadata": {
    "scrolled": true
   },
   "outputs": [
    {
     "data": {
      "text/plain": [
       "[['Ken', 'Jee', 'Kevin', 'Bradley', 'George', 'Catherine'],\n",
       " ['Raymond', 'Keira']]"
      ]
     },
     "execution_count": 41,
     "metadata": {},
     "output_type": "execute_result"
    }
   ],
   "source": [
    "lovestory=[love,newcomers]\n",
    "lovestory"
   ]
  },
  {
   "cell_type": "code",
   "execution_count": 42,
   "id": "e92db96f",
   "metadata": {
    "scrolled": true
   },
   "outputs": [
    {
     "data": {
      "text/plain": [
       "2"
      ]
     },
     "execution_count": 42,
     "metadata": {},
     "output_type": "execute_result"
    }
   ],
   "source": [
    "len(lovestory)"
   ]
  },
  {
   "cell_type": "code",
   "execution_count": 43,
   "id": "3ef9c956",
   "metadata": {
    "scrolled": true
   },
   "outputs": [
    {
     "data": {
      "text/plain": [
       "['Bradley', 'Catherine', 'George', 'Jee', 'Ken', 'Kevin']"
      ]
     },
     "execution_count": 43,
     "metadata": {},
     "output_type": "execute_result"
    }
   ],
   "source": [
    "love.sort()\n",
    "love"
   ]
  },
  {
   "cell_type": "code",
   "execution_count": 44,
   "id": "691fd4af",
   "metadata": {
    "scrolled": true
   },
   "outputs": [
    {
     "data": {
      "text/plain": [
       "['Kevin', 'Ken', 'Jee', 'George', 'Catherine', 'Bradley']"
      ]
     },
     "execution_count": 44,
     "metadata": {},
     "output_type": "execute_result"
    }
   ],
   "source": [
    "love.sort(reverse=True)\n",
    "love"
   ]
  },
  {
   "cell_type": "code",
   "execution_count": 46,
   "id": "fc9262cd",
   "metadata": {
    "scrolled": true
   },
   "outputs": [
    {
     "data": {
      "text/plain": [
       "[5, 4, 3, 2, 1]"
      ]
     },
     "execution_count": 46,
     "metadata": {},
     "output_type": "execute_result"
    }
   ],
   "source": [
    "numbers=[1,2,3,4,5]\n",
    "numbers.sort(reverse=True)\n",
    "numbers"
   ]
  },
  {
   "cell_type": "markdown",
   "id": "38f26af9",
   "metadata": {},
   "source": [
    "# TUPLE"
   ]
  },
  {
   "cell_type": "code",
   "execution_count": 47,
   "id": "2642f038",
   "metadata": {
    "scrolled": true
   },
   "outputs": [
    {
     "data": {
      "text/plain": [
       "(43, 53, 67)"
      ]
     },
     "execution_count": 47,
     "metadata": {},
     "output_type": "execute_result"
    }
   ],
   "source": [
    "#TUPLE\n",
    "y=(43,53,67)\n",
    "y"
   ]
  },
  {
   "cell_type": "code",
   "execution_count": 48,
   "id": "37ce8d2e",
   "metadata": {
    "scrolled": true
   },
   "outputs": [
    {
     "data": {
      "text/plain": [
       "43"
      ]
     },
     "execution_count": 48,
     "metadata": {},
     "output_type": "execute_result"
    }
   ],
   "source": [
    "y[0]"
   ]
  },
  {
   "cell_type": "code",
   "execution_count": 49,
   "id": "f2a076b1",
   "metadata": {
    "scrolled": true
   },
   "outputs": [
    {
     "data": {
      "text/plain": [
       "[(21, 23, 35), (43, 53, 67)]"
      ]
     },
     "execution_count": 49,
     "metadata": {},
     "output_type": "execute_result"
    }
   ],
   "source": [
    "x=(21,23,35)\n",
    "x\n",
    "lists=[x,y]\n",
    "lists"
   ]
  },
  {
   "cell_type": "code",
   "execution_count": 50,
   "id": "a24fefd6",
   "metadata": {
    "scrolled": true
   },
   "outputs": [
    {
     "name": "stdout",
     "output_type": "stream",
     "text": [
      "Age: 34\n",
      "Years of school 17\n"
     ]
    }
   ],
   "source": [
    "#Split method\n",
    "(age,years_of_school)=\"34,17\".split(',')\n",
    "print('Age:',age)\n",
    "print('Years of school',years_of_school)"
   ]
  },
  {
   "cell_type": "code",
   "execution_count": 51,
   "id": "4254fc50",
   "metadata": {
    "scrolled": true
   },
   "outputs": [
    {
     "name": "stdout",
     "output_type": "stream",
     "text": [
      "Area and Perimeter:\n"
     ]
    },
    {
     "data": {
      "text/plain": [
       "(9, 12)"
      ]
     },
     "execution_count": 51,
     "metadata": {},
     "output_type": "execute_result"
    }
   ],
   "source": [
    "#TUPLE IN A FUNCTION\n",
    "def perimeter(x):\n",
    "    a=x**2\n",
    "    p=4*x\n",
    "    print(\"Area and Perimeter:\")\n",
    "    return a,p\n",
    "perimeter(3)"
   ]
  },
  {
   "cell_type": "markdown",
   "id": "472dbe49",
   "metadata": {},
   "source": [
    "# DICTIONARIES"
   ]
  },
  {
   "cell_type": "code",
   "execution_count": 53,
   "id": "beff614c",
   "metadata": {
    "scrolled": true
   },
   "outputs": [
    {
     "data": {
      "text/plain": [
       "{'k1': 'someone', 'k2': 'strange'}"
      ]
     },
     "execution_count": 53,
     "metadata": {},
     "output_type": "execute_result"
    }
   ],
   "source": [
    "dict={'k1':'someone','k2':'strange'}\n",
    "dict"
   ]
  },
  {
   "cell_type": "code",
   "execution_count": 54,
   "id": "6cbb6316",
   "metadata": {
    "scrolled": true
   },
   "outputs": [
    {
     "data": {
      "text/plain": [
       "'someone'"
      ]
     },
     "execution_count": 54,
     "metadata": {},
     "output_type": "execute_result"
    }
   ],
   "source": [
    "#Calling a key value\n",
    "dict['k1']"
   ]
  },
  {
   "cell_type": "code",
   "execution_count": 55,
   "id": "8ecedd4d",
   "metadata": {
    "scrolled": true
   },
   "outputs": [
    {
     "data": {
      "text/plain": [
       "{'k1': 'someone', 'k2': 'strange', 'k3': 'came to me'}"
      ]
     },
     "execution_count": 55,
     "metadata": {},
     "output_type": "execute_result"
    }
   ],
   "source": [
    "#Adding key value pair\n",
    "dict['k3']='came to me'\n",
    "dict"
   ]
  },
  {
   "cell_type": "code",
   "execution_count": 56,
   "id": "5b3da56a",
   "metadata": {
    "scrolled": true
   },
   "outputs": [
    {
     "data": {
      "text/plain": [
       "{'k1': 'someone', 'k2': 'kevin', 'k3': 'came to me'}"
      ]
     },
     "execution_count": 56,
     "metadata": {},
     "output_type": "execute_result"
    }
   ],
   "source": [
    "#Replacing key value pair\n",
    "dict['k2']='kevin'\n",
    "dict"
   ]
  },
  {
   "cell_type": "code",
   "execution_count": 57,
   "id": "a8bfe94e",
   "metadata": {},
   "outputs": [
    {
     "data": {
      "text/plain": [
       "['Ken Jee', 'Brandon', 'Tina Huang']"
      ]
     },
     "execution_count": 57,
     "metadata": {},
     "output_type": "execute_result"
    }
   ],
   "source": [
    "workers={'company1':'Kevin Cliff','company2':['Ken Jee','Brandon','Tina Huang']}\n",
    "workers['company2']"
   ]
  },
  {
   "cell_type": "code",
   "execution_count": 59,
   "id": "c4bd62a7",
   "metadata": {
    "scrolled": true
   },
   "outputs": [
    {
     "name": "stdout",
     "output_type": "stream",
     "text": [
      "{'PointGuard': 'StephCurry', 'ShootingGuard': 'KlayThompson', 'SmallForward': 'AndreIguodala', 'PowerForward': 'DraymondGreen', 'Center': 'KevonLooney'}\n"
     ]
    }
   ],
   "source": [
    "#Assigning Lists into a Dictionary\n",
    "team={}\n",
    "team['PointGuard']='StephCurry'\n",
    "team['ShootingGuard']='KlayThompson'\n",
    "team['SmallForward']='AndreIguodala'\n",
    "team['PowerForward']='DraymondGreen'\n",
    "team['Center']='KevonLooney'\n",
    "print(team)"
   ]
  },
  {
   "cell_type": "code",
   "execution_count": 60,
   "id": "7ecf6e48",
   "metadata": {
    "scrolled": true
   },
   "outputs": [
    {
     "name": "stdout",
     "output_type": "stream",
     "text": [
      "StephCurry\n"
     ]
    }
   ],
   "source": [
    "print(team['PointGuard'])"
   ]
  },
  {
   "cell_type": "code",
   "execution_count": 61,
   "id": "341dd93d",
   "metadata": {
    "scrolled": false
   },
   "outputs": [
    {
     "name": "stdout",
     "output_type": "stream",
     "text": [
      "KlayThompson\n"
     ]
    }
   ],
   "source": [
    "print(team.get('ShootingGuard'))"
   ]
  },
  {
   "cell_type": "markdown",
   "id": "fe24c3f9",
   "metadata": {},
   "source": [
    "# FOR LOOPS (ITERATIONS)"
   ]
  },
  {
   "cell_type": "code",
   "execution_count": 62,
   "id": "e6049e69",
   "metadata": {},
   "outputs": [
    {
     "name": "stdout",
     "output_type": "stream",
     "text": [
      "0 2 4 6 8 10 "
     ]
    }
   ],
   "source": [
    "even=[0,2,4,6,8,10]\n",
    "for n in even:\n",
    "    print(n, end=\" \")"
   ]
  },
  {
   "cell_type": "markdown",
   "id": "67908ae8",
   "metadata": {},
   "source": [
    "# WHILE LOOPS"
   ]
  },
  {
   "cell_type": "code",
   "execution_count": 63,
   "id": "6f0cfa8c",
   "metadata": {},
   "outputs": [
    {
     "name": "stdout",
     "output_type": "stream",
     "text": [
      "0 2 4 6 8 10 12 14 16 18 20 "
     ]
    }
   ],
   "source": [
    "x=0\n",
    "while x <=20:\n",
    "    print(x, end=\" \")\n",
    "    x = x+2"
   ]
  },
  {
   "cell_type": "code",
   "execution_count": 64,
   "id": "3898703b",
   "metadata": {},
   "outputs": [
    {
     "name": "stdout",
     "output_type": "stream",
     "text": [
      "0 2 4 6 8 10 12 14 16 18 20 "
     ]
    }
   ],
   "source": [
    "x=0\n",
    "while x <=20:\n",
    "    print(x, end=\" \")\n",
    "    x+=2"
   ]
  },
  {
   "cell_type": "code",
   "execution_count": 65,
   "id": "eebfa822",
   "metadata": {},
   "outputs": [
    {
     "data": {
      "text/plain": [
       "range(0, 10)"
      ]
     },
     "execution_count": 65,
     "metadata": {},
     "output_type": "execute_result"
    }
   ],
   "source": [
    "range(10)"
   ]
  },
  {
   "cell_type": "code",
   "execution_count": 66,
   "id": "7a55117b",
   "metadata": {
    "scrolled": true
   },
   "outputs": [
    {
     "data": {
      "text/plain": [
       "range(3, 7)"
      ]
     },
     "execution_count": 66,
     "metadata": {},
     "output_type": "execute_result"
    }
   ],
   "source": [
    "#Start value 3, Stop value 7\n",
    "range(3,7)"
   ]
  },
  {
   "cell_type": "code",
   "execution_count": 67,
   "id": "9c685aea",
   "metadata": {
    "scrolled": true
   },
   "outputs": [
    {
     "data": {
      "text/plain": [
       "range(1, 20, 2)"
      ]
     },
     "execution_count": 67,
     "metadata": {},
     "output_type": "execute_result"
    }
   ],
   "source": [
    "range(1,20,2)"
   ]
  },
  {
   "cell_type": "code",
   "execution_count": 68,
   "id": "12b2fe8b",
   "metadata": {
    "scrolled": true
   },
   "outputs": [
    {
     "name": "stdout",
     "output_type": "stream",
     "text": [
      "1 2 4 8 16 32 64 128 256 512 "
     ]
    }
   ],
   "source": [
    "#For Loops with Range\n",
    "for n in range(10):\n",
    "    print(2**n, end=\" \")"
   ]
  },
  {
   "cell_type": "code",
   "execution_count": 69,
   "id": "4dac7285",
   "metadata": {
    "scrolled": true
   },
   "outputs": [
    {
     "name": "stdout",
     "output_type": "stream",
     "text": [
      "0 Odd 2 Odd 4 Odd 6 Odd 8 Odd 10 Odd 12 Odd 14 Odd 16 Odd 18 Odd "
     ]
    }
   ],
   "source": [
    "#For loop with Conditional Statements with Range\n",
    "for x in range(20):\n",
    "    if x%2==0:\n",
    "        print(x,end=\" \")\n",
    "    else:\n",
    "        print(\"Odd\", end=\" \")"
   ]
  },
  {
   "cell_type": "code",
   "execution_count": 70,
   "id": "6a9705bf",
   "metadata": {
    "scrolled": true
   },
   "outputs": [
    {
     "name": "stdout",
     "output_type": "stream",
     "text": [
      "0 1 2 "
     ]
    }
   ],
   "source": [
    "x=[0,1,2]\n",
    "for item in x:\n",
    "    print(item,end=\" \")"
   ]
  },
  {
   "cell_type": "code",
   "execution_count": 71,
   "id": "58eb9755",
   "metadata": {
    "scrolled": true
   },
   "outputs": [
    {
     "name": "stdout",
     "output_type": "stream",
     "text": [
      "0 1 2 "
     ]
    }
   ],
   "source": [
    "for item in range(len(x)):\n",
    "    print(x[item], end=\" \")"
   ]
  },
  {
   "cell_type": "code",
   "execution_count": 72,
   "id": "08d34f06",
   "metadata": {},
   "outputs": [],
   "source": [
    "def count(numbers):\n",
    "    total=0\n",
    "    for x in numbers:\n",
    "        if x<20:\n",
    "            total+=1\n",
    "    return total"
   ]
  },
  {
   "cell_type": "code",
   "execution_count": 73,
   "id": "1b688e08",
   "metadata": {
    "scrolled": true
   },
   "outputs": [
    {
     "data": {
      "text/plain": [
       "4"
      ]
     },
     "execution_count": 73,
     "metadata": {},
     "output_type": "execute_result"
    }
   ],
   "source": [
    "list_1=[1,3,7,15,23,43,56,98]\n",
    "count(list_1)"
   ]
  },
  {
   "cell_type": "code",
   "execution_count": 74,
   "id": "e32962c4",
   "metadata": {},
   "outputs": [
    {
     "name": "stdout",
     "output_type": "stream",
     "text": [
      "Your Total is: $ 74\n"
     ]
    }
   ],
   "source": [
    "prices={\n",
    "    \"box_of_spaghetti\":4,\n",
    "    \"lasagna\":5,\n",
    "    \"hamburger\":2\n",
    "}\n",
    "quantity={\n",
    "    \"box_of_spaghetti\":6,\n",
    "    \"lasagna\":10,\n",
    "    \"hamburger\":0\n",
    "}\n",
    "\n",
    "#Rolling sum\n",
    "money_spent=0\n",
    "for i in prices:\n",
    "    money_spent=money_spent+(prices[i] *quantity[i])\n",
    "print(\"Your Total is: $\",money_spent)"
   ]
  }
 ],
 "metadata": {
  "kernelspec": {
   "display_name": "Python 3",
   "language": "python",
   "name": "python3"
  },
  "language_info": {
   "codemirror_mode": {
    "name": "ipython",
    "version": 3
   },
   "file_extension": ".py",
   "mimetype": "text/x-python",
   "name": "python",
   "nbconvert_exporter": "python",
   "pygments_lexer": "ipython3",
   "version": "3.7.1"
  }
 },
 "nbformat": 4,
 "nbformat_minor": 5
}
