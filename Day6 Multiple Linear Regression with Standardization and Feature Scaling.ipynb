{
 "cells": [
  {
   "cell_type": "code",
   "execution_count": 1,
   "id": "7dc6a4a4",
   "metadata": {},
   "outputs": [],
   "source": [
    "import numpy as np\n",
    "import pandas as pd\n",
    "import matplotlib.pyplot as plt\n",
    "from sklearn.linear_model import LinearRegression"
   ]
  },
  {
   "cell_type": "code",
   "execution_count": 2,
   "id": "e0f9db59",
   "metadata": {},
   "outputs": [],
   "source": [
    "import seaborn as sns\n",
    "sns.set()"
   ]
  },
  {
   "cell_type": "code",
   "execution_count": 3,
   "id": "5e69e976",
   "metadata": {},
   "outputs": [
    {
     "data": {
      "text/html": [
       "<div>\n",
       "<style scoped>\n",
       "    .dataframe tbody tr th:only-of-type {\n",
       "        vertical-align: middle;\n",
       "    }\n",
       "\n",
       "    .dataframe tbody tr th {\n",
       "        vertical-align: top;\n",
       "    }\n",
       "\n",
       "    .dataframe thead th {\n",
       "        text-align: right;\n",
       "    }\n",
       "</style>\n",
       "<table border=\"1\" class=\"dataframe\">\n",
       "  <thead>\n",
       "    <tr style=\"text-align: right;\">\n",
       "      <th></th>\n",
       "      <th>SAT</th>\n",
       "      <th>GPA</th>\n",
       "    </tr>\n",
       "  </thead>\n",
       "  <tbody>\n",
       "    <tr>\n",
       "      <th>0</th>\n",
       "      <td>1714</td>\n",
       "      <td>2.40</td>\n",
       "    </tr>\n",
       "    <tr>\n",
       "      <th>1</th>\n",
       "      <td>1664</td>\n",
       "      <td>2.52</td>\n",
       "    </tr>\n",
       "    <tr>\n",
       "      <th>2</th>\n",
       "      <td>1760</td>\n",
       "      <td>2.54</td>\n",
       "    </tr>\n",
       "    <tr>\n",
       "      <th>3</th>\n",
       "      <td>1685</td>\n",
       "      <td>2.74</td>\n",
       "    </tr>\n",
       "    <tr>\n",
       "      <th>4</th>\n",
       "      <td>1693</td>\n",
       "      <td>2.83</td>\n",
       "    </tr>\n",
       "  </tbody>\n",
       "</table>\n",
       "</div>"
      ],
      "text/plain": [
       "    SAT   GPA\n",
       "0  1714  2.40\n",
       "1  1664  2.52\n",
       "2  1760  2.54\n",
       "3  1685  2.74\n",
       "4  1693  2.83"
      ]
     },
     "execution_count": 3,
     "metadata": {},
     "output_type": "execute_result"
    }
   ],
   "source": [
    "data=pd.read_csv('1.01.+Simple+linear+regression.csv')\n",
    "data.head()"
   ]
  },
  {
   "cell_type": "code",
   "execution_count": 4,
   "id": "d7cf8c84",
   "metadata": {
    "scrolled": false
   },
   "outputs": [
    {
     "data": {
      "text/plain": [
       "(84, 1)"
      ]
     },
     "execution_count": 4,
     "metadata": {},
     "output_type": "execute_result"
    }
   ],
   "source": [
    "x=data['SAT']\n",
    "y=data['GPA']\n",
    "x.shape\n",
    "x_matrix=x.values.reshape(-1,1)\n",
    "x_matrix.shape"
   ]
  },
  {
   "cell_type": "code",
   "execution_count": 5,
   "id": "4c33138e",
   "metadata": {
    "scrolled": true
   },
   "outputs": [
    {
     "data": {
      "text/plain": [
       "array([[1714],\n",
       "       [1664],\n",
       "       [1760],\n",
       "       [1685],\n",
       "       [1693],\n",
       "       [1670],\n",
       "       [1764],\n",
       "       [1764],\n",
       "       [1792],\n",
       "       [1850],\n",
       "       [1735],\n",
       "       [1775],\n",
       "       [1735],\n",
       "       [1712],\n",
       "       [1773],\n",
       "       [1872],\n",
       "       [1755],\n",
       "       [1674],\n",
       "       [1842],\n",
       "       [1786],\n",
       "       [1761],\n",
       "       [1722],\n",
       "       [1663],\n",
       "       [1687],\n",
       "       [1974],\n",
       "       [1826],\n",
       "       [1787],\n",
       "       [1821],\n",
       "       [2020],\n",
       "       [1794],\n",
       "       [1769],\n",
       "       [1934],\n",
       "       [1775],\n",
       "       [1855],\n",
       "       [1880],\n",
       "       [1849],\n",
       "       [1808],\n",
       "       [1954],\n",
       "       [1777],\n",
       "       [1831],\n",
       "       [1865],\n",
       "       [1850],\n",
       "       [1966],\n",
       "       [1702],\n",
       "       [1990],\n",
       "       [1925],\n",
       "       [1824],\n",
       "       [1956],\n",
       "       [1857],\n",
       "       [1979],\n",
       "       [1802],\n",
       "       [1855],\n",
       "       [1907],\n",
       "       [1634],\n",
       "       [1879],\n",
       "       [1887],\n",
       "       [1730],\n",
       "       [1953],\n",
       "       [1781],\n",
       "       [1891],\n",
       "       [1964],\n",
       "       [1808],\n",
       "       [1893],\n",
       "       [2041],\n",
       "       [1893],\n",
       "       [1832],\n",
       "       [1850],\n",
       "       [1934],\n",
       "       [1861],\n",
       "       [1931],\n",
       "       [1933],\n",
       "       [1778],\n",
       "       [1975],\n",
       "       [1934],\n",
       "       [2021],\n",
       "       [2015],\n",
       "       [1997],\n",
       "       [2020],\n",
       "       [1843],\n",
       "       [1936],\n",
       "       [1810],\n",
       "       [1987],\n",
       "       [1962],\n",
       "       [2050]], dtype=int64)"
      ]
     },
     "execution_count": 5,
     "metadata": {},
     "output_type": "execute_result"
    }
   ],
   "source": [
    "x_matrix"
   ]
  },
  {
   "cell_type": "code",
   "execution_count": 6,
   "id": "c34c524c",
   "metadata": {
    "scrolled": false
   },
   "outputs": [
    {
     "data": {
      "text/plain": [
       "(84,)"
      ]
     },
     "execution_count": 6,
     "metadata": {},
     "output_type": "execute_result"
    }
   ],
   "source": [
    "y.shape"
   ]
  },
  {
   "cell_type": "code",
   "execution_count": 7,
   "id": "92e8eea1",
   "metadata": {},
   "outputs": [
    {
     "data": {
      "text/plain": [
       "0     2.40\n",
       "1     2.52\n",
       "2     2.54\n",
       "3     2.74\n",
       "4     2.83\n",
       "      ... \n",
       "79    3.71\n",
       "80    3.71\n",
       "81    3.73\n",
       "82    3.76\n",
       "83    3.81\n",
       "Name: GPA, Length: 84, dtype: float64"
      ]
     },
     "execution_count": 7,
     "metadata": {},
     "output_type": "execute_result"
    }
   ],
   "source": [
    "y"
   ]
  },
  {
   "cell_type": "code",
   "execution_count": 8,
   "id": "89d27de0",
   "metadata": {
    "scrolled": true
   },
   "outputs": [
    {
     "data": {
      "text/plain": [
       "LinearRegression(copy_X=True, fit_intercept=True, n_jobs=None, normalize=False)"
      ]
     },
     "execution_count": 8,
     "metadata": {},
     "output_type": "execute_result"
    }
   ],
   "source": [
    "reg=LinearRegression()\n",
    "reg.fit(x_matrix,y)"
   ]
  },
  {
   "cell_type": "markdown",
   "id": "a2d91c92",
   "metadata": {},
   "source": [
    "# R-Squared"
   ]
  },
  {
   "cell_type": "code",
   "execution_count": 9,
   "id": "49126a38",
   "metadata": {
    "scrolled": true
   },
   "outputs": [
    {
     "data": {
      "text/plain": [
       "0.40600391479679765"
      ]
     },
     "execution_count": 9,
     "metadata": {},
     "output_type": "execute_result"
    }
   ],
   "source": [
    "reg.score(x_matrix,y)"
   ]
  },
  {
   "cell_type": "markdown",
   "id": "64ffee15",
   "metadata": {},
   "source": [
    "# Coefficient"
   ]
  },
  {
   "cell_type": "code",
   "execution_count": 10,
   "id": "f3dc3f4c",
   "metadata": {},
   "outputs": [
    {
     "data": {
      "text/plain": [
       "array([0.00165569])"
      ]
     },
     "execution_count": 10,
     "metadata": {},
     "output_type": "execute_result"
    }
   ],
   "source": [
    "reg.coef_"
   ]
  },
  {
   "cell_type": "markdown",
   "id": "cf386ba2",
   "metadata": {},
   "source": [
    "# Intercept"
   ]
  },
  {
   "cell_type": "code",
   "execution_count": 11,
   "id": "369cdaeb",
   "metadata": {
    "scrolled": false
   },
   "outputs": [
    {
     "data": {
      "text/plain": [
       "0.2750402996602803"
      ]
     },
     "execution_count": 11,
     "metadata": {},
     "output_type": "execute_result"
    }
   ],
   "source": [
    "reg.intercept_"
   ]
  },
  {
   "cell_type": "code",
   "execution_count": 12,
   "id": "f3e667d7",
   "metadata": {
    "scrolled": true
   },
   "outputs": [
    {
     "data": {
      "text/plain": [
       "array([3.15593751])"
      ]
     },
     "execution_count": 12,
     "metadata": {},
     "output_type": "execute_result"
    }
   ],
   "source": [
    "reg.predict(np.array(1740).reshape(-1,1))"
   ]
  },
  {
   "cell_type": "code",
   "execution_count": 13,
   "id": "b1c2254f",
   "metadata": {
    "scrolled": true
   },
   "outputs": [
    {
     "data": {
      "text/html": [
       "<div>\n",
       "<style scoped>\n",
       "    .dataframe tbody tr th:only-of-type {\n",
       "        vertical-align: middle;\n",
       "    }\n",
       "\n",
       "    .dataframe tbody tr th {\n",
       "        vertical-align: top;\n",
       "    }\n",
       "\n",
       "    .dataframe thead th {\n",
       "        text-align: right;\n",
       "    }\n",
       "</style>\n",
       "<table border=\"1\" class=\"dataframe\">\n",
       "  <thead>\n",
       "    <tr style=\"text-align: right;\">\n",
       "      <th></th>\n",
       "      <th>SAT</th>\n",
       "    </tr>\n",
       "  </thead>\n",
       "  <tbody>\n",
       "    <tr>\n",
       "      <th>0</th>\n",
       "      <td>1740</td>\n",
       "    </tr>\n",
       "    <tr>\n",
       "      <th>1</th>\n",
       "      <td>1760</td>\n",
       "    </tr>\n",
       "  </tbody>\n",
       "</table>\n",
       "</div>"
      ],
      "text/plain": [
       "    SAT\n",
       "0  1740\n",
       "1  1760"
      ]
     },
     "execution_count": 13,
     "metadata": {},
     "output_type": "execute_result"
    }
   ],
   "source": [
    "new_data=pd.DataFrame(data=[1740,1760],columns=['SAT'])\n",
    "new_data"
   ]
  },
  {
   "cell_type": "code",
   "execution_count": 14,
   "id": "a9c98abf",
   "metadata": {},
   "outputs": [
    {
     "data": {
      "text/plain": [
       "array([3.15593751, 3.18905127])"
      ]
     },
     "execution_count": 14,
     "metadata": {},
     "output_type": "execute_result"
    }
   ],
   "source": [
    "reg.predict(new_data)"
   ]
  },
  {
   "cell_type": "code",
   "execution_count": 15,
   "id": "5c08745d",
   "metadata": {
    "scrolled": true
   },
   "outputs": [
    {
     "data": {
      "text/html": [
       "<div>\n",
       "<style scoped>\n",
       "    .dataframe tbody tr th:only-of-type {\n",
       "        vertical-align: middle;\n",
       "    }\n",
       "\n",
       "    .dataframe tbody tr th {\n",
       "        vertical-align: top;\n",
       "    }\n",
       "\n",
       "    .dataframe thead th {\n",
       "        text-align: right;\n",
       "    }\n",
       "</style>\n",
       "<table border=\"1\" class=\"dataframe\">\n",
       "  <thead>\n",
       "    <tr style=\"text-align: right;\">\n",
       "      <th></th>\n",
       "      <th>SAT</th>\n",
       "      <th>Predicted_GPA</th>\n",
       "    </tr>\n",
       "  </thead>\n",
       "  <tbody>\n",
       "    <tr>\n",
       "      <th>0</th>\n",
       "      <td>1740</td>\n",
       "      <td>3.155938</td>\n",
       "    </tr>\n",
       "    <tr>\n",
       "      <th>1</th>\n",
       "      <td>1760</td>\n",
       "      <td>3.189051</td>\n",
       "    </tr>\n",
       "  </tbody>\n",
       "</table>\n",
       "</div>"
      ],
      "text/plain": [
       "    SAT  Predicted_GPA\n",
       "0  1740       3.155938\n",
       "1  1760       3.189051"
      ]
     },
     "execution_count": 15,
     "metadata": {},
     "output_type": "execute_result"
    }
   ],
   "source": [
    "new_data['Predicted_GPA']= reg.predict(new_data)\n",
    "new_data"
   ]
  },
  {
   "cell_type": "code",
   "execution_count": 16,
   "id": "a5695d7a",
   "metadata": {
    "scrolled": true
   },
   "outputs": [
    {
     "data": {
      "image/png": "[encoded data removed]",
      "text/plain": [
       "<Figure size 432x288 with 1 Axes>"
      ]
     },
     "metadata": {},
     "output_type": "display_data"
    }
   ],
   "source": [
    "plt.scatter(x,y)\n",
    "yhat = reg.coef_*x_matrix + reg.intercept_\n",
    "#yhat = 0.0017*x + 0.275\n",
    "fig = plt.plot(x,yhat, lw=4, c='orange', label ='regression line')\n",
    "plt.xlabel('SAT', fontsize = 20)\n",
    "plt.ylabel('GPA', fontsize = 20)\n",
    "plt.show()"
   ]
  },
  {
   "cell_type": "code",
   "execution_count": 17,
   "id": "0bd74ee8",
   "metadata": {
    "scrolled": true
   },
   "outputs": [
    {
     "data": {
      "text/html": [
       "<div>\n",
       "<style scoped>\n",
       "    .dataframe tbody tr th:only-of-type {\n",
       "        vertical-align: middle;\n",
       "    }\n",
       "\n",
       "    .dataframe tbody tr th {\n",
       "        vertical-align: top;\n",
       "    }\n",
       "\n",
       "    .dataframe thead th {\n",
       "        text-align: right;\n",
       "    }\n",
       "</style>\n",
       "<table border=\"1\" class=\"dataframe\">\n",
       "  <thead>\n",
       "    <tr style=\"text-align: right;\">\n",
       "      <th></th>\n",
       "      <th>price</th>\n",
       "      <th>size</th>\n",
       "    </tr>\n",
       "  </thead>\n",
       "  <tbody>\n",
       "    <tr>\n",
       "      <th>0</th>\n",
       "      <td>234314.144</td>\n",
       "      <td>643.09</td>\n",
       "    </tr>\n",
       "    <tr>\n",
       "      <th>1</th>\n",
       "      <td>228581.528</td>\n",
       "      <td>656.22</td>\n",
       "    </tr>\n",
       "    <tr>\n",
       "      <th>2</th>\n",
       "      <td>281626.336</td>\n",
       "      <td>487.29</td>\n",
       "    </tr>\n",
       "    <tr>\n",
       "      <th>3</th>\n",
       "      <td>401255.608</td>\n",
       "      <td>1504.75</td>\n",
       "    </tr>\n",
       "    <tr>\n",
       "      <th>4</th>\n",
       "      <td>458674.256</td>\n",
       "      <td>1275.46</td>\n",
       "    </tr>\n",
       "  </tbody>\n",
       "</table>\n",
       "</div>"
      ],
      "text/plain": [
       "        price     size\n",
       "0  234314.144   643.09\n",
       "1  228581.528   656.22\n",
       "2  281626.336   487.29\n",
       "3  401255.608  1504.75\n",
       "4  458674.256  1275.46"
      ]
     },
     "execution_count": 17,
     "metadata": {},
     "output_type": "execute_result"
    }
   ],
   "source": [
    "data2=pd.read_csv('real_estate_price_size.csv')\n",
    "data2.head()"
   ]
  },
  {
   "cell_type": "code",
   "execution_count": 18,
   "id": "580c098a",
   "metadata": {},
   "outputs": [],
   "source": [
    "x2=data2['size']\n",
    "y2=data2['price']"
   ]
  },
  {
   "cell_type": "code",
   "execution_count": 23,
   "id": "87e8ebd4",
   "metadata": {
    "scrolled": true
   },
   "outputs": [
    {
     "data": {
      "text/plain": [
       "array([[ 643.09],\n",
       "       [ 656.22],\n",
       "       [ 487.29],\n",
       "       [1504.75],\n",
       "       [1275.46],\n",
       "       [ 575.19],\n",
       "       [ 570.89],\n",
       "       [ 620.82],\n",
       "       [ 682.26],\n",
       "       [ 694.52],\n",
       "       [1060.36],\n",
       "       [1842.51],\n",
       "       [ 694.52],\n",
       "       [1009.25],\n",
       "       [1300.96],\n",
       "       [1379.72],\n",
       "       [ 690.54],\n",
       "       [ 623.94],\n",
       "       [ 681.07],\n",
       "       [1027.76],\n",
       "       [ 620.71],\n",
       "       [ 549.69],\n",
       "       [1207.45],\n",
       "       [ 518.38],\n",
       "       [ 525.81],\n",
       "       [1103.3 ],\n",
       "       [ 570.89],\n",
       "       [1334.1 ],\n",
       "       [ 681.07],\n",
       "       [1496.36],\n",
       "       [1010.33],\n",
       "       [ 681.07],\n",
       "       [ 597.9 ],\n",
       "       [ 525.81],\n",
       "       [ 857.54],\n",
       "       [ 622.97],\n",
       "       [ 823.21],\n",
       "       [ 570.25],\n",
       "       [ 685.48],\n",
       "       [ 698.29],\n",
       "       [1021.95],\n",
       "       [ 682.26],\n",
       "       [ 823.21],\n",
       "       [1334.1 ],\n",
       "       [1060.36],\n",
       "       [ 698.29],\n",
       "       [ 633.19],\n",
       "       [ 698.29],\n",
       "       [ 633.19],\n",
       "       [ 617.05],\n",
       "       [ 647.5 ],\n",
       "       [1021.95],\n",
       "       [1021.95],\n",
       "       [ 727.88],\n",
       "       [ 647.5 ],\n",
       "       [1508.84],\n",
       "       [1032.06],\n",
       "       [1283.85],\n",
       "       [ 827.84],\n",
       "       [ 569.17],\n",
       "       [ 828.16],\n",
       "       [ 698.5 ],\n",
       "       [1205.62],\n",
       "       [1021.95],\n",
       "       [ 685.48],\n",
       "       [ 827.09],\n",
       "       [1009.25],\n",
       "       [ 549.8 ],\n",
       "       [ 685.48],\n",
       "       [1496.36],\n",
       "       [1021.95],\n",
       "       [ 643.41],\n",
       "       [ 656.22],\n",
       "       [ 549.8 ],\n",
       "       [ 685.48],\n",
       "       [ 685.48],\n",
       "       [1183.46],\n",
       "       [1334.1 ],\n",
       "       [ 682.26],\n",
       "       [1188.62],\n",
       "       [ 681.07],\n",
       "       [1122.34],\n",
       "       [ 681.07],\n",
       "       [ 643.09],\n",
       "       [ 685.48],\n",
       "       [1009.25],\n",
       "       [ 479.75],\n",
       "       [1028.41],\n",
       "       [ 601.66],\n",
       "       [1236.93],\n",
       "       [ 694.52],\n",
       "       [1071.55],\n",
       "       [ 694.52],\n",
       "       [ 698.29],\n",
       "       [ 698.29],\n",
       "       [ 549.8 ],\n",
       "       [1037.44],\n",
       "       [1504.75],\n",
       "       [ 648.29],\n",
       "       [ 705.29]])"
      ]
     },
     "execution_count": 23,
     "metadata": {},
     "output_type": "execute_result"
    }
   ],
   "source": [
    "x2_matrix=x2.values.reshape(-1,1)\n",
    "x2_matrix"
   ]
  },
  {
   "cell_type": "code",
   "execution_count": 26,
   "id": "9c9fd6ff",
   "metadata": {},
   "outputs": [
    {
     "data": {
      "text/plain": [
       "0     234314.144\n",
       "1     228581.528\n",
       "2     281626.336\n",
       "3     401255.608\n",
       "4     458674.256\n",
       "         ...    \n",
       "95    252460.400\n",
       "96    310522.592\n",
       "97    383635.568\n",
       "98    225145.248\n",
       "99    274922.856\n",
       "Name: price, Length: 100, dtype: float64"
      ]
     },
     "execution_count": 26,
     "metadata": {},
     "output_type": "execute_result"
    }
   ],
   "source": [
    "y2"
   ]
  },
  {
   "cell_type": "code",
   "execution_count": 24,
   "id": "29d1aae5",
   "metadata": {
    "scrolled": true
   },
   "outputs": [
    {
     "data": {
      "text/plain": [
       "LinearRegression(copy_X=True, fit_intercept=True, n_jobs=None, normalize=False)"
      ]
     },
     "execution_count": 24,
     "metadata": {},
     "output_type": "execute_result"
    }
   ],
   "source": [
    "reg2=LinearRegression()\n",
    "reg2.fit(x2_matrix,y2)"
   ]
  },
  {
   "cell_type": "code",
   "execution_count": 28,
   "id": "cbc4471f",
   "metadata": {},
   "outputs": [
    {
     "name": "stdout",
     "output_type": "stream",
     "text": [
      "0.7447391865847586\n",
      "[223.17874259]\n",
      "101912.60180122912\n"
     ]
    }
   ],
   "source": [
    "print(reg2.score(x2_matrix,y2))\n",
    "print(reg2.coef_)\n",
    "print(reg2.intercept_)"
   ]
  },
  {
   "cell_type": "code",
   "execution_count": 29,
   "id": "b35510f1",
   "metadata": {
    "scrolled": true
   },
   "outputs": [
    {
     "data": {
      "text/html": [
       "<div>\n",
       "<style scoped>\n",
       "    .dataframe tbody tr th:only-of-type {\n",
       "        vertical-align: middle;\n",
       "    }\n",
       "\n",
       "    .dataframe tbody tr th {\n",
       "        vertical-align: top;\n",
       "    }\n",
       "\n",
       "    .dataframe thead th {\n",
       "        text-align: right;\n",
       "    }\n",
       "</style>\n",
       "<table border=\"1\" class=\"dataframe\">\n",
       "  <thead>\n",
       "    <tr style=\"text-align: right;\">\n",
       "      <th></th>\n",
       "      <th>size</th>\n",
       "    </tr>\n",
       "  </thead>\n",
       "  <tbody>\n",
       "    <tr>\n",
       "      <th>0</th>\n",
       "      <td>597.9</td>\n",
       "    </tr>\n",
       "    <tr>\n",
       "      <th>1</th>\n",
       "      <td>600.3</td>\n",
       "    </tr>\n",
       "    <tr>\n",
       "      <th>2</th>\n",
       "      <td>843.3</td>\n",
       "    </tr>\n",
       "  </tbody>\n",
       "</table>\n",
       "</div>"
      ],
      "text/plain": [
       "    size\n",
       "0  597.9\n",
       "1  600.3\n",
       "2  843.3"
      ]
     },
     "execution_count": 29,
     "metadata": {},
     "output_type": "execute_result"
    }
   ],
   "source": [
    "new_data2=pd.DataFrame(data=[597.9,600.3,843.3],columns=['size'])\n",
    "new_data2"
   ]
  },
  {
   "cell_type": "code",
   "execution_count": 30,
   "id": "cdced26e",
   "metadata": {},
   "outputs": [
    {
     "data": {
      "text/plain": [
       "array([235351.17199854, 235886.80098077, 290119.23543126])"
      ]
     },
     "execution_count": 30,
     "metadata": {},
     "output_type": "execute_result"
    }
   ],
   "source": [
    "reg2.predict(new_data2)"
   ]
  },
  {
   "cell_type": "code",
   "execution_count": 31,
   "id": "23a2e790",
   "metadata": {
    "scrolled": true
   },
   "outputs": [
    {
     "data": {
      "text/html": [
       "<div>\n",
       "<style scoped>\n",
       "    .dataframe tbody tr th:only-of-type {\n",
       "        vertical-align: middle;\n",
       "    }\n",
       "\n",
       "    .dataframe tbody tr th {\n",
       "        vertical-align: top;\n",
       "    }\n",
       "\n",
       "    .dataframe thead th {\n",
       "        text-align: right;\n",
       "    }\n",
       "</style>\n",
       "<table border=\"1\" class=\"dataframe\">\n",
       "  <thead>\n",
       "    <tr style=\"text-align: right;\">\n",
       "      <th></th>\n",
       "      <th>size</th>\n",
       "      <th>Predicted House Price</th>\n",
       "    </tr>\n",
       "  </thead>\n",
       "  <tbody>\n",
       "    <tr>\n",
       "      <th>0</th>\n",
       "      <td>597.9</td>\n",
       "      <td>235351.171999</td>\n",
       "    </tr>\n",
       "    <tr>\n",
       "      <th>1</th>\n",
       "      <td>600.3</td>\n",
       "      <td>235886.800981</td>\n",
       "    </tr>\n",
       "    <tr>\n",
       "      <th>2</th>\n",
       "      <td>843.3</td>\n",
       "      <td>290119.235431</td>\n",
       "    </tr>\n",
       "  </tbody>\n",
       "</table>\n",
       "</div>"
      ],
      "text/plain": [
       "    size  Predicted House Price\n",
       "0  597.9          235351.171999\n",
       "1  600.3          235886.800981\n",
       "2  843.3          290119.235431"
      ]
     },
     "execution_count": 31,
     "metadata": {},
     "output_type": "execute_result"
    }
   ],
   "source": [
    "new_data2['Predicted House Price']=reg2.predict(new_data2)\n",
    "new_data2"
   ]
  },
  {
   "cell_type": "code",
   "execution_count": 33,
   "id": "fe53ac36",
   "metadata": {
    "scrolled": true
   },
   "outputs": [
    {
     "data": {
      "image/png": "[encoded data removed]",
      "text/plain": [
       "<Figure size 432x288 with 1 Axes>"
      ]
     },
     "metadata": {},
     "output_type": "display_data"
    }
   ],
   "source": [
    "plt.scatter(x2,y2)\n",
    "yhat2=(reg2.coef_*x2_matrix)+reg2.intercept_\n",
    "fig=plt.plot(x2,yhat2,lw=2,c='blue')\n",
    "plt.xlabel('Size',fontsize=20)\n",
    "plt.ylabel('Predicted House Price',fontsize=20)\n",
    "plt.show()"
   ]
  },
  {
   "cell_type": "code",
   "execution_count": 36,
   "id": "2ea4ff10",
   "metadata": {
    "scrolled": false
   },
   "outputs": [
    {
     "data": {
      "text/html": [
       "<div>\n",
       "<style scoped>\n",
       "    .dataframe tbody tr th:only-of-type {\n",
       "        vertical-align: middle;\n",
       "    }\n",
       "\n",
       "    .dataframe tbody tr th {\n",
       "        vertical-align: top;\n",
       "    }\n",
       "\n",
       "    .dataframe thead th {\n",
       "        text-align: right;\n",
       "    }\n",
       "</style>\n",
       "<table border=\"1\" class=\"dataframe\">\n",
       "  <thead>\n",
       "    <tr style=\"text-align: right;\">\n",
       "      <th></th>\n",
       "      <th>SAT</th>\n",
       "      <th>GPA</th>\n",
       "      <th>Rand 1,2,3</th>\n",
       "    </tr>\n",
       "  </thead>\n",
       "  <tbody>\n",
       "    <tr>\n",
       "      <th>count</th>\n",
       "      <td>84.000000</td>\n",
       "      <td>84.000000</td>\n",
       "      <td>84.000000</td>\n",
       "    </tr>\n",
       "    <tr>\n",
       "      <th>mean</th>\n",
       "      <td>1845.273810</td>\n",
       "      <td>3.330238</td>\n",
       "      <td>2.059524</td>\n",
       "    </tr>\n",
       "    <tr>\n",
       "      <th>std</th>\n",
       "      <td>104.530661</td>\n",
       "      <td>0.271617</td>\n",
       "      <td>0.855192</td>\n",
       "    </tr>\n",
       "    <tr>\n",
       "      <th>min</th>\n",
       "      <td>1634.000000</td>\n",
       "      <td>2.400000</td>\n",
       "      <td>1.000000</td>\n",
       "    </tr>\n",
       "    <tr>\n",
       "      <th>25%</th>\n",
       "      <td>1772.000000</td>\n",
       "      <td>3.190000</td>\n",
       "      <td>1.000000</td>\n",
       "    </tr>\n",
       "    <tr>\n",
       "      <th>50%</th>\n",
       "      <td>1846.000000</td>\n",
       "      <td>3.380000</td>\n",
       "      <td>2.000000</td>\n",
       "    </tr>\n",
       "    <tr>\n",
       "      <th>75%</th>\n",
       "      <td>1934.000000</td>\n",
       "      <td>3.502500</td>\n",
       "      <td>3.000000</td>\n",
       "    </tr>\n",
       "    <tr>\n",
       "      <th>max</th>\n",
       "      <td>2050.000000</td>\n",
       "      <td>3.810000</td>\n",
       "      <td>3.000000</td>\n",
       "    </tr>\n",
       "  </tbody>\n",
       "</table>\n",
       "</div>"
      ],
      "text/plain": [
       "               SAT        GPA  Rand 1,2,3\n",
       "count    84.000000  84.000000   84.000000\n",
       "mean   1845.273810   3.330238    2.059524\n",
       "std     104.530661   0.271617    0.855192\n",
       "min    1634.000000   2.400000    1.000000\n",
       "25%    1772.000000   3.190000    1.000000\n",
       "50%    1846.000000   3.380000    2.000000\n",
       "75%    1934.000000   3.502500    3.000000\n",
       "max    2050.000000   3.810000    3.000000"
      ]
     },
     "execution_count": 36,
     "metadata": {},
     "output_type": "execute_result"
    }
   ],
   "source": [
    "data3=pd.read_csv('1.02.+Multiple+linear+regression.csv')\n",
    "data3.describe()"
   ]
  },
  {
   "cell_type": "code",
   "execution_count": 43,
   "id": "8033c248",
   "metadata": {
    "scrolled": true
   },
   "outputs": [
    {
     "data": {
      "text/html": [
       "<div>\n",
       "<style scoped>\n",
       "    .dataframe tbody tr th:only-of-type {\n",
       "        vertical-align: middle;\n",
       "    }\n",
       "\n",
       "    .dataframe tbody tr th {\n",
       "        vertical-align: top;\n",
       "    }\n",
       "\n",
       "    .dataframe thead th {\n",
       "        text-align: right;\n",
       "    }\n",
       "</style>\n",
       "<table border=\"1\" class=\"dataframe\">\n",
       "  <thead>\n",
       "    <tr style=\"text-align: right;\">\n",
       "      <th></th>\n",
       "      <th>SAT</th>\n",
       "      <th>Rand 1,2,3</th>\n",
       "    </tr>\n",
       "  </thead>\n",
       "  <tbody>\n",
       "    <tr>\n",
       "      <th>0</th>\n",
       "      <td>1714</td>\n",
       "      <td>1</td>\n",
       "    </tr>\n",
       "    <tr>\n",
       "      <th>1</th>\n",
       "      <td>1664</td>\n",
       "      <td>3</td>\n",
       "    </tr>\n",
       "    <tr>\n",
       "      <th>2</th>\n",
       "      <td>1760</td>\n",
       "      <td>3</td>\n",
       "    </tr>\n",
       "    <tr>\n",
       "      <th>3</th>\n",
       "      <td>1685</td>\n",
       "      <td>3</td>\n",
       "    </tr>\n",
       "    <tr>\n",
       "      <th>4</th>\n",
       "      <td>1693</td>\n",
       "      <td>2</td>\n",
       "    </tr>\n",
       "    <tr>\n",
       "      <th>...</th>\n",
       "      <td>...</td>\n",
       "      <td>...</td>\n",
       "    </tr>\n",
       "    <tr>\n",
       "      <th>79</th>\n",
       "      <td>1936</td>\n",
       "      <td>3</td>\n",
       "    </tr>\n",
       "    <tr>\n",
       "      <th>80</th>\n",
       "      <td>1810</td>\n",
       "      <td>1</td>\n",
       "    </tr>\n",
       "    <tr>\n",
       "      <th>81</th>\n",
       "      <td>1987</td>\n",
       "      <td>3</td>\n",
       "    </tr>\n",
       "    <tr>\n",
       "      <th>82</th>\n",
       "      <td>1962</td>\n",
       "      <td>1</td>\n",
       "    </tr>\n",
       "    <tr>\n",
       "      <th>83</th>\n",
       "      <td>2050</td>\n",
       "      <td>2</td>\n",
       "    </tr>\n",
       "  </tbody>\n",
       "</table>\n",
       "<p>84 rows × 2 columns</p>\n",
       "</div>"
      ],
      "text/plain": [
       "     SAT  Rand 1,2,3\n",
       "0   1714           1\n",
       "1   1664           3\n",
       "2   1760           3\n",
       "3   1685           3\n",
       "4   1693           2\n",
       "..   ...         ...\n",
       "79  1936           3\n",
       "80  1810           1\n",
       "81  1987           3\n",
       "82  1962           1\n",
       "83  2050           2\n",
       "\n",
       "[84 rows x 2 columns]"
      ]
     },
     "execution_count": 43,
     "metadata": {},
     "output_type": "execute_result"
    }
   ],
   "source": [
    "x3=data3[['SAT','Rand 1,2,3']]\n",
    "y3=data3['GPA']\n",
    "x3"
   ]
  },
  {
   "cell_type": "code",
   "execution_count": 44,
   "id": "557a7c65",
   "metadata": {
    "scrolled": true
   },
   "outputs": [
    {
     "data": {
      "text/plain": [
       "LinearRegression(copy_X=True, fit_intercept=True, n_jobs=None, normalize=False)"
      ]
     },
     "execution_count": 44,
     "metadata": {},
     "output_type": "execute_result"
    }
   ],
   "source": [
    "reg3=LinearRegression()\n",
    "reg3.fit(x3,y3)"
   ]
  },
  {
   "cell_type": "code",
   "execution_count": 46,
   "id": "4971e681",
   "metadata": {
    "scrolled": true
   },
   "outputs": [
    {
     "name": "stdout",
     "output_type": "stream",
     "text": [
      "0.4066811952814285\n",
      "[ 0.00165354 -0.00826982]\n",
      "0.29603261264909486\n"
     ]
    }
   ],
   "source": [
    "print(reg3.score(x3,y3))\n",
    "#Coefficient\n",
    "print(reg3.coef_)\n",
    "#Intercept\n",
    "print(reg3.intercept_)"
   ]
  },
  {
   "cell_type": "markdown",
   "id": "4cdb1841",
   "metadata": {},
   "source": [
    "# Adjusted R Squared Sklearn\n",
    "$R^2_{adj.} = 1 - (1-R^2)*\\frac{n-1}{n-p-1}$"
   ]
  },
  {
   "cell_type": "code",
   "execution_count": 47,
   "id": "f3f99bea",
   "metadata": {
    "scrolled": true
   },
   "outputs": [
    {
     "data": {
      "text/plain": [
       "0.4066811952814285"
      ]
     },
     "execution_count": 47,
     "metadata": {},
     "output_type": "execute_result"
    }
   ],
   "source": [
    "#R SQUARED Value\n",
    "reg3.score(x3,y3)"
   ]
  },
  {
   "cell_type": "code",
   "execution_count": 49,
   "id": "6b0e7b8a",
   "metadata": {
    "scrolled": true
   },
   "outputs": [
    {
     "data": {
      "text/plain": [
       "(84, 2)"
      ]
     },
     "execution_count": 49,
     "metadata": {},
     "output_type": "execute_result"
    }
   ],
   "source": [
    "x3.shape"
   ]
  },
  {
   "cell_type": "code",
   "execution_count": 51,
   "id": "8a04d378",
   "metadata": {},
   "outputs": [
    {
     "data": {
      "text/plain": [
       "0.39203134825134023"
      ]
     },
     "execution_count": 51,
     "metadata": {},
     "output_type": "execute_result"
    }
   ],
   "source": [
    "#ADJUSTED R SQUARED \n",
    "r2=reg3.score(x3,y3)\n",
    "n=x3.shape[0]\n",
    "p=x3.shape[1]\n",
    "adj_r2=1-(1-(r2))*((n-1)/(n-p-1))\n",
    "adj_r2"
   ]
  },
  {
   "cell_type": "markdown",
   "id": "c7e2c9bd",
   "metadata": {},
   "source": [
    "# Feature Selection"
   ]
  },
  {
   "cell_type": "markdown",
   "id": "079a9cc9",
   "metadata": {},
   "source": [
    "Feature Selection simplifies models, improves speed, prevents series of unwanted issues arising from having too many features"
   ]
  },
  {
   "cell_type": "code",
   "execution_count": 53,
   "id": "ece1eb02",
   "metadata": {},
   "outputs": [],
   "source": [
    "#F Regression: Creates simple linear regression of each feature and dependent variable\n",
    "from sklearn.feature_selection import f_regression"
   ]
  },
  {
   "cell_type": "code",
   "execution_count": 55,
   "id": "991a80c8",
   "metadata": {
    "scrolled": true
   },
   "outputs": [
    {
     "data": {
      "text/plain": [
       "(array([56.04804786,  0.17558437]), array([7.19951844e-11, 6.76291372e-01]))"
      ]
     },
     "execution_count": 55,
     "metadata": {},
     "output_type": "execute_result"
    }
   ],
   "source": [
    "#1st Array: F Statistics\n",
    "#2nd Array: P Values\n",
    "f_regression(x3,y3)"
   ]
  },
  {
   "cell_type": "code",
   "execution_count": 57,
   "id": "74e1abcc",
   "metadata": {
    "scrolled": true
   },
   "outputs": [
    {
     "data": {
      "text/plain": [
       "array([7.19951844e-11, 6.76291372e-01])"
      ]
     },
     "execution_count": 57,
     "metadata": {},
     "output_type": "execute_result"
    }
   ],
   "source": [
    "p_values=f_regression(x3,y3)[1]\n",
    "p_values"
   ]
  },
  {
   "cell_type": "code",
   "execution_count": 58,
   "id": "3128b16b",
   "metadata": {
    "scrolled": true
   },
   "outputs": [
    {
     "data": {
      "text/plain": [
       "array([0.   , 0.676])"
      ]
     },
     "execution_count": 58,
     "metadata": {},
     "output_type": "execute_result"
    }
   ],
   "source": [
    "#SAT, Rand123\n",
    "p_values.round(3)"
   ]
  },
  {
   "cell_type": "code",
   "execution_count": 61,
   "id": "ee9f3eda",
   "metadata": {
    "scrolled": true
   },
   "outputs": [
    {
     "data": {
      "text/html": [
       "<div>\n",
       "<style scoped>\n",
       "    .dataframe tbody tr th:only-of-type {\n",
       "        vertical-align: middle;\n",
       "    }\n",
       "\n",
       "    .dataframe tbody tr th {\n",
       "        vertical-align: top;\n",
       "    }\n",
       "\n",
       "    .dataframe thead th {\n",
       "        text-align: right;\n",
       "    }\n",
       "</style>\n",
       "<table border=\"1\" class=\"dataframe\">\n",
       "  <thead>\n",
       "    <tr style=\"text-align: right;\">\n",
       "      <th></th>\n",
       "      <th>Features</th>\n",
       "    </tr>\n",
       "  </thead>\n",
       "  <tbody>\n",
       "    <tr>\n",
       "      <th>0</th>\n",
       "      <td>SAT</td>\n",
       "    </tr>\n",
       "    <tr>\n",
       "      <th>1</th>\n",
       "      <td>Rand 1,2,3</td>\n",
       "    </tr>\n",
       "  </tbody>\n",
       "</table>\n",
       "</div>"
      ],
      "text/plain": [
       "     Features\n",
       "0         SAT\n",
       "1  Rand 1,2,3"
      ]
     },
     "execution_count": 61,
     "metadata": {},
     "output_type": "execute_result"
    }
   ],
   "source": [
    "#Regression Summary\n",
    "reg_summary=pd.DataFrame(x3.columns.values,columns=['Features'])\n",
    "reg_summary"
   ]
  },
  {
   "cell_type": "code",
   "execution_count": 63,
   "id": "d6e600dd",
   "metadata": {
    "scrolled": false
   },
   "outputs": [
    {
     "data": {
      "text/html": [
       "<div>\n",
       "<style scoped>\n",
       "    .dataframe tbody tr th:only-of-type {\n",
       "        vertical-align: middle;\n",
       "    }\n",
       "\n",
       "    .dataframe tbody tr th {\n",
       "        vertical-align: top;\n",
       "    }\n",
       "\n",
       "    .dataframe thead th {\n",
       "        text-align: right;\n",
       "    }\n",
       "</style>\n",
       "<table border=\"1\" class=\"dataframe\">\n",
       "  <thead>\n",
       "    <tr style=\"text-align: right;\">\n",
       "      <th></th>\n",
       "      <th>Features</th>\n",
       "      <th>Coefficients</th>\n",
       "      <th>P-Values</th>\n",
       "    </tr>\n",
       "  </thead>\n",
       "  <tbody>\n",
       "    <tr>\n",
       "      <th>0</th>\n",
       "      <td>SAT</td>\n",
       "      <td>0.001654</td>\n",
       "      <td>0.000</td>\n",
       "    </tr>\n",
       "    <tr>\n",
       "      <th>1</th>\n",
       "      <td>Rand 1,2,3</td>\n",
       "      <td>-0.008270</td>\n",
       "      <td>0.676</td>\n",
       "    </tr>\n",
       "  </tbody>\n",
       "</table>\n",
       "</div>"
      ],
      "text/plain": [
       "     Features  Coefficients  P-Values\n",
       "0         SAT      0.001654     0.000\n",
       "1  Rand 1,2,3     -0.008270     0.676"
      ]
     },
     "execution_count": 63,
     "metadata": {},
     "output_type": "execute_result"
    }
   ],
   "source": [
    "reg_summary['Coefficients']=reg3.coef_\n",
    "reg_summary['P-Values']=p_values.round(3)\n",
    "reg_summary"
   ]
  },
  {
   "cell_type": "markdown",
   "id": "60bd7494",
   "metadata": {},
   "source": [
    "# Standardization"
   ]
  },
  {
   "cell_type": "code",
   "execution_count": 81,
   "id": "561b66b9",
   "metadata": {
    "scrolled": true
   },
   "outputs": [
    {
     "data": {
      "text/plain": [
       "StandardScaler(copy=True, with_mean=True, with_std=True)"
      ]
     },
     "execution_count": 81,
     "metadata": {},
     "output_type": "execute_result"
    }
   ],
   "source": [
    "#StandardScaler() is a preprocessing module that use to standardize data\n",
    "from sklearn.preprocessing import StandardScaler\n",
    "scaler=StandardScaler()\n",
    "scaler.fit(x3)"
   ]
  },
  {
   "cell_type": "markdown",
   "id": "8b1b4078",
   "metadata": {},
   "source": [
    "StandardScaler.transform()\n",
    "Transforms the unscaled inputs usint the information in the scalar object"
   ]
  },
  {
   "cell_type": "code",
   "execution_count": 85,
   "id": "4b654a35",
   "metadata": {
    "scrolled": true
   },
   "outputs": [
    {
     "name": "stdout",
     "output_type": "stream",
     "text": [
      "[[-1.26338288 -1.24637147]\n",
      " [-1.74458431  1.10632974]\n",
      " [-0.82067757  1.10632974]\n",
      " [-1.54247971  1.10632974]\n",
      " [-1.46548748 -0.07002087]\n",
      " [-1.68684014 -1.24637147]\n",
      " [-0.78218146 -0.07002087]\n",
      " [-0.78218146 -1.24637147]\n",
      " [-0.51270866 -0.07002087]\n",
      " [ 0.04548499  1.10632974]\n",
      " [-1.06127829  1.10632974]\n",
      " [-0.67631715 -0.07002087]\n",
      " [-1.06127829 -1.24637147]\n",
      " [-1.28263094  1.10632974]\n",
      " [-0.6955652  -0.07002087]\n",
      " [ 0.25721362 -0.07002087]\n",
      " [-0.86879772  1.10632974]\n",
      " [-1.64834403 -0.07002087]\n",
      " [-0.03150724  1.10632974]\n",
      " [-0.57045283  1.10632974]\n",
      " [-0.81105355  1.10632974]\n",
      " [-1.18639066  1.10632974]\n",
      " [-1.75420834  1.10632974]\n",
      " [-1.52323165 -1.24637147]\n",
      " [ 1.23886453 -1.24637147]\n",
      " [-0.18549169 -1.24637147]\n",
      " [-0.5608288  -1.24637147]\n",
      " [-0.23361183  1.10632974]\n",
      " [ 1.68156984 -1.24637147]\n",
      " [-0.4934606  -0.07002087]\n",
      " [-0.73406132 -1.24637147]\n",
      " [ 0.85390339 -1.24637147]\n",
      " [-0.67631715 -1.24637147]\n",
      " [ 0.09360513  1.10632974]\n",
      " [ 0.33420585 -0.07002087]\n",
      " [ 0.03586096 -0.07002087]\n",
      " [-0.35872421  1.10632974]\n",
      " [ 1.04638396  1.10632974]\n",
      " [-0.65706909  1.10632974]\n",
      " [-0.13737155 -0.07002087]\n",
      " [ 0.18984542  1.10632974]\n",
      " [ 0.04548499 -1.24637147]\n",
      " [ 1.1618723   1.10632974]\n",
      " [-1.37887123 -1.24637147]\n",
      " [ 1.39284898 -1.24637147]\n",
      " [ 0.76728713 -0.07002087]\n",
      " [-0.20473975 -0.07002087]\n",
      " [ 1.06563201 -1.24637147]\n",
      " [ 0.11285319 -1.24637147]\n",
      " [ 1.28698467  1.10632974]\n",
      " [-0.41646838  1.10632974]\n",
      " [ 0.09360513 -1.24637147]\n",
      " [ 0.59405462 -0.07002087]\n",
      " [-2.03330517 -0.07002087]\n",
      " [ 0.32458182 -1.24637147]\n",
      " [ 0.40157405 -1.24637147]\n",
      " [-1.10939843 -0.07002087]\n",
      " [ 1.03675993 -1.24637147]\n",
      " [-0.61857297 -0.07002087]\n",
      " [ 0.44007016 -0.07002087]\n",
      " [ 1.14262424 -1.24637147]\n",
      " [-0.35872421  1.10632974]\n",
      " [ 0.45931822  1.10632974]\n",
      " [ 1.88367444  1.10632974]\n",
      " [ 0.45931822 -1.24637147]\n",
      " [-0.12774752 -0.07002087]\n",
      " [ 0.04548499  1.10632974]\n",
      " [ 0.85390339 -0.07002087]\n",
      " [ 0.15134931 -0.07002087]\n",
      " [ 0.8250313   1.10632974]\n",
      " [ 0.84427936  1.10632974]\n",
      " [-0.64744506 -1.24637147]\n",
      " [ 1.24848856 -1.24637147]\n",
      " [ 0.85390339  1.10632974]\n",
      " [ 1.69119387  1.10632974]\n",
      " [ 1.6334497   1.10632974]\n",
      " [ 1.46021718 -1.24637147]\n",
      " [ 1.68156984 -0.07002087]\n",
      " [-0.02188321  1.10632974]\n",
      " [ 0.87315144  1.10632974]\n",
      " [-0.33947615 -1.24637147]\n",
      " [ 1.3639769   1.10632974]\n",
      " [ 1.12337618 -1.24637147]\n",
      " [ 1.97029069 -0.07002087]]\n"
     ]
    }
   ],
   "source": [
    "#Standardized Input data\n",
    "x_scaled=scaler.transform(x3)\n",
    "print(x_scaled)"
   ]
  },
  {
   "cell_type": "markdown",
   "id": "767ef0b1",
   "metadata": {},
   "source": [
    "# Regression with Scaled Features"
   ]
  },
  {
   "cell_type": "code",
   "execution_count": 86,
   "id": "d1beb44f",
   "metadata": {
    "scrolled": true
   },
   "outputs": [
    {
     "data": {
      "text/plain": [
       "LinearRegression(copy_X=True, fit_intercept=True, n_jobs=None, normalize=False)"
      ]
     },
     "execution_count": 86,
     "metadata": {},
     "output_type": "execute_result"
    }
   ],
   "source": [
    "reg3=LinearRegression()\n",
    "reg3.fit(x_scaled,y3)"
   ]
  },
  {
   "cell_type": "code",
   "execution_count": 87,
   "id": "ac985aa8",
   "metadata": {
    "scrolled": true
   },
   "outputs": [
    {
     "name": "stdout",
     "output_type": "stream",
     "text": [
      "0.4066811952814283\n",
      "[ 0.17181389 -0.00703007]\n",
      "3.330238095238095\n"
     ]
    }
   ],
   "source": [
    "print(reg3.score(x_scaled,y3))\n",
    "print(reg3.coef_)\n",
    "print(reg3.intercept_)"
   ]
  },
  {
   "cell_type": "markdown",
   "id": "870696ea",
   "metadata": {},
   "source": [
    "# Regression Summary Table"
   ]
  },
  {
   "cell_type": "code",
   "execution_count": 92,
   "id": "130177aa",
   "metadata": {
    "scrolled": true
   },
   "outputs": [
    {
     "data": {
      "text/html": [
       "<div>\n",
       "<style scoped>\n",
       "    .dataframe tbody tr th:only-of-type {\n",
       "        vertical-align: middle;\n",
       "    }\n",
       "\n",
       "    .dataframe tbody tr th {\n",
       "        vertical-align: top;\n",
       "    }\n",
       "\n",
       "    .dataframe thead th {\n",
       "        text-align: right;\n",
       "    }\n",
       "</style>\n",
       "<table border=\"1\" class=\"dataframe\">\n",
       "  <thead>\n",
       "    <tr style=\"text-align: right;\">\n",
       "      <th></th>\n",
       "      <th>Features</th>\n",
       "      <th>Weights</th>\n",
       "    </tr>\n",
       "  </thead>\n",
       "  <tbody>\n",
       "    <tr>\n",
       "      <th>0</th>\n",
       "      <td>Bias</td>\n",
       "      <td>3.330238</td>\n",
       "    </tr>\n",
       "    <tr>\n",
       "      <th>1</th>\n",
       "      <td>SAT</td>\n",
       "      <td>0.171814</td>\n",
       "    </tr>\n",
       "    <tr>\n",
       "      <th>2</th>\n",
       "      <td>Rand 1,2,3</td>\n",
       "      <td>-0.007030</td>\n",
       "    </tr>\n",
       "  </tbody>\n",
       "</table>\n",
       "</div>"
      ],
      "text/plain": [
       "     Features   Weights\n",
       "0        Bias  3.330238\n",
       "1         SAT  0.171814\n",
       "2  Rand 1,2,3 -0.007030"
      ]
     },
     "execution_count": 92,
     "metadata": {},
     "output_type": "execute_result"
    }
   ],
   "source": [
    "#Weights is MACHINE LEARNING WORD for COEFFICIENTS\n",
    "#The bigger the WEIGHT, impact of variable is HUGE\n",
    "reg_summary_3=pd.DataFrame([['Bias'],['SAT'],['Rand 1,2,3']],columns=['Features'])\n",
    "reg_summary_3['Weights']=reg3.intercept_,reg3.coef_[0],reg3.coef_[1]\n",
    "reg_summary_3"
   ]
  },
  {
   "cell_type": "markdown",
   "id": "ea45e85a",
   "metadata": {},
   "source": [
    "Intercept is BIAS\n",
    "The closer to 0 WEIGHT, SMALLER THE IMPACT\n",
    "The bigger the WEIGHT, BIGGER THE IMPACT"
   ]
  },
  {
   "cell_type": "markdown",
   "id": "20b1e502",
   "metadata": {},
   "source": [
    "# Predictions w/ Standardized Coefficients (Weights)"
   ]
  },
  {
   "cell_type": "code",
   "execution_count": 93,
   "id": "33394bb1",
   "metadata": {},
   "outputs": [
    {
     "data": {
      "text/html": [
       "<div>\n",
       "<style scoped>\n",
       "    .dataframe tbody tr th:only-of-type {\n",
       "        vertical-align: middle;\n",
       "    }\n",
       "\n",
       "    .dataframe tbody tr th {\n",
       "        vertical-align: top;\n",
       "    }\n",
       "\n",
       "    .dataframe thead th {\n",
       "        text-align: right;\n",
       "    }\n",
       "</style>\n",
       "<table border=\"1\" class=\"dataframe\">\n",
       "  <thead>\n",
       "    <tr style=\"text-align: right;\">\n",
       "      <th></th>\n",
       "      <th>SAT</th>\n",
       "      <th>Rand 1,2,3</th>\n",
       "    </tr>\n",
       "  </thead>\n",
       "  <tbody>\n",
       "    <tr>\n",
       "      <th>0</th>\n",
       "      <td>1700</td>\n",
       "      <td>2</td>\n",
       "    </tr>\n",
       "    <tr>\n",
       "      <th>1</th>\n",
       "      <td>1800</td>\n",
       "      <td>1</td>\n",
       "    </tr>\n",
       "  </tbody>\n",
       "</table>\n",
       "</div>"
      ],
      "text/plain": [
       "    SAT  Rand 1,2,3\n",
       "0  1700           2\n",
       "1  1800           1"
      ]
     },
     "execution_count": 93,
     "metadata": {},
     "output_type": "execute_result"
    }
   ],
   "source": [
    "new_data=pd.DataFrame([[1700,2],[1800,1]],columns=['SAT','Rand 1,2,3'])\n",
    "new_data"
   ]
  },
  {
   "cell_type": "code",
   "execution_count": 94,
   "id": "b620c9a8",
   "metadata": {
    "scrolled": true
   },
   "outputs": [
    {
     "data": {
      "text/plain": [
       "array([295.39979563, 312.58821497])"
      ]
     },
     "execution_count": 94,
     "metadata": {},
     "output_type": "execute_result"
    }
   ],
   "source": [
    "reg3.predict(new_data)"
   ]
  },
  {
   "cell_type": "code",
   "execution_count": 95,
   "id": "4f98cc68",
   "metadata": {},
   "outputs": [
    {
     "data": {
      "text/plain": [
       "array([[-1.39811928, -0.07002087],\n",
       "       [-0.43571643, -1.24637147]])"
      ]
     },
     "execution_count": 95,
     "metadata": {},
     "output_type": "execute_result"
    }
   ],
   "source": [
    "new_data_scaled=scaler.transform(new_data)\n",
    "new_data_scaled"
   ]
  },
  {
   "cell_type": "code",
   "execution_count": 96,
   "id": "fe8a385c",
   "metadata": {
    "scrolled": true
   },
   "outputs": [
    {
     "data": {
      "text/plain": [
       "array([3.09051403, 3.26413803])"
      ]
     },
     "execution_count": 96,
     "metadata": {},
     "output_type": "execute_result"
    }
   ],
   "source": [
    "reg3.predict(new_data_scaled)"
   ]
  },
  {
   "cell_type": "markdown",
   "id": "cddd6623",
   "metadata": {},
   "source": [
    "# Removing Variable"
   ]
  },
  {
   "cell_type": "code",
   "execution_count": 97,
   "id": "0eb08aac",
   "metadata": {},
   "outputs": [
    {
     "data": {
      "text/plain": [
       "LinearRegression(copy_X=True, fit_intercept=True, n_jobs=None, normalize=False)"
      ]
     },
     "execution_count": 97,
     "metadata": {},
     "output_type": "execute_result"
    }
   ],
   "source": [
    "reg3_simple=LinearRegression()\n",
    "x3_matrix=x_scaled[:,0].reshape(-1,1)\n",
    "reg3_simple.fit(x3_matrix,y3)"
   ]
  },
  {
   "cell_type": "code",
   "execution_count": 98,
   "id": "5363ecd0",
   "metadata": {},
   "outputs": [
    {
     "data": {
      "text/plain": [
       "array([3.08970998, 3.25527879])"
      ]
     },
     "execution_count": 98,
     "metadata": {},
     "output_type": "execute_result"
    }
   ],
   "source": [
    "reg3_simple.predict(new_data_scaled[:,0].reshape(-1,1))"
   ]
  },
  {
   "cell_type": "markdown",
   "id": "3bb9a1d2",
   "metadata": {},
   "source": [
    "# House Price Multiple Regression Excercise"
   ]
  },
  {
   "cell_type": "code",
   "execution_count": 64,
   "id": "ce196457",
   "metadata": {},
   "outputs": [
    {
     "data": {
      "text/html": [
       "<div>\n",
       "<style scoped>\n",
       "    .dataframe tbody tr th:only-of-type {\n",
       "        vertical-align: middle;\n",
       "    }\n",
       "\n",
       "    .dataframe tbody tr th {\n",
       "        vertical-align: top;\n",
       "    }\n",
       "\n",
       "    .dataframe thead th {\n",
       "        text-align: right;\n",
       "    }\n",
       "</style>\n",
       "<table border=\"1\" class=\"dataframe\">\n",
       "  <thead>\n",
       "    <tr style=\"text-align: right;\">\n",
       "      <th></th>\n",
       "      <th>price</th>\n",
       "      <th>size</th>\n",
       "      <th>year</th>\n",
       "    </tr>\n",
       "  </thead>\n",
       "  <tbody>\n",
       "    <tr>\n",
       "      <th>0</th>\n",
       "      <td>234314.144</td>\n",
       "      <td>643.09</td>\n",
       "      <td>2015</td>\n",
       "    </tr>\n",
       "    <tr>\n",
       "      <th>1</th>\n",
       "      <td>228581.528</td>\n",
       "      <td>656.22</td>\n",
       "      <td>2009</td>\n",
       "    </tr>\n",
       "    <tr>\n",
       "      <th>2</th>\n",
       "      <td>281626.336</td>\n",
       "      <td>487.29</td>\n",
       "      <td>2018</td>\n",
       "    </tr>\n",
       "    <tr>\n",
       "      <th>3</th>\n",
       "      <td>401255.608</td>\n",
       "      <td>1504.75</td>\n",
       "      <td>2015</td>\n",
       "    </tr>\n",
       "    <tr>\n",
       "      <th>4</th>\n",
       "      <td>458674.256</td>\n",
       "      <td>1275.46</td>\n",
       "      <td>2009</td>\n",
       "    </tr>\n",
       "    <tr>\n",
       "      <th>...</th>\n",
       "      <td>...</td>\n",
       "      <td>...</td>\n",
       "      <td>...</td>\n",
       "    </tr>\n",
       "    <tr>\n",
       "      <th>95</th>\n",
       "      <td>252460.400</td>\n",
       "      <td>549.80</td>\n",
       "      <td>2009</td>\n",
       "    </tr>\n",
       "    <tr>\n",
       "      <th>96</th>\n",
       "      <td>310522.592</td>\n",
       "      <td>1037.44</td>\n",
       "      <td>2009</td>\n",
       "    </tr>\n",
       "    <tr>\n",
       "      <th>97</th>\n",
       "      <td>383635.568</td>\n",
       "      <td>1504.75</td>\n",
       "      <td>2006</td>\n",
       "    </tr>\n",
       "    <tr>\n",
       "      <th>98</th>\n",
       "      <td>225145.248</td>\n",
       "      <td>648.29</td>\n",
       "      <td>2015</td>\n",
       "    </tr>\n",
       "    <tr>\n",
       "      <th>99</th>\n",
       "      <td>274922.856</td>\n",
       "      <td>705.29</td>\n",
       "      <td>2006</td>\n",
       "    </tr>\n",
       "  </tbody>\n",
       "</table>\n",
       "<p>100 rows × 3 columns</p>\n",
       "</div>"
      ],
      "text/plain": [
       "         price     size  year\n",
       "0   234314.144   643.09  2015\n",
       "1   228581.528   656.22  2009\n",
       "2   281626.336   487.29  2018\n",
       "3   401255.608  1504.75  2015\n",
       "4   458674.256  1275.46  2009\n",
       "..         ...      ...   ...\n",
       "95  252460.400   549.80  2009\n",
       "96  310522.592  1037.44  2009\n",
       "97  383635.568  1504.75  2006\n",
       "98  225145.248   648.29  2015\n",
       "99  274922.856   705.29  2006\n",
       "\n",
       "[100 rows x 3 columns]"
      ]
     },
     "execution_count": 64,
     "metadata": {},
     "output_type": "execute_result"
    }
   ],
   "source": [
    "data4=pd.read_csv('real_estate_price_size_year.csv')\n",
    "data4"
   ]
  },
  {
   "cell_type": "code",
   "execution_count": 65,
   "id": "72aad4b7",
   "metadata": {},
   "outputs": [
    {
     "data": {
      "text/html": [
       "<div>\n",
       "<style scoped>\n",
       "    .dataframe tbody tr th:only-of-type {\n",
       "        vertical-align: middle;\n",
       "    }\n",
       "\n",
       "    .dataframe tbody tr th {\n",
       "        vertical-align: top;\n",
       "    }\n",
       "\n",
       "    .dataframe thead th {\n",
       "        text-align: right;\n",
       "    }\n",
       "</style>\n",
       "<table border=\"1\" class=\"dataframe\">\n",
       "  <thead>\n",
       "    <tr style=\"text-align: right;\">\n",
       "      <th></th>\n",
       "      <th>price</th>\n",
       "      <th>size</th>\n",
       "      <th>year</th>\n",
       "    </tr>\n",
       "  </thead>\n",
       "  <tbody>\n",
       "    <tr>\n",
       "      <th>count</th>\n",
       "      <td>100.000000</td>\n",
       "      <td>100.000000</td>\n",
       "      <td>100.000000</td>\n",
       "    </tr>\n",
       "    <tr>\n",
       "      <th>mean</th>\n",
       "      <td>292289.470160</td>\n",
       "      <td>853.024200</td>\n",
       "      <td>2012.600000</td>\n",
       "    </tr>\n",
       "    <tr>\n",
       "      <th>std</th>\n",
       "      <td>77051.727525</td>\n",
       "      <td>297.941951</td>\n",
       "      <td>4.729021</td>\n",
       "    </tr>\n",
       "    <tr>\n",
       "      <th>min</th>\n",
       "      <td>154282.128000</td>\n",
       "      <td>479.750000</td>\n",
       "      <td>2006.000000</td>\n",
       "    </tr>\n",
       "    <tr>\n",
       "      <th>25%</th>\n",
       "      <td>234280.148000</td>\n",
       "      <td>643.330000</td>\n",
       "      <td>2009.000000</td>\n",
       "    </tr>\n",
       "    <tr>\n",
       "      <th>50%</th>\n",
       "      <td>280590.716000</td>\n",
       "      <td>696.405000</td>\n",
       "      <td>2015.000000</td>\n",
       "    </tr>\n",
       "    <tr>\n",
       "      <th>75%</th>\n",
       "      <td>335723.696000</td>\n",
       "      <td>1029.322500</td>\n",
       "      <td>2018.000000</td>\n",
       "    </tr>\n",
       "    <tr>\n",
       "      <th>max</th>\n",
       "      <td>500681.128000</td>\n",
       "      <td>1842.510000</td>\n",
       "      <td>2018.000000</td>\n",
       "    </tr>\n",
       "  </tbody>\n",
       "</table>\n",
       "</div>"
      ],
      "text/plain": [
       "               price         size         year\n",
       "count     100.000000   100.000000   100.000000\n",
       "mean   292289.470160   853.024200  2012.600000\n",
       "std     77051.727525   297.941951     4.729021\n",
       "min    154282.128000   479.750000  2006.000000\n",
       "25%    234280.148000   643.330000  2009.000000\n",
       "50%    280590.716000   696.405000  2015.000000\n",
       "75%    335723.696000  1029.322500  2018.000000\n",
       "max    500681.128000  1842.510000  2018.000000"
      ]
     },
     "execution_count": 65,
     "metadata": {},
     "output_type": "execute_result"
    }
   ],
   "source": [
    "data4.describe()"
   ]
  },
  {
   "cell_type": "code",
   "execution_count": 66,
   "id": "73d9e1b5",
   "metadata": {
    "scrolled": true
   },
   "outputs": [
    {
     "name": "stdout",
     "output_type": "stream",
     "text": [
      "(100, 2)\n",
      "(100,)\n"
     ]
    }
   ],
   "source": [
    "x4=data4[['size','year']]\n",
    "y4=data4['price']\n",
    "print(x4.shape)\n",
    "print(y4.shape)"
   ]
  },
  {
   "cell_type": "code",
   "execution_count": 68,
   "id": "3754f585",
   "metadata": {
    "scrolled": true
   },
   "outputs": [
    {
     "data": {
      "text/plain": [
       "LinearRegression(copy_X=True, fit_intercept=True, n_jobs=None, normalize=False)"
      ]
     },
     "execution_count": 68,
     "metadata": {},
     "output_type": "execute_result"
    }
   ],
   "source": [
    "reg4=LinearRegression()\n",
    "reg4.fit(x4,y4)"
   ]
  },
  {
   "cell_type": "code",
   "execution_count": 70,
   "id": "eb5eef6d",
   "metadata": {
    "scrolled": true
   },
   "outputs": [
    {
     "name": "stdout",
     "output_type": "stream",
     "text": [
      "R Squared Value: 0.7764803683276793\n",
      "Coefficient Value: [ 227.70085401 2916.78532684]\n",
      "Intercept Value: -5772267.01746328\n"
     ]
    }
   ],
   "source": [
    "print(\"R Squared Value:\",reg4.score(x4,y4))\n",
    "print(\"Coefficient Value:\",reg4.coef_)\n",
    "print(\"Intercept Value:\",reg4.intercept_)"
   ]
  },
  {
   "cell_type": "code",
   "execution_count": 72,
   "id": "4f1a2302",
   "metadata": {},
   "outputs": [
    {
     "data": {
      "text/plain": [
       "0.77187171612825"
      ]
     },
     "execution_count": 72,
     "metadata": {},
     "output_type": "execute_result"
    }
   ],
   "source": [
    "r2_new=reg4.score(x4,y4)\n",
    "n=x4.shape[0]\n",
    "p=x4.shape[1]\n",
    "adj_r2_new=1-(1-(r2_new))*((n-1)/(n-p-1))\n",
    "adj_r2_new"
   ]
  },
  {
   "cell_type": "code",
   "execution_count": 74,
   "id": "4ed9167d",
   "metadata": {
    "scrolled": true
   },
   "outputs": [
    {
     "data": {
      "text/plain": [
       "(array([285.92105192,   0.85525799]), array([8.12763222e-31, 3.57340758e-01]))"
      ]
     },
     "execution_count": 74,
     "metadata": {},
     "output_type": "execute_result"
    }
   ],
   "source": [
    "f_regression(x4,y4)"
   ]
  },
  {
   "cell_type": "code",
   "execution_count": 75,
   "id": "da54e09a",
   "metadata": {
    "scrolled": true
   },
   "outputs": [
    {
     "data": {
      "text/plain": [
       "array([8.12763222e-31, 3.57340758e-01])"
      ]
     },
     "execution_count": 75,
     "metadata": {},
     "output_type": "execute_result"
    }
   ],
   "source": [
    "pvalue=f_regression(x4,y4)[1]\n",
    "pvalue"
   ]
  },
  {
   "cell_type": "code",
   "execution_count": 78,
   "id": "b74a54f1",
   "metadata": {
    "scrolled": true
   },
   "outputs": [
    {
     "data": {
      "text/html": [
       "<div>\n",
       "<style scoped>\n",
       "    .dataframe tbody tr th:only-of-type {\n",
       "        vertical-align: middle;\n",
       "    }\n",
       "\n",
       "    .dataframe tbody tr th {\n",
       "        vertical-align: top;\n",
       "    }\n",
       "\n",
       "    .dataframe thead th {\n",
       "        text-align: right;\n",
       "    }\n",
       "</style>\n",
       "<table border=\"1\" class=\"dataframe\">\n",
       "  <thead>\n",
       "    <tr style=\"text-align: right;\">\n",
       "      <th></th>\n",
       "      <th>Features</th>\n",
       "    </tr>\n",
       "  </thead>\n",
       "  <tbody>\n",
       "    <tr>\n",
       "      <th>0</th>\n",
       "      <td>size</td>\n",
       "    </tr>\n",
       "    <tr>\n",
       "      <th>1</th>\n",
       "      <td>year</td>\n",
       "    </tr>\n",
       "  </tbody>\n",
       "</table>\n",
       "</div>"
      ],
      "text/plain": [
       "  Features\n",
       "0     size\n",
       "1     year"
      ]
     },
     "execution_count": 78,
     "metadata": {},
     "output_type": "execute_result"
    }
   ],
   "source": [
    "reg_sum_new=pd.DataFrame(x4.columns.values,columns=['Features'])\n",
    "reg_sum_new"
   ]
  },
  {
   "cell_type": "code",
   "execution_count": 79,
   "id": "2a352145",
   "metadata": {
    "scrolled": true
   },
   "outputs": [
    {
     "data": {
      "text/html": [
       "<div>\n",
       "<style scoped>\n",
       "    .dataframe tbody tr th:only-of-type {\n",
       "        vertical-align: middle;\n",
       "    }\n",
       "\n",
       "    .dataframe tbody tr th {\n",
       "        vertical-align: top;\n",
       "    }\n",
       "\n",
       "    .dataframe thead th {\n",
       "        text-align: right;\n",
       "    }\n",
       "</style>\n",
       "<table border=\"1\" class=\"dataframe\">\n",
       "  <thead>\n",
       "    <tr style=\"text-align: right;\">\n",
       "      <th></th>\n",
       "      <th>Features</th>\n",
       "      <th>Coefficients</th>\n",
       "      <th>P-Values</th>\n",
       "    </tr>\n",
       "  </thead>\n",
       "  <tbody>\n",
       "    <tr>\n",
       "      <th>0</th>\n",
       "      <td>size</td>\n",
       "      <td>227.700854</td>\n",
       "      <td>0.000</td>\n",
       "    </tr>\n",
       "    <tr>\n",
       "      <th>1</th>\n",
       "      <td>year</td>\n",
       "      <td>2916.785327</td>\n",
       "      <td>0.357</td>\n",
       "    </tr>\n",
       "  </tbody>\n",
       "</table>\n",
       "</div>"
      ],
      "text/plain": [
       "  Features  Coefficients  P-Values\n",
       "0     size    227.700854     0.000\n",
       "1     year   2916.785327     0.357"
      ]
     },
     "execution_count": 79,
     "metadata": {},
     "output_type": "execute_result"
    }
   ],
   "source": [
    "reg_sum_new['Coefficients']=reg4.coef_\n",
    "reg_sum_new['P-Values']=pvalue.round(3)\n",
    "reg_sum_new"
   ]
  },
  {
   "cell_type": "code",
   "execution_count": 103,
   "id": "62954455",
   "metadata": {
    "scrolled": true
   },
   "outputs": [
    {
     "data": {
      "text/plain": [
       "StandardScaler(copy=True, with_mean=True, with_std=True)"
      ]
     },
     "execution_count": 103,
     "metadata": {},
     "output_type": "execute_result"
    }
   ],
   "source": [
    "from sklearn.preprocessing import StandardScaler\n",
    "scaler2=StandardScaler()\n",
    "scaler2.fit(x4)"
   ]
  },
  {
   "cell_type": "code",
   "execution_count": 104,
   "id": "5be46dd5",
   "metadata": {
    "scrolled": true
   },
   "outputs": [
    {
     "data": {
      "text/plain": [
       "array([[-0.70816415,  0.51006137],\n",
       "       [-0.66387316, -0.76509206],\n",
       "       [-1.23371919,  1.14763808],\n",
       "       [ 2.19844528,  0.51006137],\n",
       "       [ 1.42498884, -0.76509206],\n",
       "       [-0.937209  , -1.40266877],\n",
       "       [-0.95171405,  0.51006137],\n",
       "       [-0.78328682, -1.40266877],\n",
       "       [-0.57603328,  1.14763808],\n",
       "       [-0.53467702, -0.76509206],\n",
       "       [ 0.69939906, -0.76509206],\n",
       "       [ 3.33780001, -0.76509206],\n",
       "       [-0.53467702,  0.51006137],\n",
       "       [ 0.52699137,  1.14763808],\n",
       "       [ 1.51100715, -1.40266877],\n",
       "       [ 1.77668568, -1.40266877],\n",
       "       [-0.54810263,  1.14763808],\n",
       "       [-0.77276222, -1.40266877],\n",
       "       [-0.58004747, -1.40266877],\n",
       "       [ 0.58943055,  1.14763808],\n",
       "       [-0.78365788,  0.51006137],\n",
       "       [-1.02322731,  0.51006137],\n",
       "       [ 1.19557293,  0.51006137],\n",
       "       [-1.12884431,  0.51006137],\n",
       "       [-1.10378093, -0.76509206],\n",
       "       [ 0.84424715,  1.14763808],\n",
       "       [-0.95171405,  1.14763808],\n",
       "       [ 1.62279723,  0.51006137],\n",
       "       [-0.58004747,  0.51006137],\n",
       "       [ 2.17014356,  0.51006137],\n",
       "       [ 0.5306345 , -1.40266877],\n",
       "       [-0.58004747, -1.40266877],\n",
       "       [-0.8606021 , -0.76509206],\n",
       "       [-1.10378093,  0.51006137],\n",
       "       [ 0.015233  ,  1.14763808],\n",
       "       [-0.77603429,  1.14763808],\n",
       "       [-0.10057126, -1.40266877],\n",
       "       [-0.95387294, -1.40266877],\n",
       "       [-0.56517136,  1.14763808],\n",
       "       [-0.5219598 ,  0.51006137],\n",
       "       [ 0.56983186,  0.51006137],\n",
       "       [-0.57603328,  1.14763808],\n",
       "       [-0.10057126, -0.76509206],\n",
       "       [ 1.62279723, -0.76509206],\n",
       "       [ 0.69939906,  1.14763808],\n",
       "       [-0.5219598 ,  0.51006137],\n",
       "       [-0.7415595 , -0.76509206],\n",
       "       [-0.5219598 , -1.40266877],\n",
       "       [-0.7415595 ,  0.51006137],\n",
       "       [-0.79600403,  0.51006137],\n",
       "       [-0.69328805,  0.51006137],\n",
       "       [ 0.56983186,  0.51006137],\n",
       "       [ 0.56983186, -0.76509206],\n",
       "       [-0.42214483, -1.40266877],\n",
       "       [-0.69328805,  0.51006137],\n",
       "       [ 2.21224194,  1.14763808],\n",
       "       [ 0.6039356 ,  1.14763808],\n",
       "       [ 1.45329055,  0.51006137],\n",
       "       [-0.08495304, -1.40266877],\n",
       "       [-0.95751607,  0.51006137],\n",
       "       [-0.08387359,  1.14763808],\n",
       "       [-0.52125142,  0.51006137],\n",
       "       [ 1.18939985,  0.51006137],\n",
       "       [ 0.56983186, -0.76509206],\n",
       "       [-0.56517136,  0.51006137],\n",
       "       [-0.08748299,  0.51006137],\n",
       "       [ 0.52699137, -1.40266877],\n",
       "       [-1.02285625,  0.51006137],\n",
       "       [-0.56517136,  1.14763808],\n",
       "       [ 2.17014356, -1.40266877],\n",
       "       [ 0.56983186, -0.76509206],\n",
       "       [-0.70708471, -1.40266877],\n",
       "       [-0.66387316,  0.51006137],\n",
       "       [-1.02285625,  0.51006137],\n",
       "       [-0.56517136,  1.14763808],\n",
       "       [-0.56517136,  1.14763808],\n",
       "       [ 1.11464825,  1.14763808],\n",
       "       [ 1.62279723, -1.40266877],\n",
       "       [-0.57603328, -0.76509206],\n",
       "       [ 1.13205431, -1.40266877],\n",
       "       [-0.58004747, -1.40266877],\n",
       "       [ 0.90847416,  0.51006137],\n",
       "       [-0.58004747, -1.40266877],\n",
       "       [-0.70816415,  1.14763808],\n",
       "       [-0.56517136,  1.14763808],\n",
       "       [ 0.52699137,  1.14763808],\n",
       "       [-1.25915362, -1.40266877],\n",
       "       [ 0.59162317, -0.76509206],\n",
       "       [-0.84791862,  1.14763808],\n",
       "       [ 1.29501685,  1.14763808],\n",
       "       [-0.53467702,  1.14763808],\n",
       "       [ 0.73714592,  0.51006137],\n",
       "       [-0.53467702,  0.51006137],\n",
       "       [-0.5219598 ,  1.14763808],\n",
       "       [-0.5219598 , -1.40266877],\n",
       "       [-1.02285625, -0.76509206],\n",
       "       [ 0.62208377, -0.76509206],\n",
       "       [ 2.19844528, -1.40266877],\n",
       "       [-0.69062317,  0.51006137],\n",
       "       [-0.49834693, -1.40266877]])"
      ]
     },
     "execution_count": 104,
     "metadata": {},
     "output_type": "execute_result"
    }
   ],
   "source": [
    "x4_scaled=scaler2.transform(x4)\n",
    "x4_scaled"
   ]
  },
  {
   "cell_type": "code",
   "execution_count": 105,
   "id": "ca08e48d",
   "metadata": {
    "scrolled": true
   },
   "outputs": [
    {
     "data": {
      "text/plain": [
       "LinearRegression(copy_X=True, fit_intercept=True, n_jobs=None, normalize=False)"
      ]
     },
     "execution_count": 105,
     "metadata": {},
     "output_type": "execute_result"
    }
   ],
   "source": [
    "reg5=LinearRegression()\n",
    "reg5.fit(x4_scaled,y4)"
   ]
  },
  {
   "cell_type": "code",
   "execution_count": 106,
   "id": "7489f058",
   "metadata": {},
   "outputs": [
    {
     "name": "stdout",
     "output_type": "stream",
     "text": [
      "0.7764803683276793\n",
      "[67501.57614152 13724.39708231]\n",
      "292289.4701599997\n"
     ]
    }
   ],
   "source": [
    "print(reg5.score(x4_scaled,y4))\n",
    "print(reg5.coef_)\n",
    "print(reg5.intercept_)"
   ]
  },
  {
   "cell_type": "code",
   "execution_count": 109,
   "id": "fc7ee949",
   "metadata": {},
   "outputs": [
    {
     "data": {
      "text/html": [
       "<div>\n",
       "<style scoped>\n",
       "    .dataframe tbody tr th:only-of-type {\n",
       "        vertical-align: middle;\n",
       "    }\n",
       "\n",
       "    .dataframe tbody tr th {\n",
       "        vertical-align: top;\n",
       "    }\n",
       "\n",
       "    .dataframe thead th {\n",
       "        text-align: right;\n",
       "    }\n",
       "</style>\n",
       "<table border=\"1\" class=\"dataframe\">\n",
       "  <thead>\n",
       "    <tr style=\"text-align: right;\">\n",
       "      <th></th>\n",
       "      <th>Features</th>\n",
       "      <th>Weights</th>\n",
       "    </tr>\n",
       "  </thead>\n",
       "  <tbody>\n",
       "    <tr>\n",
       "      <th>0</th>\n",
       "      <td>Bias</td>\n",
       "      <td>292289.470160</td>\n",
       "    </tr>\n",
       "    <tr>\n",
       "      <th>1</th>\n",
       "      <td>Size</td>\n",
       "      <td>67501.576142</td>\n",
       "    </tr>\n",
       "    <tr>\n",
       "      <th>2</th>\n",
       "      <td>Year</td>\n",
       "      <td>13724.397082</td>\n",
       "    </tr>\n",
       "  </tbody>\n",
       "</table>\n",
       "</div>"
      ],
      "text/plain": [
       "  Features        Weights\n",
       "0     Bias  292289.470160\n",
       "1     Size   67501.576142\n",
       "2     Year   13724.397082"
      ]
     },
     "execution_count": 109,
     "metadata": {},
     "output_type": "execute_result"
    }
   ],
   "source": [
    "norm_reg_summary=pd.DataFrame([['Bias'],['Size'],['Year']],columns=['Features'])\n",
    "norm_reg_summary['Weights']=reg5.intercept_,reg5.coef_[0],reg5.coef_[1]\n",
    "norm_reg_summary"
   ]
  }
 ],
 "metadata": {
  "kernelspec": {
   "display_name": "Python 3",
   "language": "python",
   "name": "python3"
  },
  "language_info": {
   "codemirror_mode": {
    "name": "ipython",
    "version": 3
   },
   "file_extension": ".py",
   "mimetype": "text/x-python",
   "name": "python",
   "nbconvert_exporter": "python",
   "pygments_lexer": "ipython3",
   "version": "3.7.1"
  }
 },
 "nbformat": 4,
 "nbformat_minor": 5
}
