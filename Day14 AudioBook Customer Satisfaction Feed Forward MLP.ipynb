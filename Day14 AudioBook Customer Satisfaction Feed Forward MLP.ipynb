{
 "cells": [
  {
   "cell_type": "code",
   "execution_count": 1,
   "id": "92f7c22c",
   "metadata": {},
   "outputs": [],
   "source": [
    "import numpy as np\n",
    "import tensorflow as tf"
   ]
  },
  {
   "cell_type": "markdown",
   "id": "f4f5b607",
   "metadata": {},
   "source": [
    "# Load NPZ File"
   ]
  },
  {
   "cell_type": "markdown",
   "id": "f833af62",
   "metadata": {},
   "source": [
    "np.ndarray.astype() creates a copy of array and change the type of the array"
   ]
  },
  {
   "cell_type": "code",
   "execution_count": 2,
   "id": "1b69f779",
   "metadata": {},
   "outputs": [],
   "source": [
    "#2 Tuple (Inputs,Targets)\n",
    "#Load file npz yg di save\n",
    "#Format input diganti jadi float\n",
    "#Format target diganti jadi integer\n",
    "npz=np.load('Audiobook_train.npz')\n",
    "train_inputs=npz['inputs'].astype(np.float)\n",
    "train_targets=npz['targets'].astype(np.int)"
   ]
  },
  {
   "cell_type": "code",
   "execution_count": 3,
   "id": "995c707a",
   "metadata": {
    "scrolled": false
   },
   "outputs": [
    {
     "name": "stdout",
     "output_type": "stream",
     "text": [
      "[[-0.64419501 -0.67316726  0.04843913 ... -0.41569922 -0.20183481\n",
      "  -0.80255852]\n",
      " [-1.71260612 -1.27851988 -0.39082475 ... -0.41569922 -0.20183481\n",
      "  -0.80255852]\n",
      " [ 0.31737498  1.7482432  -0.28059748 ... -0.41569922 -0.20183481\n",
      "   0.10389727]\n",
      " ...\n",
      " [ 0.31737498  1.7482432  -0.04040075 ... -0.41569922 -0.20183481\n",
      "  -0.08129262]\n",
      " [ 1.27894497  0.41646744  0.04843913 ... -0.41569922 -0.20183481\n",
      "  -0.80255852]\n",
      " [ 1.27894497  0.41646744  0.4794771  ... -0.41569922 -0.20183481\n",
      "  -0.80255852]]\n",
      "[0 1 1 ... 1 0 0]\n"
     ]
    }
   ],
   "source": [
    "print(train_inputs)\n",
    "print(train_targets)"
   ]
  },
  {
   "cell_type": "code",
   "execution_count": 4,
   "id": "bb00aacd",
   "metadata": {},
   "outputs": [
    {
     "name": "stdout",
     "output_type": "stream",
     "text": [
      "(3579, 10)\n",
      "(3579,)\n"
     ]
    }
   ],
   "source": [
    "print(train_inputs.shape)\n",
    "print(train_targets.shape)"
   ]
  },
  {
   "cell_type": "code",
   "execution_count": 5,
   "id": "051032f1",
   "metadata": {
    "scrolled": true
   },
   "outputs": [
    {
     "name": "stdout",
     "output_type": "stream",
     "text": [
      "[[-0.64419501 -0.67316726  3.03115603 ...  0.08747332 -0.20183481\n",
      "   1.89731516]\n",
      " [ 1.27894497  0.41646744  0.04679395 ... -0.41569922 -0.20183481\n",
      "  -0.33471037]\n",
      " [-0.64419501 -0.67316726 -0.15720875 ... -0.41569922 -0.20183481\n",
      "  -0.80255852]\n",
      " ...\n",
      " [-0.07437576  2.95894842  0.10273017 ... -0.41569922 -0.20183481\n",
      "  -0.51015343]\n",
      " [ 1.27894497  0.41646744 -0.39082475 ... -0.41569922 -0.20183481\n",
      "  -0.80255852]\n",
      " [ 1.27894497  0.41646744  0.04843913 ... -0.41569922 -0.20183481\n",
      "  -0.80255852]]\n",
      "\n",
      " (447, 10)\n",
      "\n",
      " [0 0 1 0 1 0 1 0 1 1 0 0 1 1 0 0 0 0 0 1 1 0 0 0 1 1 0 1 1 1 0 0 0 0 0 1 1\n",
      " 0 1 0 0 0 0 0 1 0 0 1 0 1 0 1 1 0 1 0 1 1 1 0 1 1 0 1 0 0 0 0 0 0 1 1 0 0\n",
      " 0 0 0 0 1 1 0 0 1 0 0 1 1 1 1 0 1 0 0 1 1 1 1 0 1 1 0 1 1 1 1 0 0 1 0 0 0\n",
      " 1 0 1 1 1 1 1 1 0 1 0 0 0 1 1 1 0 0 1 1 1 0 1 1 1 1 0 1 1 0 0 0 1 1 0 0 0\n",
      " 0 1 1 0 1 1 1 1 1 1 1 0 0 0 0 1 0 1 1 1 0 0 1 0 0 1 0 1 1 1 1 0 0 0 1 1 1\n",
      " 0 1 0 0 0 1 0 0 1 1 0 0 1 1 1 1 1 0 0 1 0 0 0 1 1 1 1 0 0 1 1 0 1 1 1 1 0\n",
      " 1 1 0 0 0 0 1 0 1 0 0 0 0 1 1 1 0 1 1 1 0 1 0 0 0 0 1 1 0 0 0 0 1 0 0 0 1\n",
      " 0 1 0 1 1 1 0 0 0 1 0 1 1 1 1 0 1 1 1 1 0 1 0 1 1 0 1 0 1 0 1 0 1 0 0 1 1\n",
      " 1 1 1 0 0 0 1 0 0 0 0 1 1 0 0 0 0 0 0 1 0 1 0 0 1 1 1 1 0 1 0 1 0 1 0 0 0\n",
      " 1 0 0 0 1 1 0 0 0 0 1 0 0 0 0 1 0 1 1 1 0 0 0 0 1 1 1 1 1 1 1 1 1 0 0 1 1\n",
      " 0 0 1 0 1 0 0 1 0 0 1 0 0 1 0 0 1 1 1 0 1 0 1 0 1 1 1 0 0 0 0 0 0 1 0 1 1\n",
      " 0 0 1 0 1 1 0 0 0 0 0 1 1 1 1 1 0 0 0 0 0 0 0 0 0 1 1 1 1 1 1 0 1 1 1 0 0\n",
      " 1 1 1]\n",
      "\n",
      " (447,)\n"
     ]
    }
   ],
   "source": [
    "npz_val=np.load('Audiobook_validation.npz')\n",
    "validation_inputs=npz_val['inputs'].astype(np.float)\n",
    "validation_targets=npz_val['targets'].astype(np.int)\n",
    "\n",
    "print(validation_inputs)\n",
    "print('\\n',validation_inputs.shape)\n",
    "print('\\n',validation_targets)\n",
    "print('\\n',validation_targets.shape)"
   ]
  },
  {
   "cell_type": "code",
   "execution_count": 6,
   "id": "9a555c64",
   "metadata": {
    "scrolled": true
   },
   "outputs": [
    {
     "name": "stdout",
     "output_type": "stream",
     "text": [
      "[[-0.64419501 -0.67316726 -0.39082475 ... -0.41569922 -0.20183481\n",
      "   1.78035313]\n",
      " [-0.64419501 -0.67316726 -0.39082475 ... -0.41569922 -0.20183481\n",
      "   0.48402389]\n",
      " [ 0.21053387 -0.18888517 -0.39082475 ... -0.41569922 -0.20183481\n",
      "  -0.80255852]\n",
      " ...\n",
      " [ 1.27894497  0.41646744 -0.16378948 ... -0.41569922 -0.20183481\n",
      "  -0.80255852]\n",
      " [ 0.21053387 -0.18888517 -0.2888234  ... -0.41569922  2.20618899\n",
      "   0.48402389]\n",
      " [ 0.21053387 -0.18888517  0.04843913 ... -0.41569922 -0.20183481\n",
      "   0.2208593 ]]\n",
      "\n",
      " (448, 10)\n",
      "\n",
      " [1 1 1 0 1 0 1 0 0 1 0 1 0 1 0 1 1 1 0 1 1 0 1 1 1 1 0 0 1 1 0 1 1 1 0 0 1\n",
      " 0 0 1 0 1 0 1 0 0 1 1 0 1 1 1 0 0 0 0 1 0 1 0 1 0 1 0 0 0 0 0 1 1 0 0 0 1\n",
      " 0 0 1 1 1 0 1 0 1 1 1 0 0 0 1 1 0 1 1 1 1 1 1 0 1 0 1 0 0 0 0 1 0 0 1 1 0\n",
      " 0 0 1 1 1 1 0 0 0 0 1 1 1 1 1 0 1 1 0 1 1 1 0 1 1 1 1 0 1 1 0 0 1 0 0 0 0\n",
      " 0 0 0 1 1 1 1 0 1 0 1 0 0 1 1 1 0 1 1 0 0 1 1 1 0 0 1 0 0 0 0 1 1 1 1 0 1\n",
      " 1 1 0 0 1 1 1 0 1 1 0 1 0 1 1 0 0 0 1 1 0 1 0 1 1 1 1 0 1 0 0 0 1 1 0 1 0\n",
      " 1 1 1 1 0 1 1 1 0 1 1 1 1 1 1 1 1 1 1 1 0 1 1 0 1 0 0 1 1 1 1 0 0 1 0 0 0\n",
      " 1 1 1 1 1 0 1 0 1 1 0 1 0 0 1 1 1 0 1 1 0 0 1 1 1 0 0 0 1 0 0 0 1 0 0 1 0\n",
      " 0 0 1 0 0 0 1 0 0 0 0 1 0 0 0 0 0 1 1 0 0 1 1 0 0 1 0 0 0 1 1 1 0 1 1 1 0\n",
      " 0 1 1 1 1 1 0 1 1 1 1 0 1 0 0 1 0 1 0 0 0 0 1 0 1 1 0 0 0 0 0 0 1 0 1 0 0\n",
      " 0 0 0 0 1 0 1 0 1 1 1 0 0 0 1 1 0 1 0 0 1 0 0 0 1 1 0 0 1 0 0 0 1 1 0 1 0\n",
      " 1 0 0 0 0 0 0 1 0 1 1 0 0 0 0 1 1 1 0 1 1 1 0 1 0 0 0 1 1 1 1 1 1 1 0 1 1\n",
      " 1 1 1 1]\n",
      "\n",
      " (448,)\n"
     ]
    }
   ],
   "source": [
    "npz_test=np.load('Audiobook_test.npz')\n",
    "test_inputs=npz_test['inputs'].astype(np.float)\n",
    "test_targets=npz_test['targets'].astype(np.int)\n",
    "\n",
    "print(test_inputs)\n",
    "print('\\n',test_inputs.shape)\n",
    "print('\\n',test_targets)\n",
    "print('\\n',test_targets.shape)"
   ]
  },
  {
   "cell_type": "markdown",
   "id": "25cc7fc5",
   "metadata": {},
   "source": [
    "# Multi Layer Perceptron Model"
   ]
  },
  {
   "cell_type": "markdown",
   "id": "39213bcf",
   "metadata": {},
   "source": [
    "Early Stopping: Stops traiing when a monitored quantity has stopped improving (Validation Loss)"
   ]
  },
  {
   "cell_type": "markdown",
   "id": "0ac48f2d",
   "metadata": {},
   "source": [
    "tf.keras.callbacks.EarlyStopping(patience) configures the early stopping mechanism of the algorithm\n",
    "\n",
    "Patience: lets us decide how many consecutive increases we can tolerate\n",
    "\n",
    "Patience=10 --> 10 epochs to wait before early stopping occurs if no progress on validation set"
   ]
  },
  {
   "cell_type": "code",
   "execution_count": 10,
   "id": "522d0e4e",
   "metadata": {},
   "outputs": [
    {
     "name": "stdout",
     "output_type": "stream",
     "text": [
      "Epoch 1/100\n",
      "WARNING:tensorflow:AutoGraph could not transform <function Model.make_train_function.<locals>.train_function at 0x0000023123B172F0> and will run it as-is.\n",
      "Please report this to the TensorFlow team. When filing the bug, set the verbosity to 10 (on Linux, `export AUTOGRAPH_VERBOSITY=10`) and attach the full output.\n",
      "Cause: 'arguments' object has no attribute 'posonlyargs'\n",
      "To silence this warning, decorate the function with @tf.autograph.experimental.do_not_convert\n",
      "WARNING: AutoGraph could not transform <function Model.make_train_function.<locals>.train_function at 0x0000023123B172F0> and will run it as-is.\n",
      "Please report this to the TensorFlow team. When filing the bug, set the verbosity to 10 (on Linux, `export AUTOGRAPH_VERBOSITY=10`) and attach the full output.\n",
      "Cause: 'arguments' object has no attribute 'posonlyargs'\n",
      "To silence this warning, decorate the function with @tf.autograph.experimental.do_not_convert\n",
      " 1/36 [..............................] - ETA: 12s - loss: 0.6592 - accuracy: 0.5900WARNING:tensorflow:AutoGraph could not transform <function Model.make_test_function.<locals>.test_function at 0x0000023123BAB840> and will run it as-is.\n",
      "Please report this to the TensorFlow team. When filing the bug, set the verbosity to 10 (on Linux, `export AUTOGRAPH_VERBOSITY=10`) and attach the full output.\n",
      "Cause: 'arguments' object has no attribute 'posonlyargs'\n",
      "To silence this warning, decorate the function with @tf.autograph.experimental.do_not_convert\n",
      "WARNING: AutoGraph could not transform <function Model.make_test_function.<locals>.test_function at 0x0000023123BAB840> and will run it as-is.\n",
      "Please report this to the TensorFlow team. When filing the bug, set the verbosity to 10 (on Linux, `export AUTOGRAPH_VERBOSITY=10`) and attach the full output.\n",
      "Cause: 'arguments' object has no attribute 'posonlyargs'\n",
      "To silence this warning, decorate the function with @tf.autograph.experimental.do_not_convert\n",
      "36/36 [==============================] - 1s 7ms/step - loss: 0.5962 - accuracy: 0.6605 - val_loss: 0.4914 - val_accuracy: 0.7696\n",
      "Epoch 2/100\n",
      "36/36 [==============================] - 0s 2ms/step - loss: 0.4680 - accuracy: 0.7641 - val_loss: 0.4386 - val_accuracy: 0.7360\n",
      "Epoch 3/100\n",
      "36/36 [==============================] - 0s 2ms/step - loss: 0.4078 - accuracy: 0.7835 - val_loss: 0.4148 - val_accuracy: 0.8031\n",
      "Epoch 4/100\n",
      "36/36 [==============================] - 0s 2ms/step - loss: 0.3929 - accuracy: 0.8033 - val_loss: 0.4027 - val_accuracy: 0.7875\n",
      "Epoch 5/100\n",
      "36/36 [==============================] - 0s 2ms/step - loss: 0.3739 - accuracy: 0.8042 - val_loss: 0.3994 - val_accuracy: 0.7919\n",
      "Epoch 6/100\n",
      "36/36 [==============================] - 0s 3ms/step - loss: 0.3676 - accuracy: 0.8107 - val_loss: 0.3873 - val_accuracy: 0.8076\n",
      "Epoch 7/100\n",
      "36/36 [==============================] - 0s 2ms/step - loss: 0.3509 - accuracy: 0.8173 - val_loss: 0.3839 - val_accuracy: 0.7875\n",
      "Epoch 8/100\n",
      "36/36 [==============================] - 0s 3ms/step - loss: 0.3633 - accuracy: 0.8106 - val_loss: 0.3791 - val_accuracy: 0.8009\n",
      "Epoch 9/100\n",
      "36/36 [==============================] - 0s 3ms/step - loss: 0.3464 - accuracy: 0.8169 - val_loss: 0.3779 - val_accuracy: 0.7964\n",
      "Epoch 10/100\n",
      "36/36 [==============================] - 0s 2ms/step - loss: 0.3417 - accuracy: 0.8153 - val_loss: 0.3716 - val_accuracy: 0.8143\n",
      "Epoch 11/100\n",
      "36/36 [==============================] - 0s 3ms/step - loss: 0.3350 - accuracy: 0.8166 - val_loss: 0.3758 - val_accuracy: 0.8076\n",
      "Epoch 12/100\n",
      "36/36 [==============================] - 0s 3ms/step - loss: 0.3382 - accuracy: 0.8185 - val_loss: 0.3655 - val_accuracy: 0.8076\n",
      "Epoch 13/100\n",
      "36/36 [==============================] - 0s 3ms/step - loss: 0.3290 - accuracy: 0.8286 - val_loss: 0.3672 - val_accuracy: 0.7987\n",
      "Epoch 14/100\n",
      "36/36 [==============================] - 0s 3ms/step - loss: 0.3410 - accuracy: 0.8206 - val_loss: 0.3651 - val_accuracy: 0.8098\n",
      "Epoch 15/100\n",
      "36/36 [==============================] - 0s 2ms/step - loss: 0.3223 - accuracy: 0.8249 - val_loss: 0.3604 - val_accuracy: 0.8076\n",
      "Epoch 16/100\n",
      "36/36 [==============================] - 0s 2ms/step - loss: 0.3274 - accuracy: 0.8348 - val_loss: 0.3636 - val_accuracy: 0.8076\n",
      "Epoch 17/100\n",
      "36/36 [==============================] - 0s 2ms/step - loss: 0.3254 - accuracy: 0.8240 - val_loss: 0.3658 - val_accuracy: 0.8121\n",
      "Epoch 18/100\n",
      "36/36 [==============================] - 0s 2ms/step - loss: 0.3252 - accuracy: 0.8266 - val_loss: 0.3590 - val_accuracy: 0.8076\n",
      "Epoch 19/100\n",
      "36/36 [==============================] - 0s 2ms/step - loss: 0.3157 - accuracy: 0.8276 - val_loss: 0.3599 - val_accuracy: 0.8076\n",
      "Epoch 20/100\n",
      "36/36 [==============================] - 0s 3ms/step - loss: 0.3251 - accuracy: 0.8302 - val_loss: 0.3565 - val_accuracy: 0.8121\n",
      "Epoch 21/100\n",
      "36/36 [==============================] - 0s 3ms/step - loss: 0.3239 - accuracy: 0.8298 - val_loss: 0.3554 - val_accuracy: 0.8233\n",
      "Epoch 22/100\n",
      "36/36 [==============================] - 0s 3ms/step - loss: 0.3221 - accuracy: 0.8358 - val_loss: 0.3562 - val_accuracy: 0.8143\n",
      "Epoch 23/100\n",
      "36/36 [==============================] - 0s 2ms/step - loss: 0.3141 - accuracy: 0.8240 - val_loss: 0.3617 - val_accuracy: 0.8098\n",
      "Epoch 24/100\n",
      "36/36 [==============================] - 0s 2ms/step - loss: 0.3125 - accuracy: 0.8311 - val_loss: 0.3714 - val_accuracy: 0.7830\n",
      "Epoch 25/100\n",
      "36/36 [==============================] - 0s 2ms/step - loss: 0.3232 - accuracy: 0.8267 - val_loss: 0.3582 - val_accuracy: 0.8098\n",
      "Epoch 26/100\n",
      "36/36 [==============================] - 0s 3ms/step - loss: 0.3092 - accuracy: 0.8355 - val_loss: 0.3563 - val_accuracy: 0.8009\n",
      "Epoch 27/100\n",
      "36/36 [==============================] - 0s 3ms/step - loss: 0.3225 - accuracy: 0.8363 - val_loss: 0.3525 - val_accuracy: 0.8143\n",
      "Epoch 28/100\n",
      "36/36 [==============================] - 0s 3ms/step - loss: 0.3200 - accuracy: 0.8253 - val_loss: 0.3542 - val_accuracy: 0.8143\n",
      "Epoch 29/100\n",
      "36/36 [==============================] - 0s 3ms/step - loss: 0.3105 - accuracy: 0.8396 - val_loss: 0.3550 - val_accuracy: 0.8031\n",
      "Epoch 30/100\n",
      "36/36 [==============================] - 0s 2ms/step - loss: 0.3139 - accuracy: 0.8282 - val_loss: 0.3556 - val_accuracy: 0.8076\n",
      "Epoch 31/100\n",
      "36/36 [==============================] - 0s 4ms/step - loss: 0.3111 - accuracy: 0.8345 - val_loss: 0.3548 - val_accuracy: 0.8121\n",
      "Epoch 32/100\n",
      "36/36 [==============================] - 0s 3ms/step - loss: 0.3151 - accuracy: 0.8336 - val_loss: 0.3544 - val_accuracy: 0.8054\n",
      "Epoch 33/100\n",
      "36/36 [==============================] - 0s 3ms/step - loss: 0.2999 - accuracy: 0.8407 - val_loss: 0.3617 - val_accuracy: 0.7942\n",
      "Epoch 34/100\n",
      "36/36 [==============================] - 0s 2ms/step - loss: 0.3097 - accuracy: 0.8301 - val_loss: 0.3497 - val_accuracy: 0.8143\n",
      "Epoch 35/100\n",
      "36/36 [==============================] - 0s 2ms/step - loss: 0.3175 - accuracy: 0.8258 - val_loss: 0.3552 - val_accuracy: 0.8054\n",
      "Epoch 36/100\n",
      "36/36 [==============================] - 0s 2ms/step - loss: 0.3202 - accuracy: 0.8311 - val_loss: 0.3551 - val_accuracy: 0.8009\n",
      "Epoch 37/100\n",
      "36/36 [==============================] - 0s 2ms/step - loss: 0.3148 - accuracy: 0.8240 - val_loss: 0.3536 - val_accuracy: 0.8166\n",
      "Epoch 38/100\n",
      "36/36 [==============================] - 0s 2ms/step - loss: 0.3131 - accuracy: 0.8289 - val_loss: 0.3509 - val_accuracy: 0.8098\n",
      "Epoch 39/100\n",
      "36/36 [==============================] - 0s 2ms/step - loss: 0.3086 - accuracy: 0.8348 - val_loss: 0.3499 - val_accuracy: 0.8076\n",
      "Epoch 40/100\n",
      "36/36 [==============================] - 0s 3ms/step - loss: 0.3158 - accuracy: 0.8230 - val_loss: 0.3589 - val_accuracy: 0.8166\n",
      "Epoch 41/100\n",
      "36/36 [==============================] - 0s 3ms/step - loss: 0.3044 - accuracy: 0.8413 - val_loss: 0.3584 - val_accuracy: 0.8076\n",
      "Epoch 42/100\n",
      "36/36 [==============================] - 0s 3ms/step - loss: 0.3098 - accuracy: 0.8309 - val_loss: 0.3553 - val_accuracy: 0.8031\n",
      "Epoch 43/100\n",
      "36/36 [==============================] - 0s 3ms/step - loss: 0.3102 - accuracy: 0.8319 - val_loss: 0.3555 - val_accuracy: 0.8076\n",
      "Epoch 44/100\n",
      "36/36 [==============================] - 0s 2ms/step - loss: 0.3129 - accuracy: 0.8243 - val_loss: 0.3528 - val_accuracy: 0.8143\n"
     ]
    }
   ],
   "source": [
    "#10 input nodes\n",
    "#2 output nodes\n",
    "#2 hidden layers w/ 50 nodes each (not too big not too small)\n",
    "#Sparse categorical Crossentropy biar target jadi ONE HOT ENCODED\n",
    "\n",
    "input_size=10 \n",
    "output_size=2 #0 and 1s only\n",
    "hiddenlayer_size=50\n",
    "\n",
    "early_stopping=tf.keras.callbacks.EarlyStopping(patience=10)\n",
    "\n",
    "model=tf.keras.Sequential([tf.keras.layers.Dense(hiddenlayer_size,activation='relu'),\n",
    "                           tf.keras.layers.Dense(hiddenlayer_size,activation='relu'),\n",
    "                           tf.keras.layers.Dense(output_size,activation='softmax')])\n",
    "\n",
    "model.compile(optimizer='adam',loss='sparse_categorical_crossentropy',metrics=['accuracy'])\n",
    "history=model.fit(train_inputs,train_targets,batch_size=100,epochs=100,callbacks=[early_stopping],validation_data=(validation_inputs,validation_targets),verbose=1)"
   ]
  },
  {
   "cell_type": "markdown",
   "id": "19c05c3c",
   "metadata": {},
   "source": [
    "# Test Model"
   ]
  },
  {
   "cell_type": "code",
   "execution_count": 11,
   "id": "09aee05d",
   "metadata": {},
   "outputs": [
    {
     "name": "stdout",
     "output_type": "stream",
     "text": [
      "14/14 [==============================] - 0s 2ms/step - loss: 0.3070 - accuracy: 0.8147\n"
     ]
    }
   ],
   "source": [
    "#Returns loss value and metrics values for the model in 'test mode'\n",
    "test_loss,test_acc=model.evaluate(test_inputs,test_targets)"
   ]
  },
  {
   "cell_type": "code",
   "execution_count": 13,
   "id": "0b4951a1",
   "metadata": {
    "scrolled": true
   },
   "outputs": [
    {
     "name": "stdout",
     "output_type": "stream",
     "text": [
      "Test Loss:0.30701348185539246\n",
      "Test Accuracy:81.47321343421936%\n"
     ]
    }
   ],
   "source": [
    "print(f'Test Loss:{test_loss}\\nTest Accuracy:{test_acc*100}%')"
   ]
  },
  {
   "cell_type": "code",
   "execution_count": 14,
   "id": "6cad6b58",
   "metadata": {
    "scrolled": true
   },
   "outputs": [
    {
     "data": {
      "text/plain": [
       "dict_keys(['loss', 'accuracy', 'val_loss', 'val_accuracy'])"
      ]
     },
     "execution_count": 14,
     "metadata": {},
     "output_type": "execute_result"
    }
   ],
   "source": [
    "history_dict=history.history\n",
    "history_dict.keys()"
   ]
  },
  {
   "cell_type": "code",
   "execution_count": 16,
   "id": "456083cc",
   "metadata": {
    "scrolled": true
   },
   "outputs": [
    {
     "data": {
      "image/png": "[encoded data removed]",
      "text/plain": [
       "<Figure size 432x288 with 1 Axes>"
      ]
     },
     "metadata": {
      "needs_background": "light"
     },
     "output_type": "display_data"
    }
   ],
   "source": [
    "import matplotlib.pyplot as plt\n",
    "\n",
    "loss_train = history.history['loss']\n",
    "loss_val = history.history['val_loss']\n",
    "plt.plot(loss_train, 'g', label='Training Loss')\n",
    "plt.plot(loss_val, 'b', label='Validation Loss')\n",
    "plt.title('Training and Validation loss')\n",
    "plt.xlabel('Epochs')\n",
    "plt.ylabel('Loss')\n",
    "plt.legend()\n",
    "plt.show()"
   ]
  },
  {
   "cell_type": "markdown",
   "id": "32cd0199",
   "metadata": {},
   "source": [
    "Overfitting spotted, but early stopping already make the model better\n",
    "\n",
    "Another solution is to increase or decrease number of dense units\n",
    "\n",
    "Or increasing or decreasing number of hidden layers"
   ]
  },
  {
   "cell_type": "code",
   "execution_count": 17,
   "id": "84e9304a",
   "metadata": {
    "scrolled": true
   },
   "outputs": [
    {
     "data": {
      "image/png": "[encoded data removed]",
      "text/plain": [
       "<Figure size 432x288 with 1 Axes>"
      ]
     },
     "metadata": {
      "needs_background": "light"
     },
     "output_type": "display_data"
    }
   ],
   "source": [
    "loss_train = history.history['accuracy']\n",
    "loss_val = history.history['val_accuracy']\n",
    "plt.plot(loss_train, 'g', label='Training Accuracy')\n",
    "plt.plot(loss_val, 'b', label='Validation Accuracy')\n",
    "plt.title('Training and Validation accuracy')\n",
    "plt.xlabel('Epochs')\n",
    "plt.ylabel('Accuracy')\n",
    "plt.legend()\n",
    "plt.show()"
   ]
  },
  {
   "cell_type": "code",
   "execution_count": 18,
   "id": "2bc7536d",
   "metadata": {
    "scrolled": true
   },
   "outputs": [
    {
     "name": "stdout",
     "output_type": "stream",
     "text": [
      "Model: \"sequential_1\"\n",
      "_________________________________________________________________\n",
      "Layer (type)                 Output Shape              Param #   \n",
      "=================================================================\n",
      "dense_3 (Dense)              (None, 50)                550       \n",
      "_________________________________________________________________\n",
      "dense_4 (Dense)              (None, 50)                2550      \n",
      "_________________________________________________________________\n",
      "dense_5 (Dense)              (None, 2)                 102       \n",
      "=================================================================\n",
      "Total params: 3,202\n",
      "Trainable params: 3,202\n",
      "Non-trainable params: 0\n",
      "_________________________________________________________________\n"
     ]
    }
   ],
   "source": [
    "model.summary()"
   ]
  },
  {
   "cell_type": "code",
   "execution_count": 19,
   "id": "15a0f8fb",
   "metadata": {},
   "outputs": [
    {
     "name": "stdout",
     "output_type": "stream",
     "text": [
      "Model Successfully Saved\n"
     ]
    }
   ],
   "source": [
    "model.save_weights('Audiobook.h5')\n",
    "print(\"Model Successfully Saved\")"
   ]
  }
 ],
 "metadata": {
  "kernelspec": {
   "display_name": "Python 3",
   "language": "python",
   "name": "python3"
  },
  "language_info": {
   "codemirror_mode": {
    "name": "ipython",
    "version": 3
   },
   "file_extension": ".py",
   "mimetype": "text/x-python",
   "name": "python",
   "nbconvert_exporter": "python",
   "pygments_lexer": "ipython3",
   "version": "3.7.1"
  }
 },
 "nbformat": 4,
 "nbformat_minor": 5
}
