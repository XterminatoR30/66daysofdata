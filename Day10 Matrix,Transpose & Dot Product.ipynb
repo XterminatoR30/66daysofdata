{
 "cells": [
  {
   "cell_type": "code",
   "execution_count": 1,
   "id": "25bff784",
   "metadata": {
    "scrolled": true
   },
   "outputs": [
    {
     "name": "stdout",
     "output_type": "stream",
     "text": [
      "[-5  4  3]\n",
      "(3,)\n",
      "<class 'numpy.ndarray'>\n"
     ]
    }
   ],
   "source": [
    "import numpy as np\n",
    "#Row Vector\n",
    "vector=np.array([-5,4,3])\n",
    "print(vector)\n",
    "print(vector.shape)\n",
    "print(type(vector))"
   ]
  },
  {
   "cell_type": "code",
   "execution_count": 2,
   "id": "97bc9cba",
   "metadata": {},
   "outputs": [
    {
     "name": "stdout",
     "output_type": "stream",
     "text": [
      "5\n",
      "()\n",
      "<class 'numpy.ndarray'>\n"
     ]
    }
   ],
   "source": [
    "#Scalar has 0 shape\n",
    "scalar=np.array(5)\n",
    "print(scalar)\n",
    "print(scalar.shape)\n",
    "print(type(scalar))"
   ]
  },
  {
   "cell_type": "code",
   "execution_count": 3,
   "id": "f4274843",
   "metadata": {
    "scrolled": true
   },
   "outputs": [
    {
     "name": "stdout",
     "output_type": "stream",
     "text": [
      "[[ 5 12  6]\n",
      " [-3  0 14]]\n",
      "(2, 3)\n",
      "<class 'numpy.ndarray'>\n"
     ]
    }
   ],
   "source": [
    "matrix=np.array([[5,12,6],[-3,0,14]])\n",
    "print(matrix)\n",
    "print(matrix.shape)\n",
    "print(type(matrix))"
   ]
  },
  {
   "cell_type": "code",
   "execution_count": 4,
   "id": "291d89e2",
   "metadata": {
    "scrolled": true
   },
   "outputs": [
    {
     "data": {
      "text/plain": [
       "array([[-5,  4,  3]])"
      ]
     },
     "execution_count": 4,
     "metadata": {},
     "output_type": "execute_result"
    }
   ],
   "source": [
    "vector.reshape(1,3)"
   ]
  },
  {
   "cell_type": "code",
   "execution_count": 5,
   "id": "ccb342be",
   "metadata": {
    "scrolled": true
   },
   "outputs": [
    {
     "data": {
      "text/plain": [
       "array([[-5],\n",
       "       [ 4],\n",
       "       [ 3]])"
      ]
     },
     "execution_count": 5,
     "metadata": {},
     "output_type": "execute_result"
    }
   ],
   "source": [
    "vector.reshape(3,1)"
   ]
  },
  {
   "cell_type": "code",
   "execution_count": 6,
   "id": "1e645099",
   "metadata": {
    "scrolled": true
   },
   "outputs": [
    {
     "data": {
      "text/plain": [
       "array([[ 9,  8,  7],\n",
       "       [-3,  0, 14]])"
      ]
     },
     "execution_count": 6,
     "metadata": {},
     "output_type": "execute_result"
    }
   ],
   "source": [
    "matrix2=np.array([[9,8,7],[-3,0,14]])\n",
    "matrix2"
   ]
  },
  {
   "cell_type": "code",
   "execution_count": 7,
   "id": "4569c901",
   "metadata": {
    "scrolled": true
   },
   "outputs": [
    {
     "name": "stdout",
     "output_type": "stream",
     "text": [
      "[[[ 5 12  6]\n",
      "  [-3  0 14]]\n",
      "\n",
      " [[ 9  8  7]\n",
      "  [-3  0 14]]]\n",
      "(2, 2, 3)\n"
     ]
    }
   ],
   "source": [
    "t=np.array([matrix,matrix2])\n",
    "print(t)\n",
    "print(t.shape)"
   ]
  },
  {
   "cell_type": "code",
   "execution_count": 8,
   "id": "9d542a15",
   "metadata": {
    "scrolled": true
   },
   "outputs": [
    {
     "name": "stdout",
     "output_type": "stream",
     "text": [
      "[[14 20 13]\n",
      " [-6  0 28]]\n",
      "(2, 3)\n"
     ]
    }
   ],
   "source": [
    "add_m=matrix+matrix2\n",
    "print(add_m)\n",
    "print(add_m.shape)"
   ]
  },
  {
   "cell_type": "code",
   "execution_count": 9,
   "id": "67b52ee4",
   "metadata": {
    "scrolled": true
   },
   "outputs": [
    {
     "name": "stdout",
     "output_type": "stream",
     "text": [
      "[[-4  4 -1]\n",
      " [ 0  0  0]]\n",
      "(2, 3)\n"
     ]
    }
   ],
   "source": [
    "subtract_m=matrix-matrix2\n",
    "print(subtract_m)\n",
    "print(subtract_m.shape)"
   ]
  },
  {
   "cell_type": "code",
   "execution_count": 10,
   "id": "a8411c97",
   "metadata": {
    "scrolled": true
   },
   "outputs": [
    {
     "name": "stdout",
     "output_type": "stream",
     "text": [
      "[-4 -2  0  2  4]\n",
      "(5,)\n"
     ]
    }
   ],
   "source": [
    "vector1=np.array([1,2,3,4,5])\n",
    "vector2=np.array([5,4,3,2,1])\n",
    "subtract_v=vector1-vector2\n",
    "print(subtract_v)\n",
    "print(subtract_v.shape)"
   ]
  },
  {
   "cell_type": "code",
   "execution_count": 11,
   "id": "61695ff3",
   "metadata": {
    "scrolled": true
   },
   "outputs": [
    {
     "name": "stdout",
     "output_type": "stream",
     "text": [
      "[6 6 6 6 6]\n",
      "(5,)\n"
     ]
    }
   ],
   "source": [
    "add_v=vector1+vector2\n",
    "print(add_v)\n",
    "print(add_v.shape)"
   ]
  },
  {
   "cell_type": "markdown",
   "id": "1512cad2",
   "metadata": {},
   "source": [
    "# Transposing Vectors"
   ]
  },
  {
   "cell_type": "markdown",
   "id": "49a5adbc",
   "metadata": {},
   "source": [
    "array.T returns the transpose of an array"
   ]
  },
  {
   "cell_type": "code",
   "execution_count": 12,
   "id": "8eea6934",
   "metadata": {
    "scrolled": true
   },
   "outputs": [
    {
     "name": "stdout",
     "output_type": "stream",
     "text": [
      "[[ 5 12  6]\n",
      " [-3  0 14]]\n",
      "[[ 5 -3]\n",
      " [12  0]\n",
      " [ 6 14]]\n"
     ]
    }
   ],
   "source": [
    "a=np.array([[5,12,6],[-3,0,14]])\n",
    "print(a)\n",
    "print(a.T)"
   ]
  },
  {
   "cell_type": "code",
   "execution_count": 13,
   "id": "fa6b9f2a",
   "metadata": {
    "scrolled": true
   },
   "outputs": [
    {
     "name": "stdout",
     "output_type": "stream",
     "text": [
      "[[ 4  3]\n",
      " [-2  4]]\n",
      "[[ 4 -2]\n",
      " [ 3  4]]\n"
     ]
    }
   ],
   "source": [
    "b=np.array([[4,3],[-2,4]])\n",
    "print(b)\n",
    "print(b.T)"
   ]
  },
  {
   "cell_type": "code",
   "execution_count": 14,
   "id": "27bdd7e5",
   "metadata": {
    "scrolled": true
   },
   "outputs": [
    {
     "name": "stdout",
     "output_type": "stream",
     "text": [
      "[[ 4 -5]\n",
      " [ 8 12]\n",
      " [-2 -3]\n",
      " [10  0]]\n",
      "[[ 4  8 -2 10]\n",
      " [-5 12 -3  0]]\n"
     ]
    }
   ],
   "source": [
    "c=np.array([[4,-5],[8,12],[-2,-3],[10,0]])\n",
    "print(c)\n",
    "print(c.T)"
   ]
  },
  {
   "cell_type": "markdown",
   "id": "10b429dc",
   "metadata": {},
   "source": [
    "np.dot() returns the dot product of two objects"
   ]
  },
  {
   "cell_type": "code",
   "execution_count": 15,
   "id": "c08ac0e6",
   "metadata": {
    "scrolled": false
   },
   "outputs": [
    {
     "data": {
      "text/plain": [
       "35"
      ]
     },
     "execution_count": 15,
     "metadata": {},
     "output_type": "execute_result"
    }
   ],
   "source": [
    "np.dot(vector1,vector2)"
   ]
  },
  {
   "cell_type": "code",
   "execution_count": 16,
   "id": "23cd2cbc",
   "metadata": {
    "scrolled": true
   },
   "outputs": [
    {
     "data": {
      "text/plain": [
       "30"
      ]
     },
     "execution_count": 16,
     "metadata": {},
     "output_type": "execute_result"
    }
   ],
   "source": [
    "np.dot(5,6)"
   ]
  },
  {
   "cell_type": "code",
   "execution_count": 24,
   "id": "8409e7cb",
   "metadata": {
    "scrolled": true
   },
   "outputs": [
    {
     "name": "stdout",
     "output_type": "stream",
     "text": [
      "[[ 5 12  6]\n",
      " [-3  0 14]]\n",
      "(2, 3)\n",
      "[[15 36 18]\n",
      " [-9  0 42]]\n"
     ]
    }
   ],
   "source": [
    "e=np.array([[5,12,6],[-3,0,14]])\n",
    "print(e)\n",
    "print(e.shape)\n",
    "f=3*e\n",
    "print(f)"
   ]
  },
  {
   "cell_type": "code",
   "execution_count": 25,
   "id": "7e406b5b",
   "metadata": {},
   "outputs": [
    {
     "name": "stdout",
     "output_type": "stream",
     "text": [
      "[[ 2 -1]\n",
      " [ 8  0]\n",
      " [ 3  0]]\n",
      "(3, 2)\n",
      "[[124  -5]\n",
      " [ 36   3]]\n",
      "(2, 2)\n"
     ]
    }
   ],
   "source": [
    "g=np.array([[2,-1],[8,0],[3,0]])\n",
    "print(g)\n",
    "print(g.shape)\n",
    "h=np.dot(e,g)\n",
    "print(h)\n",
    "print(h.shape)"
   ]
  }
 ],
 "metadata": {
  "kernelspec": {
   "display_name": "Python 3",
   "language": "python",
   "name": "python3"
  },
  "language_info": {
   "codemirror_mode": {
    "name": "ipython",
    "version": 3
   },
   "file_extension": ".py",
   "mimetype": "text/x-python",
   "name": "python",
   "nbconvert_exporter": "python",
   "pygments_lexer": "ipython3",
   "version": "3.7.1"
  }
 },
 "nbformat": 4,
 "nbformat_minor": 5
}
